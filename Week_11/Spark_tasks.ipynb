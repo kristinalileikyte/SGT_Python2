{
 "cells": [
  {
   "cell_type": "markdown",
   "id": "3551802c",
   "metadata": {},
   "source": [
    "# Spark Tasks:\n",
    "\n",
    "1. **Data Aggregation:**\n",
    "   Read a dataset containing sales transactions. Calculate the total sales amount for each product category using Spark's `groupBy` and aggregation functions.\n",
    "\n",
    "2. **Log Analysis:**\n",
    "   Analyze server log data to find the most frequently accessed URLs and their corresponding IP addresses. Use Spark SQL to query and visualize the results."
   ]
  },
  {
   "cell_type": "markdown",
   "id": "35d29ba4",
   "metadata": {},
   "source": [
    "## 1. Data Aggregation: "
   ]
  },
  {
   "cell_type": "markdown",
   "id": "32deed2b",
   "metadata": {},
   "source": [
    "#### Importing libraries:"
   ]
  },
  {
   "cell_type": "code",
   "execution_count": 1,
   "id": "264e8034",
   "metadata": {},
   "outputs": [],
   "source": [
    "from pyspark.sql import SparkSession\n",
    "from pyspark.sql.functions import sum, date_format, desc"
   ]
  },
  {
   "cell_type": "markdown",
   "id": "4d15d1d9",
   "metadata": {},
   "source": [
    "#### Connecting to server:"
   ]
  },
  {
   "cell_type": "code",
   "execution_count": 2,
   "id": "03c0bde1",
   "metadata": {},
   "outputs": [],
   "source": [
    "spark = SparkSession \\\n",
    "    .builder \\\n",
    "    .appName(\"Sales\") \\\n",
    "    .getOrCreate()"
   ]
  },
  {
   "cell_type": "markdown",
   "id": "984a05a7",
   "metadata": {},
   "source": [
    "### Read a dataset containing sales transactions:"
   ]
  },
  {
   "cell_type": "code",
   "execution_count": 3,
   "id": "e178eba2",
   "metadata": {},
   "outputs": [
    {
     "name": "stdout",
     "output_type": "stream",
     "text": [
      "+---------+-----------+------+\n",
      "|  Product|   Category|Amount|\n",
      "+---------+-----------+------+\n",
      "|Product A|Electronics|   100|\n",
      "|Product B|   Clothing|    50|\n",
      "|Product C|Electronics|   200|\n",
      "|Product D|   Clothing|    75|\n",
      "|Product E|Electronics|   150|\n",
      "+---------+-----------+------+\n",
      "\n"
     ]
    }
   ],
   "source": [
    "sales_df = spark.read.csv(\"sales.csv\",header=True,inferSchema=True)\n",
    "sales_df.show()"
   ]
  },
  {
   "cell_type": "markdown",
   "id": "62f5c88d",
   "metadata": {},
   "source": [
    "### Calculate the total sales amount for each product category using Spark's groupBy and aggregation functions:"
   ]
  },
  {
   "cell_type": "code",
   "execution_count": 4,
   "id": "1fbe4915",
   "metadata": {},
   "outputs": [],
   "source": [
    "total_sales = sales_df.groupBy(\"Category\").agg(sum(\"Amount\").alias(\"total_sales_amount\"))"
   ]
  },
  {
   "cell_type": "code",
   "execution_count": 5,
   "id": "15fab720",
   "metadata": {},
   "outputs": [
    {
     "name": "stdout",
     "output_type": "stream",
     "text": [
      "+-----------+------------------+\n",
      "|   Category|total_sales_amount|\n",
      "+-----------+------------------+\n",
      "|Electronics|               450|\n",
      "|   Clothing|               125|\n",
      "+-----------+------------------+\n",
      "\n"
     ]
    }
   ],
   "source": [
    "total_sales.show()"
   ]
  },
  {
   "cell_type": "markdown",
   "id": "28f53789",
   "metadata": {},
   "source": [
    "## 2. Log Analysis:"
   ]
  },
  {
   "cell_type": "markdown",
   "id": "6805ba62",
   "metadata": {},
   "source": [
    "### Analyze server log data to find the most frequently accessed URLs and their corresponding IP addresses. Use Spark SQL to query and visualize the results"
   ]
  },
  {
   "cell_type": "code",
   "execution_count": 6,
   "id": "6824dbee",
   "metadata": {},
   "outputs": [
    {
     "name": "stdout",
     "output_type": "stream",
     "text": [
      "+----------+--------+---------+-------------+\n",
      "|      date|    time|page_name|   IP_address|\n",
      "+----------+--------+---------+-------------+\n",
      "|2023-08-01|10:15:23|   /page1|192.168.1.100|\n",
      "|2023-08-01|10:20:45|   /page2|192.168.1.101|\n",
      "|2023-08-01|10:30:12|   /page1|192.168.1.102|\n",
      "|2023-08-01|10:32:56|   /page3|192.168.1.100|\n",
      "|2023-08-01|10:35:09|   /page2|192.168.1.103|\n",
      "+----------+--------+---------+-------------+\n",
      "\n"
     ]
    }
   ],
   "source": [
    "server_log_df = spark.read.load(\"server_log.txt\", format=\"csv\", sep=\" \", inferSchema=\"true\", header=\"false\") \\\n",
    "    .toDF(\"date\",\"time\", \"page_name\", \"IP_address\") \\\n",
    "    .withColumn('time', date_format('time', 'HH:mm:ss'))\n",
    "\n",
    "server_log_df.show()"
   ]
  },
  {
   "cell_type": "code",
   "execution_count": 7,
   "id": "b6446bf9",
   "metadata": {},
   "outputs": [
    {
     "name": "stdout",
     "output_type": "stream",
     "text": [
      "+---------+-----+\n",
      "|page_name|count|\n",
      "+---------+-----+\n",
      "|   /page1|    2|\n",
      "|   /page2|    2|\n",
      "|   /page3|    1|\n",
      "+---------+-----+\n",
      "\n"
     ]
    }
   ],
   "source": [
    "most_popular_pages = server_log_df.groupBy(\"page_name\").count().orderBy(desc('count'))\n",
    "\n",
    "most_popular_pages.show()"
   ]
  },
  {
   "cell_type": "code",
   "execution_count": 8,
   "id": "7c99383c",
   "metadata": {},
   "outputs": [],
   "source": [
    "server_log_df.createOrReplaceTempView(\"sales\")"
   ]
  },
  {
   "cell_type": "code",
   "execution_count": 9,
   "id": "0e55c89e",
   "metadata": {},
   "outputs": [
    {
     "name": "stdout",
     "output_type": "stream",
     "text": [
      "+---------+-------------+\n",
      "|page_name|IP_address   |\n",
      "+---------+-------------+\n",
      "|/page1   |192.168.1.100|\n",
      "|/page1   |192.168.1.102|\n",
      "|/page2   |192.168.1.101|\n",
      "|/page2   |192.168.1.103|\n",
      "|/page3   |192.168.1.100|\n",
      "+---------+-------------+\n",
      "\n"
     ]
    }
   ],
   "source": [
    "spark.sql(\"SELECT page_name, IP_address FROM sales ORDER BY page_name asc\").show(truncate=False)"
   ]
  },
  {
   "cell_type": "markdown",
   "id": "c378f1a6",
   "metadata": {},
   "source": [
    "#### Closing connection"
   ]
  },
  {
   "cell_type": "code",
   "execution_count": 10,
   "id": "e6675e76",
   "metadata": {},
   "outputs": [],
   "source": [
    "spark.stop()"
   ]
  }
 ],
 "metadata": {
  "kernelspec": {
   "display_name": "Python 3 (ipykernel)",
   "language": "python",
   "name": "python3"
  },
  "language_info": {
   "codemirror_mode": {
    "name": "ipython",
    "version": 3
   },
   "file_extension": ".py",
   "mimetype": "text/x-python",
   "name": "python",
   "nbconvert_exporter": "python",
   "pygments_lexer": "ipython3",
   "version": "3.10.11"
  }
 },
 "nbformat": 4,
 "nbformat_minor": 5
}
