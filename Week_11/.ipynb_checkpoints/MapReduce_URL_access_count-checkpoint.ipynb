{
 "cells": [
  {
   "cell_type": "markdown",
   "id": "750e4355",
   "metadata": {},
   "source": [
    "## 1. URL Access Count:"
   ]
  },
  {
   "cell_type": "markdown",
   "id": "abcba7ab",
   "metadata": {},
   "source": [
    "### Given a log file containing records of URLs accessed and their corresponding timestamps, use MapReduce to count the number of times each URL was accessed within a specific time window."
   ]
  },
  {
   "cell_type": "markdown",
   "id": "50ccfe3d",
   "metadata": {},
   "source": [
    "#### Importing libraries"
   ]
  },
  {
   "cell_type": "code",
   "execution_count": 1,
   "id": "db24cba2",
   "metadata": {},
   "outputs": [],
   "source": [
    "from functools import reduce\n",
    "from collections import defaultdict\n",
    "import datetime"
   ]
  },
  {
   "cell_type": "markdown",
   "id": "adedf173",
   "metadata": {},
   "source": [
    "#### Reading a file"
   ]
  },
  {
   "cell_type": "code",
   "execution_count": 2,
   "id": "82e43761",
   "metadata": {},
   "outputs": [],
   "source": [
    "with open(\"access_log.txt\",\"r\")as file:\n",
    "    text = file.readlines()"
   ]
  },
  {
   "cell_type": "code",
   "execution_count": 3,
   "id": "efb0b483",
   "metadata": {},
   "outputs": [
    {
     "data": {
      "text/plain": [
       "['2023-08-01 10:15:23 /page1\\n',\n",
       " '2023-08-01 10:20:45 /page2\\n',\n",
       " '2023-08-01 10:30:12 /page1\\n',\n",
       " '2023-08-01 10:32:56 /page3\\n',\n",
       " '2023-08-01 10:35:09 /page2']"
      ]
     },
     "execution_count": 3,
     "metadata": {},
     "output_type": "execute_result"
    }
   ],
   "source": [
    "text"
   ]
  },
  {
   "cell_type": "markdown",
   "id": "465ec345",
   "metadata": {},
   "source": [
    "#### Converting lines to lists"
   ]
  },
  {
   "cell_type": "code",
   "execution_count": 4,
   "id": "73debef9",
   "metadata": {},
   "outputs": [
    {
     "data": {
      "text/plain": [
       "[['2023-08-01', '10:15:23', '/page1\\n'],\n",
       " ['2023-08-01', '10:20:45', '/page2\\n'],\n",
       " ['2023-08-01', '10:30:12', '/page1\\n'],\n",
       " ['2023-08-01', '10:32:56', '/page3\\n'],\n",
       " ['2023-08-01', '10:35:09', '/page2']]"
      ]
     },
     "execution_count": 4,
     "metadata": {},
     "output_type": "execute_result"
    }
   ],
   "source": [
    "rows = [item.split(' ') for item in text]\n",
    "\n",
    "rows"
   ]
  },
  {
   "cell_type": "markdown",
   "id": "2d010375",
   "metadata": {},
   "source": [
    "#### Converting time fields from strings to timestamps and stripping url fields:"
   ]
  },
  {
   "cell_type": "code",
   "execution_count": 5,
   "id": "382b15b9",
   "metadata": {},
   "outputs": [
    {
     "data": {
      "text/plain": [
       "[['2023-08-01', datetime.time(10, 15, 23), '/page1'],\n",
       " ['2023-08-01', datetime.time(10, 20, 45), '/page2'],\n",
       " ['2023-08-01', datetime.time(10, 30, 12), '/page1'],\n",
       " ['2023-08-01', datetime.time(10, 32, 56), '/page3'],\n",
       " ['2023-08-01', datetime.time(10, 35, 9), '/page2']]"
      ]
     },
     "execution_count": 5,
     "metadata": {},
     "output_type": "execute_result"
    }
   ],
   "source": [
    "data_list = []\n",
    "\n",
    "for i in rows:\n",
    "    temp_list = []\n",
    "    time_converted = datetime.datetime.strptime(i[0]+\" \"+i[1], \"%Y-%m-%d %H:%M:%S\")\n",
    "    temp_list.extend([i[0],time_converted.time(),i[2].strip()])\n",
    "    data_list.append(temp_list)\n",
    "\n",
    "data_list"
   ]
  },
  {
   "cell_type": "markdown",
   "id": "664bfd79",
   "metadata": {},
   "source": [
    "#### Defining start and end time for a specific time window:"
   ]
  },
  {
   "cell_type": "code",
   "execution_count": 6,
   "id": "aef1daaf",
   "metadata": {},
   "outputs": [],
   "source": [
    "start = datetime.time(10, 0, 0)\n",
    "end = datetime.time(10, 33, 0)"
   ]
  },
  {
   "cell_type": "markdown",
   "id": "60cc95d3",
   "metadata": {},
   "source": [
    "#### Defining map function:"
   ]
  },
  {
   "cell_type": "code",
   "execution_count": 7,
   "id": "65c2a39c",
   "metadata": {},
   "outputs": [],
   "source": [
    "def map_function(line):\n",
    "\n",
    "    page_count = defaultdict(int)\n",
    "    \n",
    "    if start <= line[1] <= end:    \n",
    "        page_count[line[2]] +=1\n",
    "      \n",
    "    return page_count.items()"
   ]
  },
  {
   "cell_type": "markdown",
   "id": "5b032977",
   "metadata": {},
   "source": [
    "#### Mapping data:"
   ]
  },
  {
   "cell_type": "code",
   "execution_count": 8,
   "id": "a597397a",
   "metadata": {},
   "outputs": [],
   "source": [
    "mapped_data = map(map_function,data_list)"
   ]
  },
  {
   "cell_type": "markdown",
   "id": "2dfdfe05",
   "metadata": {},
   "source": [
    "#### Shuffling and sorting values:"
   ]
  },
  {
   "cell_type": "code",
   "execution_count": 9,
   "id": "c5ec1401",
   "metadata": {},
   "outputs": [],
   "source": [
    "intermediate = defaultdict(list)\n",
    "for url_count_pairs in mapped_data:\n",
    "    for url, count in url_count_pairs:\n",
    "        intermediate[url].append(count)"
   ]
  },
  {
   "cell_type": "code",
   "execution_count": 10,
   "id": "91ad967e",
   "metadata": {},
   "outputs": [
    {
     "name": "stdout",
     "output_type": "stream",
     "text": [
      "defaultdict(<class 'list'>, {'/page1': [1, 1], '/page2': [1], '/page3': [1]})\n"
     ]
    }
   ],
   "source": [
    "print(intermediate)"
   ]
  },
  {
   "cell_type": "markdown",
   "id": "780317e7",
   "metadata": {},
   "source": [
    "#### Defining reduce function:"
   ]
  },
  {
   "cell_type": "code",
   "execution_count": 11,
   "id": "258ec749",
   "metadata": {},
   "outputs": [],
   "source": [
    "def reduce_function(map,counts):\n",
    "    return map, sum(counts)"
   ]
  },
  {
   "cell_type": "markdown",
   "id": "dcbb741a",
   "metadata": {},
   "source": [
    "#### Reducing"
   ]
  },
  {
   "cell_type": "code",
   "execution_count": 12,
   "id": "4fb36ecb",
   "metadata": {},
   "outputs": [],
   "source": [
    "url_counts = []\n",
    "\n",
    "for item in intermediate.items():\n",
    "    result = reduce(reduce_function,item)\n",
    "    url_counts.append(result)"
   ]
  },
  {
   "cell_type": "code",
   "execution_count": 13,
   "id": "8a8aa6e3",
   "metadata": {},
   "outputs": [
    {
     "name": "stdout",
     "output_type": "stream",
     "text": [
      "('/page1', 2)\n",
      "('/page2', 1)\n",
      "('/page3', 1)\n"
     ]
    }
   ],
   "source": [
    "for url_count in url_counts:\n",
    "    print(url_count)"
   ]
  }
 ],
 "metadata": {
  "kernelspec": {
   "display_name": "Python 3 (ipykernel)",
   "language": "python",
   "name": "python3"
  },
  "language_info": {
   "codemirror_mode": {
    "name": "ipython",
    "version": 3
   },
   "file_extension": ".py",
   "mimetype": "text/x-python",
   "name": "python",
   "nbconvert_exporter": "python",
   "pygments_lexer": "ipython3",
   "version": "3.10.11"
  }
 },
 "nbformat": 4,
 "nbformat_minor": 5
}
