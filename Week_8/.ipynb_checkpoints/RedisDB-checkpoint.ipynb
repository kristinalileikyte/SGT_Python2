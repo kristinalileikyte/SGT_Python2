{
 "cells": [
  {
   "cell_type": "markdown",
   "id": "bfe8738a",
   "metadata": {},
   "source": [
    "## Taking database created in MySQL and extracting tables from it"
   ]
  },
  {
   "cell_type": "markdown",
   "id": "fb75d822",
   "metadata": {},
   "source": [
    "### Importing libraries"
   ]
  },
  {
   "cell_type": "code",
   "execution_count": 1,
   "id": "fd94fea0",
   "metadata": {},
   "outputs": [],
   "source": [
    "from sqlalchemy import create_engine\n",
    "import pandas as pd"
   ]
  },
  {
   "cell_type": "markdown",
   "id": "d1696fc2",
   "metadata": {},
   "source": [
    "### Read data from MySQL"
   ]
  },
  {
   "cell_type": "code",
   "execution_count": 2,
   "id": "6af64138",
   "metadata": {},
   "outputs": [],
   "source": [
    "import mysql.connector\n",
    "\n",
    "connection = mysql.connector.connect(\n",
    "    host=\"localhost\",\n",
    "    database=\"imdb\",\n",
    "    user=\"root\",\n",
    "    password=\"\"\n",
    ")\n",
    " \n",
    "cursor = connection.cursor(dictionary=True)\n",
    "cursor.execute(\"SELECT * from directors;\")\n",
    "directors = cursor.fetchall()"
   ]
  },
  {
   "cell_type": "code",
   "execution_count": 3,
   "id": "e881aea3",
   "metadata": {},
   "outputs": [
    {
     "data": {
      "text/plain": [
       "[{'id': 1, 'name': 'Frank Darabont'},\n",
       " {'id': 2, 'name': 'Francis Ford Coppola'},\n",
       " {'id': 3, 'name': 'Christopher Nolan'},\n",
       " {'id': 4, 'name': 'Steven Spielberg'},\n",
       " {'id': 5, 'name': 'Peter Jackson'},\n",
       " {'id': 6, 'name': 'Sidney Lumet'},\n",
       " {'id': 7, 'name': 'Quentin Tarantino'},\n",
       " {'id': 8, 'name': 'David Fincher'},\n",
       " {'id': 9, 'name': 'Robert Zemeckis'},\n",
       " {'id': 10, 'name': 'Sergio Leone'},\n",
       " {'id': 11, 'name': 'Lana Wachowski'},\n",
       " {'id': 12, 'name': 'Lilly Wachowski'},\n",
       " {'id': 13, 'name': 'Milos Forman'},\n",
       " {'id': 14, 'name': 'Martin Scorsese'},\n",
       " {'id': 15, 'name': 'Irvin Kershner'},\n",
       " {'id': 16, 'name': 'Jonathan Demme'},\n",
       " {'id': 17, 'name': 'George Lucas'},\n",
       " {'id': 18, 'name': 'James Cameron'},\n",
       " {'id': 19, 'name': 'Hayao Miyazaki'},\n",
       " {'id': 20, 'name': 'Roberto Benigni'},\n",
       " {'id': 21, 'name': 'Fernando Meirelles'},\n",
       " {'id': 22, 'name': 'Kátia Lund'},\n",
       " {'id': 23, 'name': 'Frank Capra'},\n",
       " {'id': 24, 'name': 'Akira Kurosawa'},\n",
       " {'id': 25, 'name': 'Masaki Kobayashi'},\n",
       " {'id': 26, 'name': 'Damien Chazelle'},\n",
       " {'id': 27, 'name': 'Ridley Scott'},\n",
       " {'id': 28, 'name': 'Bong Joon Ho'},\n",
       " {'id': 29, 'name': 'Luc Besson'},\n",
       " {'id': 30, 'name': 'Bryan Singer'},\n",
       " {'id': 31, 'name': 'Roger Allers'},\n",
       " {'id': 32, 'name': 'Rob Minkoff'},\n",
       " {'id': 33, 'name': 'Tony Kaye'},\n",
       " {'id': 34, 'name': 'Roman Polanski'},\n",
       " {'id': 35, 'name': 'Olivier Nakache'},\n",
       " {'id': 36, 'name': 'Éric Toledano'},\n",
       " {'id': 37, 'name': 'Michael Curtiz'},\n",
       " {'id': 38, 'name': 'Alfred Hitchcock'},\n",
       " {'id': 39, 'name': 'Isao Takahata'},\n",
       " {'id': 40, 'name': 'Giuseppe Tornatore'},\n",
       " {'id': 41, 'name': 'Charles Chaplin'},\n",
       " {'id': 42, 'name': 'Anthony Russo'},\n",
       " {'id': 43, 'name': 'Joe Russo'},\n",
       " {'id': 44, 'name': 'Todd Phillips'},\n",
       " {'id': 45, 'name': 'Sam Mendes'},\n",
       " {'id': 46, 'name': 'Park Chan-wook'},\n",
       " {'id': 47, 'name': 'Stanley Kubrick'},\n",
       " {'id': 48, 'name': 'Bob Persichetti'},\n",
       " {'id': 49, 'name': 'Peter Ramsey'},\n",
       " {'id': 50, 'name': 'Rodney Rothman'},\n",
       " {'id': 51, 'name': 'Mel Gibson'},\n",
       " {'id': 52, 'name': 'Elem Klimov'},\n",
       " {'id': 53, 'name': 'Lee Unkrich'},\n",
       " {'id': 54, 'name': 'Adrian Molina'},\n",
       " {'id': 55, 'name': 'Andrew Stanton'},\n",
       " {'id': 56, 'name': 'Makoto Shinkai'},\n",
       " {'id': 57, 'name': 'Florian Henckel von Donnersmarck'},\n",
       " {'id': 58, 'name': 'Rajkumar Hirani'},\n",
       " {'id': 59, 'name': 'Nadine Labaki'},\n",
       " {'id': 60, 'name': 'Wolfgang Petersen'},\n",
       " {'id': 61, 'name': 'Billy Wilder'},\n",
       " {'id': 62, 'name': 'Gus Van Sant'},\n",
       " {'id': 63, 'name': 'Darren Aronofsky'},\n",
       " {'id': 64, 'name': 'Michel Gondry'},\n",
       " {'id': 65, 'name': 'Thomas Vinterberg'},\n",
       " {'id': 66, 'name': 'John Lasseter'},\n",
       " {'id': 67, 'name': 'Richard Marquand'},\n",
       " {'id': 68, 'name': 'David Lean'},\n",
       " {'id': 69, 'name': 'Stanley Donen'},\n",
       " {'id': 70, 'name': 'Gene Kelly'},\n",
       " {'id': 71, 'name': 'Orson Welles'},\n",
       " {'id': 72, 'name': 'Fritz Lang'}]"
      ]
     },
     "execution_count": 3,
     "metadata": {},
     "output_type": "execute_result"
    }
   ],
   "source": [
    "directors"
   ]
  },
  {
   "cell_type": "markdown",
   "id": "27ee625b",
   "metadata": {},
   "source": [
    "## Connecting to Redis server"
   ]
  },
  {
   "cell_type": "code",
   "execution_count": 4,
   "id": "cd7be9f6",
   "metadata": {},
   "outputs": [],
   "source": [
    "import redis"
   ]
  },
  {
   "cell_type": "code",
   "execution_count": 5,
   "id": "6e4540fe",
   "metadata": {},
   "outputs": [],
   "source": [
    "r = redis.StrictRedis(host='localhost', port = 6379, db=0)"
   ]
  },
  {
   "cell_type": "markdown",
   "id": "fe2f9a06",
   "metadata": {},
   "source": [
    "## Setting a key with a specific value in Redis"
   ]
  },
  {
   "cell_type": "code",
   "execution_count": 6,
   "id": "2d241c00",
   "metadata": {},
   "outputs": [],
   "source": [
    "for director in directors:\n",
    "    rating = director['id']\n",
    "    name = director['name']\n",
    "    data = {'id':rating,'name':name}\n",
    "    \n",
    "    for key, value in data.items():\n",
    "        r.hset(rating, key, value)"
   ]
  },
  {
   "cell_type": "markdown",
   "id": "7b5df533",
   "metadata": {},
   "source": [
    "## Retrieving the value of a key from Redis"
   ]
  },
  {
   "cell_type": "code",
   "execution_count": 7,
   "id": "40addeba",
   "metadata": {},
   "outputs": [
    {
     "data": {
      "text/plain": [
       "{b'id': b'2', b'name': b'Francis Ford Coppola'}"
      ]
     },
     "execution_count": 7,
     "metadata": {},
     "output_type": "execute_result"
    }
   ],
   "source": [
    "r.hgetall(2)"
   ]
  },
  {
   "cell_type": "code",
   "execution_count": 8,
   "id": "7d6450d4",
   "metadata": {},
   "outputs": [
    {
     "data": {
      "text/plain": [
       "{b'id': b'50', b'name': b'Rodney Rothman'}"
      ]
     },
     "execution_count": 8,
     "metadata": {},
     "output_type": "execute_result"
    }
   ],
   "source": [
    "r.hgetall(50)"
   ]
  },
  {
   "cell_type": "markdown",
   "id": "fb85c556",
   "metadata": {},
   "source": [
    "###  Deleting a key-value pair from Redis"
   ]
  },
  {
   "cell_type": "code",
   "execution_count": 9,
   "id": "3b147bc5",
   "metadata": {},
   "outputs": [
    {
     "data": {
      "text/plain": [
       "1"
      ]
     },
     "execution_count": 9,
     "metadata": {},
     "output_type": "execute_result"
    }
   ],
   "source": [
    "r.delete(2)"
   ]
  },
  {
   "cell_type": "code",
   "execution_count": 10,
   "id": "a23ceb46",
   "metadata": {},
   "outputs": [
    {
     "data": {
      "text/plain": [
       "{}"
      ]
     },
     "execution_count": 10,
     "metadata": {},
     "output_type": "execute_result"
    }
   ],
   "source": [
    "r.hgetall(2)"
   ]
  }
 ],
 "metadata": {
  "kernelspec": {
   "display_name": "Python 3 (ipykernel)",
   "language": "python",
   "name": "python3"
  },
  "language_info": {
   "codemirror_mode": {
    "name": "ipython",
    "version": 3
   },
   "file_extension": ".py",
   "mimetype": "text/x-python",
   "name": "python",
   "nbconvert_exporter": "python",
   "pygments_lexer": "ipython3",
   "version": "3.10.11"
  }
 },
 "nbformat": 4,
 "nbformat_minor": 5
}
