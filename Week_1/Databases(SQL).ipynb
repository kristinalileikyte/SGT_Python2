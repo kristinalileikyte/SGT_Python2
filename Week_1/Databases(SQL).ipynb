{
 "cells": [
  {
   "cell_type": "markdown",
   "id": "1abb16b4",
   "metadata": {},
   "source": [
    "## 1) Free API selected from https://rapidapi.com/collection/list-of-free-apis"
   ]
  },
  {
   "cell_type": "code",
   "execution_count": 1,
   "id": "745efc87",
   "metadata": {},
   "outputs": [],
   "source": [
    "import requests\n",
    "\n",
    "url = \"https://imdb-top-100-movies1.p.rapidapi.com/\"\n",
    "\n",
    "headers = {\n",
    "\t\"X-RapidAPI-Key\": \"08eb9fe3ecmsh2ffb2bb7096aef7p1026dcjsn41991636f012\",\n",
    "\t\"X-RapidAPI-Host\": \"imdb-top-100-movies1.p.rapidapi.com\"\n",
    "}\n",
    "\n",
    "response = requests.get(url, headers=headers)\n",
    "\n",
    "top_100 = response.json()"
   ]
  },
  {
   "cell_type": "markdown",
   "id": "3c2fd558",
   "metadata": {},
   "source": [
    "## 2) Exporting data via MySQL into database"
   ]
  },
  {
   "cell_type": "markdown",
   "id": "486a16b5",
   "metadata": {},
   "source": [
    "### Importing libraries"
   ]
  },
  {
   "cell_type": "code",
   "execution_count": 2,
   "id": "ff532fd8",
   "metadata": {},
   "outputs": [],
   "source": [
    "from sqlalchemy import create_engine\n",
    "import pymysql\n",
    "import mysql.connector"
   ]
  },
  {
   "cell_type": "code",
   "execution_count": 3,
   "id": "e1d3c544",
   "metadata": {},
   "outputs": [],
   "source": [
    "cnx = mysql.connector.connect(user='root',\n",
    "                              password='',\n",
    "                              host='localhost',\n",
    "                              database='imdb')"
   ]
  },
  {
   "cell_type": "code",
   "execution_count": 4,
   "id": "327693d2",
   "metadata": {},
   "outputs": [],
   "source": [
    "# Creating a cursor object\n",
    "cursor = cnx.cursor()"
   ]
  },
  {
   "cell_type": "markdown",
   "id": "e5c1a3da",
   "metadata": {},
   "source": [
    "### Establishing connections to mysql"
   ]
  },
  {
   "cell_type": "code",
   "execution_count": 5,
   "id": "d9df5d13",
   "metadata": {},
   "outputs": [],
   "source": [
    "engine = create_engine(\"mysql+pymysql://root:@localhost/imdb\")"
   ]
  },
  {
   "cell_type": "code",
   "execution_count": 6,
   "id": "b3367c8e",
   "metadata": {},
   "outputs": [],
   "source": [
    "import pandas as pd"
   ]
  },
  {
   "cell_type": "markdown",
   "id": "d63b6983",
   "metadata": {},
   "source": [
    "## 3) Fetching the data from API and moving it to Database"
   ]
  },
  {
   "cell_type": "code",
   "execution_count": 7,
   "id": "8343c41f",
   "metadata": {},
   "outputs": [],
   "source": [
    "def get_movie_info(movie_input):\n",
    "    title = \"\"\n",
    "    try:\n",
    "        title = movie_input['title']\n",
    "    except:\n",
    "        pass\n",
    "    rating = \"\"\n",
    "    try:\n",
    "        rating = movie_input['rating']\n",
    "    except:\n",
    "        pass\n",
    "    description = \"\"\n",
    "    try:\n",
    "        description = movie_input['description']\n",
    "    except:\n",
    "        pass\n",
    "    rank = \"\"\n",
    "    try:\n",
    "        rank = movie_input['rank']\n",
    "    except:\n",
    "        pass\n",
    "    return title, rating,description,rank\n",
    "\n",
    "movies = list(map(get_movie_info,top_100))"
   ]
  },
  {
   "cell_type": "code",
   "execution_count": 8,
   "id": "ed711815",
   "metadata": {},
   "outputs": [],
   "source": [
    "df_movies = pd.DataFrame(movies,columns=[\"title\",\"rating\",\"description\",\"rank\"])"
   ]
  },
  {
   "cell_type": "code",
   "execution_count": 9,
   "id": "b9d91cf9",
   "metadata": {},
   "outputs": [
    {
     "data": {
      "text/plain": [
       "100"
      ]
     },
     "execution_count": 9,
     "metadata": {},
     "output_type": "execute_result"
    }
   ],
   "source": [
    "df_movies.to_sql(name=\"movies\",con=engine,index=False, if_exists=\"replace\")"
   ]
  },
  {
   "cell_type": "code",
   "execution_count": 10,
   "id": "cdda88d6",
   "metadata": {},
   "outputs": [],
   "source": [
    "def get_director_info(movie_input):  \n",
    "    try:\n",
    "        directors = movie_input['director'][0].split(\", \\n\")\n",
    "        names = []\n",
    "        for director in directors:\n",
    "            names.append(director)         \n",
    "    except:\n",
    "        pass  \n",
    "    return names \n",
    "\n",
    "list_of_directors = list(map(get_director_info,top_100))\n",
    "\n",
    "directors = []\n",
    "for value in list_of_directors:\n",
    "    if value in directors:\n",
    "        pass\n",
    "    else:\n",
    "        try:\n",
    "            for y in value:\n",
    "                if y in directors:\n",
    "                    pass\n",
    "                else:\n",
    "                    directors.append(y)\n",
    "        except:\n",
    "            directors.append(value)"
   ]
  },
  {
   "cell_type": "code",
   "execution_count": 11,
   "id": "af022145",
   "metadata": {},
   "outputs": [],
   "source": [
    "df_directors = pd.DataFrame(directors,columns=[\"name\"])"
   ]
  },
  {
   "cell_type": "code",
   "execution_count": 12,
   "id": "bad9bc34",
   "metadata": {},
   "outputs": [
    {
     "data": {
      "text/plain": [
       "72"
      ]
     },
     "execution_count": 12,
     "metadata": {},
     "output_type": "execute_result"
    }
   ],
   "source": [
    "df_directors.to_sql(name=\"directors\",con=engine,index=False, if_exists=\"replace\")"
   ]
  },
  {
   "cell_type": "code",
   "execution_count": 13,
   "id": "5e5ad961",
   "metadata": {},
   "outputs": [],
   "source": [
    "# Adding ID columns as a primary key\n",
    "query = ('ALTER TABLE movies ADD COLUMN `id` int(10) unsigned primary KEY AUTO_INCREMENT FIRST;')\n",
    "cursor.execute(query)\n",
    "\n",
    "query2 = ('ALTER TABLE directors ADD COLUMN `id` int(10) unsigned primary KEY AUTO_INCREMENT FIRST;')\n",
    "cursor.execute(query2)"
   ]
  },
  {
   "cell_type": "markdown",
   "id": "f597e410",
   "metadata": {},
   "source": [
    "### Displaying the data from database as Pandas dataframe"
   ]
  },
  {
   "cell_type": "code",
   "execution_count": 14,
   "id": "79efc5d2",
   "metadata": {},
   "outputs": [],
   "source": [
    "df = pd.read_sql(\"SELECT * FROM Movies\", engine)"
   ]
  },
  {
   "cell_type": "code",
   "execution_count": 15,
   "id": "54381d66",
   "metadata": {},
   "outputs": [
    {
     "data": {
      "text/html": [
       "<div>\n",
       "<style scoped>\n",
       "    .dataframe tbody tr th:only-of-type {\n",
       "        vertical-align: middle;\n",
       "    }\n",
       "\n",
       "    .dataframe tbody tr th {\n",
       "        vertical-align: top;\n",
       "    }\n",
       "\n",
       "    .dataframe thead th {\n",
       "        text-align: right;\n",
       "    }\n",
       "</style>\n",
       "<table border=\"1\" class=\"dataframe\">\n",
       "  <thead>\n",
       "    <tr style=\"text-align: right;\">\n",
       "      <th></th>\n",
       "      <th>id</th>\n",
       "      <th>title</th>\n",
       "      <th>rating</th>\n",
       "      <th>description</th>\n",
       "      <th>rank</th>\n",
       "    </tr>\n",
       "  </thead>\n",
       "  <tbody>\n",
       "    <tr>\n",
       "      <th>0</th>\n",
       "      <td>1</td>\n",
       "      <td>The Shawshank Redemption</td>\n",
       "      <td>9.3</td>\n",
       "      <td>Over the course of several years, two convicts...</td>\n",
       "      <td>1</td>\n",
       "    </tr>\n",
       "    <tr>\n",
       "      <th>1</th>\n",
       "      <td>2</td>\n",
       "      <td>The Godfather</td>\n",
       "      <td>9.2</td>\n",
       "      <td>The aging patriarch of an organized crime dyna...</td>\n",
       "      <td>2</td>\n",
       "    </tr>\n",
       "    <tr>\n",
       "      <th>2</th>\n",
       "      <td>3</td>\n",
       "      <td>The Dark Knight</td>\n",
       "      <td>9.0</td>\n",
       "      <td>When the menace known as the Joker wreaks havo...</td>\n",
       "      <td>3</td>\n",
       "    </tr>\n",
       "    <tr>\n",
       "      <th>3</th>\n",
       "      <td>4</td>\n",
       "      <td>Schindler's List</td>\n",
       "      <td>9.0</td>\n",
       "      <td>In German-occupied Poland during World War II,...</td>\n",
       "      <td>4</td>\n",
       "    </tr>\n",
       "    <tr>\n",
       "      <th>4</th>\n",
       "      <td>5</td>\n",
       "      <td>The Lord of the Rings: The Return of the King</td>\n",
       "      <td>9.0</td>\n",
       "      <td>Gandalf and Aragorn lead the World of Men agai...</td>\n",
       "      <td>5</td>\n",
       "    </tr>\n",
       "    <tr>\n",
       "      <th>...</th>\n",
       "      <td>...</td>\n",
       "      <td>...</td>\n",
       "      <td>...</td>\n",
       "      <td>...</td>\n",
       "      <td>...</td>\n",
       "    </tr>\n",
       "    <tr>\n",
       "      <th>95</th>\n",
       "      <td>96</td>\n",
       "      <td>Vertigo</td>\n",
       "      <td>8.3</td>\n",
       "      <td>A former San Francisco police detective juggle...</td>\n",
       "      <td>96</td>\n",
       "    </tr>\n",
       "    <tr>\n",
       "      <th>96</th>\n",
       "      <td>97</td>\n",
       "      <td>Citizen Kane</td>\n",
       "      <td>8.3</td>\n",
       "      <td>Following the death of publishing tycoon Charl...</td>\n",
       "      <td>97</td>\n",
       "    </tr>\n",
       "    <tr>\n",
       "      <th>97</th>\n",
       "      <td>98</td>\n",
       "      <td>North by Northwest</td>\n",
       "      <td>8.3</td>\n",
       "      <td>A New York City advertising executive goes on ...</td>\n",
       "      <td>98</td>\n",
       "    </tr>\n",
       "    <tr>\n",
       "      <th>98</th>\n",
       "      <td>99</td>\n",
       "      <td>Ikiru</td>\n",
       "      <td>8.3</td>\n",
       "      <td>A bureaucrat tries to find meaning in his life...</td>\n",
       "      <td>99</td>\n",
       "    </tr>\n",
       "    <tr>\n",
       "      <th>99</th>\n",
       "      <td>100</td>\n",
       "      <td>M</td>\n",
       "      <td>8.3</td>\n",
       "      <td>When the police in a German city are unable to...</td>\n",
       "      <td>100</td>\n",
       "    </tr>\n",
       "  </tbody>\n",
       "</table>\n",
       "<p>100 rows × 5 columns</p>\n",
       "</div>"
      ],
      "text/plain": [
       "     id                                          title rating   \n",
       "0     1                       The Shawshank Redemption    9.3  \\\n",
       "1     2                                  The Godfather    9.2   \n",
       "2     3                                The Dark Knight    9.0   \n",
       "3     4                               Schindler's List    9.0   \n",
       "4     5  The Lord of the Rings: The Return of the King    9.0   \n",
       "..  ...                                            ...    ...   \n",
       "95   96                                        Vertigo    8.3   \n",
       "96   97                                   Citizen Kane    8.3   \n",
       "97   98                             North by Northwest    8.3   \n",
       "98   99                                          Ikiru    8.3   \n",
       "99  100                                              M    8.3   \n",
       "\n",
       "                                          description  rank  \n",
       "0   Over the course of several years, two convicts...     1  \n",
       "1   The aging patriarch of an organized crime dyna...     2  \n",
       "2   When the menace known as the Joker wreaks havo...     3  \n",
       "3   In German-occupied Poland during World War II,...     4  \n",
       "4   Gandalf and Aragorn lead the World of Men agai...     5  \n",
       "..                                                ...   ...  \n",
       "95  A former San Francisco police detective juggle...    96  \n",
       "96  Following the death of publishing tycoon Charl...    97  \n",
       "97  A New York City advertising executive goes on ...    98  \n",
       "98  A bureaucrat tries to find meaning in his life...    99  \n",
       "99  When the police in a German city are unable to...   100  \n",
       "\n",
       "[100 rows x 5 columns]"
      ]
     },
     "execution_count": 15,
     "metadata": {},
     "output_type": "execute_result"
    }
   ],
   "source": [
    "df"
   ]
  }
 ],
 "metadata": {
  "kernelspec": {
   "display_name": "Python 3 (ipykernel)",
   "language": "python",
   "name": "python3"
  },
  "language_info": {
   "codemirror_mode": {
    "name": "ipython",
    "version": 3
   },
   "file_extension": ".py",
   "mimetype": "text/x-python",
   "name": "python",
   "nbconvert_exporter": "python",
   "pygments_lexer": "ipython3",
   "version": "3.10.11"
  }
 },
 "nbformat": 4,
 "nbformat_minor": 5
}
