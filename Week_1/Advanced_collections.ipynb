{
 "cells": [
  {
   "cell_type": "markdown",
   "id": "fa378797",
   "metadata": {},
   "source": [
    "## Map and Filter"
   ]
  },
  {
   "cell_type": "code",
   "execution_count": 1,
   "id": "bf46d3d7",
   "metadata": {},
   "outputs": [],
   "source": [
    "numbers = [1,2,3,4,5,6,7,8,9]"
   ]
  },
  {
   "cell_type": "markdown",
   "id": "80626bf9",
   "metadata": {},
   "source": [
    "#### Each element in the list of numbers doubled using map"
   ]
  },
  {
   "cell_type": "code",
   "execution_count": 2,
   "id": "0a83bb4c",
   "metadata": {},
   "outputs": [
    {
     "data": {
      "text/plain": [
       "[2, 4, 6, 8, 10, 12, 14, 16, 18]"
      ]
     },
     "execution_count": 2,
     "metadata": {},
     "output_type": "execute_result"
    }
   ],
   "source": [
    "doubled_numbers = list(map(lambda x: x*2, numbers))\n",
    "\n",
    "doubled_numbers"
   ]
  },
  {
   "cell_type": "markdown",
   "id": "1a7a3287",
   "metadata": {},
   "source": [
    "#### Only the odd numbers selected from a list of integers using the filter function"
   ]
  },
  {
   "cell_type": "code",
   "execution_count": 3,
   "id": "11d93492",
   "metadata": {},
   "outputs": [
    {
     "data": {
      "text/plain": [
       "[1, 3, 5, 7, 9]"
      ]
     },
     "execution_count": 3,
     "metadata": {},
     "output_type": "execute_result"
    }
   ],
   "source": [
    "odd_numbers = list(filter(lambda x: x%2 != 0, numbers))\n",
    "\n",
    "odd_numbers"
   ]
  },
  {
   "cell_type": "markdown",
   "id": "72566031",
   "metadata": {},
   "source": [
    "## Pandas"
   ]
  },
  {
   "cell_type": "code",
   "execution_count": 4,
   "id": "a1322b28",
   "metadata": {},
   "outputs": [],
   "source": [
    "import pandas as pd"
   ]
  },
  {
   "cell_type": "markdown",
   "id": "0d9cc5d2",
   "metadata": {},
   "source": [
    "#### CSV file read into a pandas DataFrame and the first few rows displayed "
   ]
  },
  {
   "cell_type": "code",
   "execution_count": 5,
   "id": "4167f7a5",
   "metadata": {},
   "outputs": [],
   "source": [
    "data = pd.read_csv(\"organizations.csv\")"
   ]
  },
  {
   "cell_type": "code",
   "execution_count": 6,
   "id": "080c45ff",
   "metadata": {},
   "outputs": [],
   "source": [
    "df = pd.DataFrame(data)"
   ]
  },
  {
   "cell_type": "code",
   "execution_count": 7,
   "id": "b1ee9f88",
   "metadata": {},
   "outputs": [
    {
     "data": {
      "text/html": [
       "<div>\n",
       "<style scoped>\n",
       "    .dataframe tbody tr th:only-of-type {\n",
       "        vertical-align: middle;\n",
       "    }\n",
       "\n",
       "    .dataframe tbody tr th {\n",
       "        vertical-align: top;\n",
       "    }\n",
       "\n",
       "    .dataframe thead th {\n",
       "        text-align: right;\n",
       "    }\n",
       "</style>\n",
       "<table border=\"1\" class=\"dataframe\">\n",
       "  <thead>\n",
       "    <tr style=\"text-align: right;\">\n",
       "      <th></th>\n",
       "      <th>Index</th>\n",
       "      <th>Organization Id</th>\n",
       "      <th>Name</th>\n",
       "      <th>Website</th>\n",
       "      <th>Country</th>\n",
       "      <th>Description</th>\n",
       "      <th>Founded</th>\n",
       "      <th>Industry</th>\n",
       "      <th>Number of employees</th>\n",
       "    </tr>\n",
       "  </thead>\n",
       "  <tbody>\n",
       "    <tr>\n",
       "      <th>0</th>\n",
       "      <td>1</td>\n",
       "      <td>FAB0d41d5b5d22c</td>\n",
       "      <td>Ferrell LLC</td>\n",
       "      <td>https://price.net/</td>\n",
       "      <td>Papua New Guinea</td>\n",
       "      <td>Horizontal empowering knowledgebase</td>\n",
       "      <td>1990</td>\n",
       "      <td>Plastics</td>\n",
       "      <td>3498</td>\n",
       "    </tr>\n",
       "    <tr>\n",
       "      <th>1</th>\n",
       "      <td>2</td>\n",
       "      <td>6A7EdDEA9FaDC52</td>\n",
       "      <td>Mckinney, Riley and Day</td>\n",
       "      <td>http://www.hall-buchanan.info/</td>\n",
       "      <td>Finland</td>\n",
       "      <td>User-centric system-worthy leverage</td>\n",
       "      <td>2015</td>\n",
       "      <td>Glass / Ceramics / Concrete</td>\n",
       "      <td>4952</td>\n",
       "    </tr>\n",
       "    <tr>\n",
       "      <th>2</th>\n",
       "      <td>3</td>\n",
       "      <td>0bFED1ADAE4bcC1</td>\n",
       "      <td>Hester Ltd</td>\n",
       "      <td>http://sullivan-reed.com/</td>\n",
       "      <td>China</td>\n",
       "      <td>Switchable scalable moratorium</td>\n",
       "      <td>1971</td>\n",
       "      <td>Public Safety</td>\n",
       "      <td>5287</td>\n",
       "    </tr>\n",
       "    <tr>\n",
       "      <th>3</th>\n",
       "      <td>4</td>\n",
       "      <td>2bFC1Be8a4ce42f</td>\n",
       "      <td>Holder-Sellers</td>\n",
       "      <td>https://becker.com/</td>\n",
       "      <td>Turkmenistan</td>\n",
       "      <td>De-engineered systemic artificial intelligence</td>\n",
       "      <td>2004</td>\n",
       "      <td>Automotive</td>\n",
       "      <td>921</td>\n",
       "    </tr>\n",
       "    <tr>\n",
       "      <th>4</th>\n",
       "      <td>5</td>\n",
       "      <td>9eE8A6a4Eb96C24</td>\n",
       "      <td>Mayer Group</td>\n",
       "      <td>http://www.brewer.com/</td>\n",
       "      <td>Mauritius</td>\n",
       "      <td>Synchronized needs-based challenge</td>\n",
       "      <td>1991</td>\n",
       "      <td>Transportation</td>\n",
       "      <td>7870</td>\n",
       "    </tr>\n",
       "  </tbody>\n",
       "</table>\n",
       "</div>"
      ],
      "text/plain": [
       "   Index  Organization Id                     Name   \n",
       "0      1  FAB0d41d5b5d22c              Ferrell LLC  \\\n",
       "1      2  6A7EdDEA9FaDC52  Mckinney, Riley and Day   \n",
       "2      3  0bFED1ADAE4bcC1               Hester Ltd   \n",
       "3      4  2bFC1Be8a4ce42f           Holder-Sellers   \n",
       "4      5  9eE8A6a4Eb96C24              Mayer Group   \n",
       "\n",
       "                          Website           Country   \n",
       "0              https://price.net/  Papua New Guinea  \\\n",
       "1  http://www.hall-buchanan.info/           Finland   \n",
       "2       http://sullivan-reed.com/             China   \n",
       "3             https://becker.com/      Turkmenistan   \n",
       "4          http://www.brewer.com/         Mauritius   \n",
       "\n",
       "                                      Description  Founded   \n",
       "0             Horizontal empowering knowledgebase     1990  \\\n",
       "1             User-centric system-worthy leverage     2015   \n",
       "2                  Switchable scalable moratorium     1971   \n",
       "3  De-engineered systemic artificial intelligence     2004   \n",
       "4              Synchronized needs-based challenge     1991   \n",
       "\n",
       "                      Industry  Number of employees  \n",
       "0                     Plastics                 3498  \n",
       "1  Glass / Ceramics / Concrete                 4952  \n",
       "2                Public Safety                 5287  \n",
       "3                   Automotive                  921  \n",
       "4               Transportation                 7870  "
      ]
     },
     "execution_count": 7,
     "metadata": {},
     "output_type": "execute_result"
    }
   ],
   "source": [
    "df.head(5)"
   ]
  },
  {
   "cell_type": "markdown",
   "id": "adf6f985",
   "metadata": {},
   "source": [
    "#### DataFrame grouped by \"Country\" column and  the average of \"Number of employees\" column calculated"
   ]
  },
  {
   "cell_type": "code",
   "execution_count": 8,
   "id": "ce7562c1",
   "metadata": {},
   "outputs": [
    {
     "data": {
      "text/plain": [
       "Country\n",
       "Anguilla          4292.0\n",
       "Australia         4155.0\n",
       "Bahamas           4914.0\n",
       "Belarus           3715.0\n",
       "Belgium           5038.0\n",
       "                   ...  \n",
       "Uruguay           6874.0\n",
       "Uzbekistan        9698.0\n",
       "Vietnam           9097.0\n",
       "Western Sahara    1746.0\n",
       "Zimbabwe          5504.0\n",
       "Name: Number of employees, Length: 84, dtype: float64"
      ]
     },
     "execution_count": 8,
     "metadata": {},
     "output_type": "execute_result"
    }
   ],
   "source": [
    "df.groupby(by=\"Country\")[\"Number of employees\"].mean()"
   ]
  },
  {
   "cell_type": "markdown",
   "id": "74b0f249",
   "metadata": {},
   "source": [
    "#### Two DataFrames merged based on a \"Country\" column"
   ]
  },
  {
   "cell_type": "code",
   "execution_count": 9,
   "id": "9e1aa7ce",
   "metadata": {},
   "outputs": [],
   "source": [
    "data2 = pd.read_csv(\"wikipedia-iso-country-codes.csv\")"
   ]
  },
  {
   "cell_type": "code",
   "execution_count": 10,
   "id": "3ff6a63a",
   "metadata": {},
   "outputs": [],
   "source": [
    "df2 = pd.DataFrame(data2)"
   ]
  },
  {
   "cell_type": "code",
   "execution_count": 11,
   "id": "06b64234",
   "metadata": {},
   "outputs": [
    {
     "data": {
      "text/html": [
       "<div>\n",
       "<style scoped>\n",
       "    .dataframe tbody tr th:only-of-type {\n",
       "        vertical-align: middle;\n",
       "    }\n",
       "\n",
       "    .dataframe tbody tr th {\n",
       "        vertical-align: top;\n",
       "    }\n",
       "\n",
       "    .dataframe thead th {\n",
       "        text-align: right;\n",
       "    }\n",
       "</style>\n",
       "<table border=\"1\" class=\"dataframe\">\n",
       "  <thead>\n",
       "    <tr style=\"text-align: right;\">\n",
       "      <th></th>\n",
       "      <th>English short name lower case</th>\n",
       "      <th>Alpha-2 code</th>\n",
       "      <th>Alpha-3 code</th>\n",
       "      <th>Numeric code</th>\n",
       "      <th>ISO 3166-2</th>\n",
       "    </tr>\n",
       "  </thead>\n",
       "  <tbody>\n",
       "    <tr>\n",
       "      <th>0</th>\n",
       "      <td>Zimbabwe</td>\n",
       "      <td>ZW</td>\n",
       "      <td>ZWE</td>\n",
       "      <td>716</td>\n",
       "      <td>ISO 3166-2:ZW</td>\n",
       "    </tr>\n",
       "    <tr>\n",
       "      <th>1</th>\n",
       "      <td>Zambia</td>\n",
       "      <td>ZM</td>\n",
       "      <td>ZMB</td>\n",
       "      <td>894</td>\n",
       "      <td>ISO 3166-2:ZM</td>\n",
       "    </tr>\n",
       "    <tr>\n",
       "      <th>2</th>\n",
       "      <td>Yemen</td>\n",
       "      <td>YE</td>\n",
       "      <td>YEM</td>\n",
       "      <td>887</td>\n",
       "      <td>ISO 3166-2:YE</td>\n",
       "    </tr>\n",
       "    <tr>\n",
       "      <th>3</th>\n",
       "      <td>Western Sahara</td>\n",
       "      <td>EH</td>\n",
       "      <td>ESH</td>\n",
       "      <td>732</td>\n",
       "      <td>ISO 3166-2:EH</td>\n",
       "    </tr>\n",
       "    <tr>\n",
       "      <th>4</th>\n",
       "      <td>Wallis and Futuna</td>\n",
       "      <td>WF</td>\n",
       "      <td>WLF</td>\n",
       "      <td>876</td>\n",
       "      <td>ISO 3166-2:WF</td>\n",
       "    </tr>\n",
       "    <tr>\n",
       "      <th>...</th>\n",
       "      <td>...</td>\n",
       "      <td>...</td>\n",
       "      <td>...</td>\n",
       "      <td>...</td>\n",
       "      <td>...</td>\n",
       "    </tr>\n",
       "    <tr>\n",
       "      <th>241</th>\n",
       "      <td>American Samoa</td>\n",
       "      <td>AS</td>\n",
       "      <td>ASM</td>\n",
       "      <td>16</td>\n",
       "      <td>ISO 3166-2:AS</td>\n",
       "    </tr>\n",
       "    <tr>\n",
       "      <th>242</th>\n",
       "      <td>Algeria</td>\n",
       "      <td>DZ</td>\n",
       "      <td>DZA</td>\n",
       "      <td>12</td>\n",
       "      <td>ISO 3166-2:DZ</td>\n",
       "    </tr>\n",
       "    <tr>\n",
       "      <th>243</th>\n",
       "      <td>Albania</td>\n",
       "      <td>AL</td>\n",
       "      <td>ALB</td>\n",
       "      <td>8</td>\n",
       "      <td>ISO 3166-2:AL</td>\n",
       "    </tr>\n",
       "    <tr>\n",
       "      <th>244</th>\n",
       "      <td>Afghanistan</td>\n",
       "      <td>AF</td>\n",
       "      <td>AFG</td>\n",
       "      <td>4</td>\n",
       "      <td>ISO 3166-2:AF</td>\n",
       "    </tr>\n",
       "    <tr>\n",
       "      <th>245</th>\n",
       "      <td>Åland Islands</td>\n",
       "      <td>AX</td>\n",
       "      <td>ALA</td>\n",
       "      <td>248</td>\n",
       "      <td>ISO 3166-2:AX</td>\n",
       "    </tr>\n",
       "  </tbody>\n",
       "</table>\n",
       "<p>246 rows × 5 columns</p>\n",
       "</div>"
      ],
      "text/plain": [
       "    English short name lower case Alpha-2 code Alpha-3 code  Numeric code   \n",
       "0                        Zimbabwe           ZW          ZWE           716  \\\n",
       "1                          Zambia           ZM          ZMB           894   \n",
       "2                           Yemen           YE          YEM           887   \n",
       "3                  Western Sahara           EH          ESH           732   \n",
       "4               Wallis and Futuna           WF          WLF           876   \n",
       "..                            ...          ...          ...           ...   \n",
       "241                American Samoa           AS          ASM            16   \n",
       "242                       Algeria           DZ          DZA            12   \n",
       "243                       Albania           AL          ALB             8   \n",
       "244                   Afghanistan           AF          AFG             4   \n",
       "245                 Åland Islands           AX          ALA           248   \n",
       "\n",
       "        ISO 3166-2  \n",
       "0    ISO 3166-2:ZW  \n",
       "1    ISO 3166-2:ZM  \n",
       "2    ISO 3166-2:YE  \n",
       "3    ISO 3166-2:EH  \n",
       "4    ISO 3166-2:WF  \n",
       "..             ...  \n",
       "241  ISO 3166-2:AS  \n",
       "242  ISO 3166-2:DZ  \n",
       "243  ISO 3166-2:AL  \n",
       "244  ISO 3166-2:AF  \n",
       "245  ISO 3166-2:AX  \n",
       "\n",
       "[246 rows x 5 columns]"
      ]
     },
     "execution_count": 11,
     "metadata": {},
     "output_type": "execute_result"
    }
   ],
   "source": [
    "df2"
   ]
  },
  {
   "cell_type": "code",
   "execution_count": 12,
   "id": "784e4b57",
   "metadata": {},
   "outputs": [
    {
     "data": {
      "text/html": [
       "<div>\n",
       "<style scoped>\n",
       "    .dataframe tbody tr th:only-of-type {\n",
       "        vertical-align: middle;\n",
       "    }\n",
       "\n",
       "    .dataframe tbody tr th {\n",
       "        vertical-align: top;\n",
       "    }\n",
       "\n",
       "    .dataframe thead th {\n",
       "        text-align: right;\n",
       "    }\n",
       "</style>\n",
       "<table border=\"1\" class=\"dataframe\">\n",
       "  <thead>\n",
       "    <tr style=\"text-align: right;\">\n",
       "      <th></th>\n",
       "      <th>Country</th>\n",
       "      <th>Alpha-2 code</th>\n",
       "      <th>Alpha-3 code</th>\n",
       "      <th>Numeric code</th>\n",
       "      <th>ISO 3166-2</th>\n",
       "    </tr>\n",
       "  </thead>\n",
       "  <tbody>\n",
       "    <tr>\n",
       "      <th>0</th>\n",
       "      <td>Zimbabwe</td>\n",
       "      <td>ZW</td>\n",
       "      <td>ZWE</td>\n",
       "      <td>716</td>\n",
       "      <td>ISO 3166-2:ZW</td>\n",
       "    </tr>\n",
       "    <tr>\n",
       "      <th>1</th>\n",
       "      <td>Zambia</td>\n",
       "      <td>ZM</td>\n",
       "      <td>ZMB</td>\n",
       "      <td>894</td>\n",
       "      <td>ISO 3166-2:ZM</td>\n",
       "    </tr>\n",
       "    <tr>\n",
       "      <th>2</th>\n",
       "      <td>Yemen</td>\n",
       "      <td>YE</td>\n",
       "      <td>YEM</td>\n",
       "      <td>887</td>\n",
       "      <td>ISO 3166-2:YE</td>\n",
       "    </tr>\n",
       "    <tr>\n",
       "      <th>3</th>\n",
       "      <td>Western Sahara</td>\n",
       "      <td>EH</td>\n",
       "      <td>ESH</td>\n",
       "      <td>732</td>\n",
       "      <td>ISO 3166-2:EH</td>\n",
       "    </tr>\n",
       "    <tr>\n",
       "      <th>4</th>\n",
       "      <td>Wallis and Futuna</td>\n",
       "      <td>WF</td>\n",
       "      <td>WLF</td>\n",
       "      <td>876</td>\n",
       "      <td>ISO 3166-2:WF</td>\n",
       "    </tr>\n",
       "    <tr>\n",
       "      <th>...</th>\n",
       "      <td>...</td>\n",
       "      <td>...</td>\n",
       "      <td>...</td>\n",
       "      <td>...</td>\n",
       "      <td>...</td>\n",
       "    </tr>\n",
       "    <tr>\n",
       "      <th>241</th>\n",
       "      <td>American Samoa</td>\n",
       "      <td>AS</td>\n",
       "      <td>ASM</td>\n",
       "      <td>16</td>\n",
       "      <td>ISO 3166-2:AS</td>\n",
       "    </tr>\n",
       "    <tr>\n",
       "      <th>242</th>\n",
       "      <td>Algeria</td>\n",
       "      <td>DZ</td>\n",
       "      <td>DZA</td>\n",
       "      <td>12</td>\n",
       "      <td>ISO 3166-2:DZ</td>\n",
       "    </tr>\n",
       "    <tr>\n",
       "      <th>243</th>\n",
       "      <td>Albania</td>\n",
       "      <td>AL</td>\n",
       "      <td>ALB</td>\n",
       "      <td>8</td>\n",
       "      <td>ISO 3166-2:AL</td>\n",
       "    </tr>\n",
       "    <tr>\n",
       "      <th>244</th>\n",
       "      <td>Afghanistan</td>\n",
       "      <td>AF</td>\n",
       "      <td>AFG</td>\n",
       "      <td>4</td>\n",
       "      <td>ISO 3166-2:AF</td>\n",
       "    </tr>\n",
       "    <tr>\n",
       "      <th>245</th>\n",
       "      <td>Åland Islands</td>\n",
       "      <td>AX</td>\n",
       "      <td>ALA</td>\n",
       "      <td>248</td>\n",
       "      <td>ISO 3166-2:AX</td>\n",
       "    </tr>\n",
       "  </tbody>\n",
       "</table>\n",
       "<p>246 rows × 5 columns</p>\n",
       "</div>"
      ],
      "text/plain": [
       "               Country Alpha-2 code Alpha-3 code  Numeric code     ISO 3166-2\n",
       "0             Zimbabwe           ZW          ZWE           716  ISO 3166-2:ZW\n",
       "1               Zambia           ZM          ZMB           894  ISO 3166-2:ZM\n",
       "2                Yemen           YE          YEM           887  ISO 3166-2:YE\n",
       "3       Western Sahara           EH          ESH           732  ISO 3166-2:EH\n",
       "4    Wallis and Futuna           WF          WLF           876  ISO 3166-2:WF\n",
       "..                 ...          ...          ...           ...            ...\n",
       "241     American Samoa           AS          ASM            16  ISO 3166-2:AS\n",
       "242            Algeria           DZ          DZA            12  ISO 3166-2:DZ\n",
       "243            Albania           AL          ALB             8  ISO 3166-2:AL\n",
       "244        Afghanistan           AF          AFG             4  ISO 3166-2:AF\n",
       "245      Åland Islands           AX          ALA           248  ISO 3166-2:AX\n",
       "\n",
       "[246 rows x 5 columns]"
      ]
     },
     "execution_count": 12,
     "metadata": {},
     "output_type": "execute_result"
    }
   ],
   "source": [
    "df2.rename(columns={\"English short name lower case\":\"Country\"},inplace=True)\n",
    "df2"
   ]
  },
  {
   "cell_type": "code",
   "execution_count": 13,
   "id": "edec5869",
   "metadata": {},
   "outputs": [
    {
     "data": {
      "text/html": [
       "<div>\n",
       "<style scoped>\n",
       "    .dataframe tbody tr th:only-of-type {\n",
       "        vertical-align: middle;\n",
       "    }\n",
       "\n",
       "    .dataframe tbody tr th {\n",
       "        vertical-align: top;\n",
       "    }\n",
       "\n",
       "    .dataframe thead th {\n",
       "        text-align: right;\n",
       "    }\n",
       "</style>\n",
       "<table border=\"1\" class=\"dataframe\">\n",
       "  <thead>\n",
       "    <tr style=\"text-align: right;\">\n",
       "      <th></th>\n",
       "      <th>Index</th>\n",
       "      <th>Organization Id</th>\n",
       "      <th>Name</th>\n",
       "      <th>Website</th>\n",
       "      <th>Country</th>\n",
       "      <th>Description</th>\n",
       "      <th>Founded</th>\n",
       "      <th>Industry</th>\n",
       "      <th>Number of employees</th>\n",
       "      <th>Alpha-2 code</th>\n",
       "      <th>Alpha-3 code</th>\n",
       "      <th>Numeric code</th>\n",
       "      <th>ISO 3166-2</th>\n",
       "    </tr>\n",
       "  </thead>\n",
       "  <tbody>\n",
       "    <tr>\n",
       "      <th>0</th>\n",
       "      <td>1</td>\n",
       "      <td>FAB0d41d5b5d22c</td>\n",
       "      <td>Ferrell LLC</td>\n",
       "      <td>https://price.net/</td>\n",
       "      <td>Papua New Guinea</td>\n",
       "      <td>Horizontal empowering knowledgebase</td>\n",
       "      <td>1990</td>\n",
       "      <td>Plastics</td>\n",
       "      <td>3498</td>\n",
       "      <td>PG</td>\n",
       "      <td>PNG</td>\n",
       "      <td>598.0</td>\n",
       "      <td>ISO 3166-2:PG</td>\n",
       "    </tr>\n",
       "    <tr>\n",
       "      <th>1</th>\n",
       "      <td>2</td>\n",
       "      <td>6A7EdDEA9FaDC52</td>\n",
       "      <td>Mckinney, Riley and Day</td>\n",
       "      <td>http://www.hall-buchanan.info/</td>\n",
       "      <td>Finland</td>\n",
       "      <td>User-centric system-worthy leverage</td>\n",
       "      <td>2015</td>\n",
       "      <td>Glass / Ceramics / Concrete</td>\n",
       "      <td>4952</td>\n",
       "      <td>FI</td>\n",
       "      <td>FIN</td>\n",
       "      <td>246.0</td>\n",
       "      <td>ISO 3166-2:FI</td>\n",
       "    </tr>\n",
       "    <tr>\n",
       "      <th>2</th>\n",
       "      <td>3</td>\n",
       "      <td>0bFED1ADAE4bcC1</td>\n",
       "      <td>Hester Ltd</td>\n",
       "      <td>http://sullivan-reed.com/</td>\n",
       "      <td>China</td>\n",
       "      <td>Switchable scalable moratorium</td>\n",
       "      <td>1971</td>\n",
       "      <td>Public Safety</td>\n",
       "      <td>5287</td>\n",
       "      <td>CN</td>\n",
       "      <td>CHN</td>\n",
       "      <td>156.0</td>\n",
       "      <td>ISO 3166-2:CN</td>\n",
       "    </tr>\n",
       "    <tr>\n",
       "      <th>3</th>\n",
       "      <td>4</td>\n",
       "      <td>2bFC1Be8a4ce42f</td>\n",
       "      <td>Holder-Sellers</td>\n",
       "      <td>https://becker.com/</td>\n",
       "      <td>Turkmenistan</td>\n",
       "      <td>De-engineered systemic artificial intelligence</td>\n",
       "      <td>2004</td>\n",
       "      <td>Automotive</td>\n",
       "      <td>921</td>\n",
       "      <td>TM</td>\n",
       "      <td>TKM</td>\n",
       "      <td>795.0</td>\n",
       "      <td>ISO 3166-2:TM</td>\n",
       "    </tr>\n",
       "    <tr>\n",
       "      <th>4</th>\n",
       "      <td>5</td>\n",
       "      <td>9eE8A6a4Eb96C24</td>\n",
       "      <td>Mayer Group</td>\n",
       "      <td>http://www.brewer.com/</td>\n",
       "      <td>Mauritius</td>\n",
       "      <td>Synchronized needs-based challenge</td>\n",
       "      <td>1991</td>\n",
       "      <td>Transportation</td>\n",
       "      <td>7870</td>\n",
       "      <td>MU</td>\n",
       "      <td>MUS</td>\n",
       "      <td>480.0</td>\n",
       "      <td>ISO 3166-2:MU</td>\n",
       "    </tr>\n",
       "    <tr>\n",
       "      <th>...</th>\n",
       "      <td>...</td>\n",
       "      <td>...</td>\n",
       "      <td>...</td>\n",
       "      <td>...</td>\n",
       "      <td>...</td>\n",
       "      <td>...</td>\n",
       "      <td>...</td>\n",
       "      <td>...</td>\n",
       "      <td>...</td>\n",
       "      <td>...</td>\n",
       "      <td>...</td>\n",
       "      <td>...</td>\n",
       "      <td>...</td>\n",
       "    </tr>\n",
       "    <tr>\n",
       "      <th>95</th>\n",
       "      <td>96</td>\n",
       "      <td>0a0bfFbBbB8eC7c</td>\n",
       "      <td>Holmes Group</td>\n",
       "      <td>https://mcdowell.org/</td>\n",
       "      <td>Ethiopia</td>\n",
       "      <td>Right-sized zero tolerance focus group</td>\n",
       "      <td>1975</td>\n",
       "      <td>Photography</td>\n",
       "      <td>2988</td>\n",
       "      <td>ET</td>\n",
       "      <td>ETH</td>\n",
       "      <td>231.0</td>\n",
       "      <td>ISO 3166-2:ET</td>\n",
       "    </tr>\n",
       "    <tr>\n",
       "      <th>96</th>\n",
       "      <td>97</td>\n",
       "      <td>BA6Cd9Dae2Efd62</td>\n",
       "      <td>Good Ltd</td>\n",
       "      <td>http://duffy.com/</td>\n",
       "      <td>Anguilla</td>\n",
       "      <td>Reverse-engineered composite moratorium</td>\n",
       "      <td>1971</td>\n",
       "      <td>Consumer Services</td>\n",
       "      <td>4292</td>\n",
       "      <td>AI</td>\n",
       "      <td>AIA</td>\n",
       "      <td>660.0</td>\n",
       "      <td>ISO 3166-2:AI</td>\n",
       "    </tr>\n",
       "    <tr>\n",
       "      <th>97</th>\n",
       "      <td>98</td>\n",
       "      <td>E7df80C60Abd7f9</td>\n",
       "      <td>Clements-Espinoza</td>\n",
       "      <td>http://www.flowers.net/</td>\n",
       "      <td>Falkland Islands (Malvinas)</td>\n",
       "      <td>Progressive modular hub</td>\n",
       "      <td>1991</td>\n",
       "      <td>Broadcast Media</td>\n",
       "      <td>236</td>\n",
       "      <td>FK</td>\n",
       "      <td>FLK</td>\n",
       "      <td>238.0</td>\n",
       "      <td>ISO 3166-2:FK</td>\n",
       "    </tr>\n",
       "    <tr>\n",
       "      <th>98</th>\n",
       "      <td>99</td>\n",
       "      <td>AFc285dbE2fEd24</td>\n",
       "      <td>Mendez Inc</td>\n",
       "      <td>https://www.burke.net/</td>\n",
       "      <td>Kyrgyz Republic</td>\n",
       "      <td>User-friendly exuding migration</td>\n",
       "      <td>1993</td>\n",
       "      <td>Education Management</td>\n",
       "      <td>339</td>\n",
       "      <td>NaN</td>\n",
       "      <td>NaN</td>\n",
       "      <td>NaN</td>\n",
       "      <td>NaN</td>\n",
       "    </tr>\n",
       "    <tr>\n",
       "      <th>99</th>\n",
       "      <td>100</td>\n",
       "      <td>e9eB5A60Cef8354</td>\n",
       "      <td>Watkins-Kaiser</td>\n",
       "      <td>http://www.herring.com/</td>\n",
       "      <td>Togo</td>\n",
       "      <td>Synergistic background access</td>\n",
       "      <td>2009</td>\n",
       "      <td>Financial Services</td>\n",
       "      <td>2785</td>\n",
       "      <td>TG</td>\n",
       "      <td>TGO</td>\n",
       "      <td>768.0</td>\n",
       "      <td>ISO 3166-2:TG</td>\n",
       "    </tr>\n",
       "  </tbody>\n",
       "</table>\n",
       "<p>100 rows × 13 columns</p>\n",
       "</div>"
      ],
      "text/plain": [
       "    Index  Organization Id                     Name   \n",
       "0       1  FAB0d41d5b5d22c              Ferrell LLC  \\\n",
       "1       2  6A7EdDEA9FaDC52  Mckinney, Riley and Day   \n",
       "2       3  0bFED1ADAE4bcC1               Hester Ltd   \n",
       "3       4  2bFC1Be8a4ce42f           Holder-Sellers   \n",
       "4       5  9eE8A6a4Eb96C24              Mayer Group   \n",
       "..    ...              ...                      ...   \n",
       "95     96  0a0bfFbBbB8eC7c             Holmes Group   \n",
       "96     97  BA6Cd9Dae2Efd62                 Good Ltd   \n",
       "97     98  E7df80C60Abd7f9        Clements-Espinoza   \n",
       "98     99  AFc285dbE2fEd24               Mendez Inc   \n",
       "99    100  e9eB5A60Cef8354           Watkins-Kaiser   \n",
       "\n",
       "                           Website                      Country   \n",
       "0               https://price.net/             Papua New Guinea  \\\n",
       "1   http://www.hall-buchanan.info/                      Finland   \n",
       "2        http://sullivan-reed.com/                        China   \n",
       "3              https://becker.com/                 Turkmenistan   \n",
       "4           http://www.brewer.com/                    Mauritius   \n",
       "..                             ...                          ...   \n",
       "95           https://mcdowell.org/                     Ethiopia   \n",
       "96               http://duffy.com/                     Anguilla   \n",
       "97         http://www.flowers.net/  Falkland Islands (Malvinas)   \n",
       "98          https://www.burke.net/              Kyrgyz Republic   \n",
       "99         http://www.herring.com/                         Togo   \n",
       "\n",
       "                                       Description  Founded   \n",
       "0              Horizontal empowering knowledgebase     1990  \\\n",
       "1              User-centric system-worthy leverage     2015   \n",
       "2                   Switchable scalable moratorium     1971   \n",
       "3   De-engineered systemic artificial intelligence     2004   \n",
       "4               Synchronized needs-based challenge     1991   \n",
       "..                                             ...      ...   \n",
       "95          Right-sized zero tolerance focus group     1975   \n",
       "96         Reverse-engineered composite moratorium     1971   \n",
       "97                         Progressive modular hub     1991   \n",
       "98                 User-friendly exuding migration     1993   \n",
       "99                   Synergistic background access     2009   \n",
       "\n",
       "                       Industry  Number of employees Alpha-2 code   \n",
       "0                      Plastics                 3498           PG  \\\n",
       "1   Glass / Ceramics / Concrete                 4952           FI   \n",
       "2                 Public Safety                 5287           CN   \n",
       "3                    Automotive                  921           TM   \n",
       "4                Transportation                 7870           MU   \n",
       "..                          ...                  ...          ...   \n",
       "95                  Photography                 2988           ET   \n",
       "96            Consumer Services                 4292           AI   \n",
       "97              Broadcast Media                  236           FK   \n",
       "98         Education Management                  339          NaN   \n",
       "99           Financial Services                 2785           TG   \n",
       "\n",
       "   Alpha-3 code  Numeric code     ISO 3166-2  \n",
       "0           PNG         598.0  ISO 3166-2:PG  \n",
       "1           FIN         246.0  ISO 3166-2:FI  \n",
       "2           CHN         156.0  ISO 3166-2:CN  \n",
       "3           TKM         795.0  ISO 3166-2:TM  \n",
       "4           MUS         480.0  ISO 3166-2:MU  \n",
       "..          ...           ...            ...  \n",
       "95          ETH         231.0  ISO 3166-2:ET  \n",
       "96          AIA         660.0  ISO 3166-2:AI  \n",
       "97          FLK         238.0  ISO 3166-2:FK  \n",
       "98          NaN           NaN            NaN  \n",
       "99          TGO         768.0  ISO 3166-2:TG  \n",
       "\n",
       "[100 rows x 13 columns]"
      ]
     },
     "execution_count": 13,
     "metadata": {},
     "output_type": "execute_result"
    }
   ],
   "source": [
    "df.merge(df2,on=\"Country\",how=\"left\")"
   ]
  },
  {
   "cell_type": "markdown",
   "id": "cab2cb42",
   "metadata": {},
   "source": [
    "## Namedtuple"
   ]
  },
  {
   "cell_type": "markdown",
   "id": "2859a4d8",
   "metadata": {},
   "source": [
    "#### Person named tuple defined with fields for name, age, and city. Instances of Person created and their attributes accessed"
   ]
  },
  {
   "cell_type": "code",
   "execution_count": 14,
   "id": "77dc3f6a",
   "metadata": {},
   "outputs": [],
   "source": [
    "from collections import namedtuple\n",
    "\n",
    "Person =namedtuple(\"Person\",[\"name\",\"age\",\"city\"]) \n",
    "\n",
    "jack = Person(\"Jack\",30,\"Havana\")\n",
    "joe = Person(\"Joe\",25,\"Miami\")"
   ]
  },
  {
   "cell_type": "code",
   "execution_count": 15,
   "id": "d0ee471c",
   "metadata": {},
   "outputs": [
    {
     "data": {
      "text/plain": [
       "'Jack'"
      ]
     },
     "execution_count": 15,
     "metadata": {},
     "output_type": "execute_result"
    }
   ],
   "source": [
    "jack.name"
   ]
  },
  {
   "cell_type": "code",
   "execution_count": 16,
   "id": "6d11987f",
   "metadata": {},
   "outputs": [
    {
     "data": {
      "text/plain": [
       "25"
      ]
     },
     "execution_count": 16,
     "metadata": {},
     "output_type": "execute_result"
    }
   ],
   "source": [
    "joe.age"
   ]
  },
  {
   "cell_type": "code",
   "execution_count": 17,
   "id": "3adee0da",
   "metadata": {},
   "outputs": [
    {
     "data": {
      "text/plain": [
       "'Havana'"
      ]
     },
     "execution_count": 17,
     "metadata": {},
     "output_type": "execute_result"
    }
   ],
   "source": [
    "jack.city"
   ]
  },
  {
   "cell_type": "markdown",
   "id": "dad7f204",
   "metadata": {},
   "source": [
    "## Counter"
   ]
  },
  {
   "cell_type": "code",
   "execution_count": 18,
   "id": "c93cfe1a",
   "metadata": {},
   "outputs": [],
   "source": [
    "from collections import Counter\n",
    "import re\n",
    "\n",
    "flying_circus = \"Hegel is arguing that the reality is merely an a priori adjunct of non-naturalistic ethics, Kant via the categorical imperative is holding that ontologically it exists only in the imagination, and Marx claims it was offside. We use only the finest baby frogs, dew picked and flown from Iraq, cleansed in finest quality spring water, lightly killed, and then sealed in a succulent Swiss quintuple smooth treble cream milk chocolate envelope and lovingly frosted with glucose.\"\n",
    "holy_grail = \"The Lady of the Lake, her arm clad in the purest shimmering samite held aloft Excalibur from the bosom of the water, signifying by divine providence that I, Arthur, was to carry Excalibur. THAT is why I am your king. Oh, king eh? Very nice. And how'd you get that, eh? By exploiting the workers. By hanging on to outdated imperialist dogma which perpetuates the economic and social differences in our society. What is the capital of Assyria? Listen, strange women lyin' in ponds distributin' swords is no basis for a system of government. Supreme executive power derives from a mandate from the masses, not from some farcical aquatic ceremony.\""
   ]
  },
  {
   "cell_type": "markdown",
   "id": "6b61ecab",
   "metadata": {},
   "source": [
    "#### Frequency of each word in a given text counted and the top 5 most common words dispalyed."
   ]
  },
  {
   "cell_type": "code",
   "execution_count": 19,
   "id": "23f2754e",
   "metadata": {},
   "outputs": [
    {
     "data": {
      "text/plain": [
       "[('the', 4), ('and', 4), ('is', 3), ('in', 3), ('that', 2)]"
      ]
     },
     "execution_count": 19,
     "metadata": {},
     "output_type": "execute_result"
    }
   ],
   "source": [
    "def clean_text(text):\n",
    "    return re.sub(r\"[^\\w\\s]\",\"\",text).split(\" \")\n",
    "\n",
    "flying_circus_clean = clean_text(flying_circus)\n",
    "holy_grail_clean = clean_text(holy_grail)\n",
    "\n",
    "Counter(flying_circus_clean).most_common(5)"
   ]
  },
  {
   "cell_type": "markdown",
   "id": "b3560a9b",
   "metadata": {},
   "source": [
    "#### Two counters merged together and the total count of each element calculated."
   ]
  },
  {
   "cell_type": "code",
   "execution_count": 20,
   "id": "a3a1abe2",
   "metadata": {},
   "outputs": [
    {
     "data": {
      "text/plain": [
       "Counter({'Hegel': 1,\n",
       "         'is': 6,\n",
       "         'arguing': 1,\n",
       "         'that': 4,\n",
       "         'the': 12,\n",
       "         'reality': 1,\n",
       "         'merely': 1,\n",
       "         'an': 1,\n",
       "         'a': 4,\n",
       "         'priori': 1,\n",
       "         'adjunct': 1,\n",
       "         'of': 5,\n",
       "         'nonnaturalistic': 1,\n",
       "         'ethics': 1,\n",
       "         'Kant': 1,\n",
       "         'via': 1,\n",
       "         'categorical': 1,\n",
       "         'imperative': 1,\n",
       "         'holding': 1,\n",
       "         'ontologically': 1,\n",
       "         'it': 2,\n",
       "         'exists': 1,\n",
       "         'only': 2,\n",
       "         'in': 6,\n",
       "         'imagination': 1,\n",
       "         'and': 5,\n",
       "         'Marx': 1,\n",
       "         'claims': 1,\n",
       "         'was': 2,\n",
       "         'offside': 1,\n",
       "         'We': 1,\n",
       "         'use': 1,\n",
       "         'finest': 2,\n",
       "         'baby': 1,\n",
       "         'frogs': 1,\n",
       "         'dew': 1,\n",
       "         'picked': 1,\n",
       "         'flown': 1,\n",
       "         'from': 5,\n",
       "         'Iraq': 1,\n",
       "         'cleansed': 1,\n",
       "         'quality': 1,\n",
       "         'spring': 1,\n",
       "         'water': 2,\n",
       "         'lightly': 1,\n",
       "         'killed': 1,\n",
       "         'then': 1,\n",
       "         'sealed': 1,\n",
       "         'succulent': 1,\n",
       "         'Swiss': 1,\n",
       "         'quintuple': 1,\n",
       "         'smooth': 1,\n",
       "         'treble': 1,\n",
       "         'cream': 1,\n",
       "         'milk': 1,\n",
       "         'chocolate': 1,\n",
       "         'envelope': 1,\n",
       "         'lovingly': 1,\n",
       "         'frosted': 1,\n",
       "         'with': 1,\n",
       "         'glucose': 1,\n",
       "         'The': 1,\n",
       "         'Lady': 1,\n",
       "         'Lake': 1,\n",
       "         'her': 1,\n",
       "         'arm': 1,\n",
       "         'clad': 1,\n",
       "         'purest': 1,\n",
       "         'shimmering': 1,\n",
       "         'samite': 1,\n",
       "         'held': 1,\n",
       "         'aloft': 1,\n",
       "         'Excalibur': 2,\n",
       "         'bosom': 1,\n",
       "         'signifying': 1,\n",
       "         'by': 1,\n",
       "         'divine': 1,\n",
       "         'providence': 1,\n",
       "         'I': 2,\n",
       "         'Arthur': 1,\n",
       "         'to': 2,\n",
       "         'carry': 1,\n",
       "         'THAT': 1,\n",
       "         'why': 1,\n",
       "         'am': 1,\n",
       "         'your': 1,\n",
       "         'king': 2,\n",
       "         'Oh': 1,\n",
       "         'eh': 2,\n",
       "         'Very': 1,\n",
       "         'nice': 1,\n",
       "         'And': 1,\n",
       "         'howd': 1,\n",
       "         'you': 1,\n",
       "         'get': 1,\n",
       "         'By': 2,\n",
       "         'exploiting': 1,\n",
       "         'workers': 1,\n",
       "         'hanging': 1,\n",
       "         'on': 1,\n",
       "         'outdated': 1,\n",
       "         'imperialist': 1,\n",
       "         'dogma': 1,\n",
       "         'which': 1,\n",
       "         'perpetuates': 1,\n",
       "         'economic': 1,\n",
       "         'social': 1,\n",
       "         'differences': 1,\n",
       "         'our': 1,\n",
       "         'society': 1,\n",
       "         'What': 1,\n",
       "         'capital': 1,\n",
       "         'Assyria': 1,\n",
       "         'Listen': 1,\n",
       "         'strange': 1,\n",
       "         'women': 1,\n",
       "         'lyin': 1,\n",
       "         'ponds': 1,\n",
       "         'distributin': 1,\n",
       "         'swords': 1,\n",
       "         'no': 1,\n",
       "         'basis': 1,\n",
       "         'for': 1,\n",
       "         'system': 1,\n",
       "         'government': 1,\n",
       "         'Supreme': 1,\n",
       "         'executive': 1,\n",
       "         'power': 1,\n",
       "         'derives': 1,\n",
       "         'mandate': 1,\n",
       "         'masses': 1,\n",
       "         'not': 1,\n",
       "         'some': 1,\n",
       "         'farcical': 1,\n",
       "         'aquatic': 1,\n",
       "         'ceremony': 1})"
      ]
     },
     "execution_count": 20,
     "metadata": {},
     "output_type": "execute_result"
    }
   ],
   "source": [
    "a = Counter(flying_circus_clean)\n",
    "b = Counter(holy_grail_clean)\n",
    "\n",
    "a + b"
   ]
  },
  {
   "cell_type": "markdown",
   "id": "a55f25b3",
   "metadata": {},
   "source": [
    "## Deque"
   ]
  },
  {
   "cell_type": "code",
   "execution_count": 21,
   "id": "c0659783",
   "metadata": {},
   "outputs": [],
   "source": [
    "from collections import deque"
   ]
  },
  {
   "cell_type": "markdown",
   "id": "31e7da7a",
   "metadata": {},
   "source": [
    "#### A deque used to implement a queue and perform enqueue and dequeue operations."
   ]
  },
  {
   "cell_type": "code",
   "execution_count": 22,
   "id": "dd52aa64",
   "metadata": {},
   "outputs": [
    {
     "data": {
      "text/plain": [
       "deque([-1, 1, 2, 3, 4, 5, 6, 7, 8, -11])"
      ]
     },
     "execution_count": 22,
     "metadata": {},
     "output_type": "execute_result"
    }
   ],
   "source": [
    "d = deque([0,1,2,3,4,5,6,7,8,9])\n",
    "\n",
    "d.pop()\n",
    "d.popleft()\n",
    "d.appendleft(-1)\n",
    "d.append(-11)\n",
    "d"
   ]
  },
  {
   "cell_type": "markdown",
   "id": "6cc68e67",
   "metadata": {},
   "source": [
    "#### Reverse the order of elements in a deque."
   ]
  },
  {
   "cell_type": "code",
   "execution_count": 23,
   "id": "0eed9047",
   "metadata": {},
   "outputs": [
    {
     "data": {
      "text/plain": [
       "deque([-11, 8, 7, 6, 5, 4, 3, 2, 1, -1])"
      ]
     },
     "execution_count": 23,
     "metadata": {},
     "output_type": "execute_result"
    }
   ],
   "source": [
    "d.reverse()\n",
    "\n",
    "d"
   ]
  },
  {
   "cell_type": "markdown",
   "id": "eb579dce",
   "metadata": {},
   "source": [
    "## DefaultDict"
   ]
  },
  {
   "cell_type": "code",
   "execution_count": 24,
   "id": "991cab3a",
   "metadata": {},
   "outputs": [],
   "source": [
    "from collections import defaultdict"
   ]
  },
  {
   "cell_type": "markdown",
   "id": "f2c6bbf0",
   "metadata": {},
   "source": [
    "#### DefaultDict that maps a character to a list of words starting with that character created"
   ]
  },
  {
   "cell_type": "code",
   "execution_count": 25,
   "id": "4baf8659",
   "metadata": {},
   "outputs": [
    {
     "data": {
      "text/plain": [
       "defaultdict(list,\n",
       "            {'d': ['do'],\n",
       "             'c': ['call', 'come'],\n",
       "             's': ['say', 'seem', 'see'],\n",
       "             'm': ['make'],\n",
       "             'g': ['go', 'give'],\n",
       "             'k': ['know'],\n",
       "             't': ['take', 'think', 'tell'],\n",
       "             'l': ['look', 'leave'],\n",
       "             'w': ['want', 'work'],\n",
       "             'u': ['use'],\n",
       "             'f': ['find', 'feel'],\n",
       "             'a': ['ask']})"
      ]
     },
     "execution_count": 25,
     "metadata": {},
     "output_type": "execute_result"
    }
   ],
   "source": [
    "words = ['do','call','say','make','seem','go','know','give','take','see','come','think',\n",
    "     'look','want','use','find','tell','ask','work','feel','leave']\n",
    "\n",
    "my_dict = defaultdict(list)\n",
    "\n",
    "for word in words:\n",
    "    my_dict[word[0]].append(word)\n",
    "\n",
    "my_dict"
   ]
  },
  {
   "cell_type": "markdown",
   "id": "85eb09c0",
   "metadata": {},
   "source": [
    "#### The sum of values for each key in a dictionary using a defaultdict calculated"
   ]
  },
  {
   "cell_type": "code",
   "execution_count": 26,
   "id": "d535eacf",
   "metadata": {},
   "outputs": [
    {
     "name": "stdout",
     "output_type": "stream",
     "text": [
      "d: 1\n",
      "c: 2\n",
      "s: 3\n",
      "m: 1\n",
      "g: 2\n",
      "k: 1\n",
      "t: 3\n",
      "l: 2\n",
      "w: 2\n",
      "u: 1\n",
      "f: 2\n",
      "a: 1\n"
     ]
    }
   ],
   "source": [
    "for key, value in my_dict.items():\n",
    "    print(f'{key}: {len(value)}')\n"
   ]
  },
  {
   "cell_type": "markdown",
   "id": "cdc6ff4d",
   "metadata": {},
   "source": [
    "## Reduce"
   ]
  },
  {
   "cell_type": "code",
   "execution_count": 27,
   "id": "f8136b22",
   "metadata": {},
   "outputs": [],
   "source": [
    "from functools import reduce"
   ]
  },
  {
   "cell_type": "markdown",
   "id": "8cb1b126",
   "metadata": {},
   "source": [
    "#### Reduce used to find the maximum element in a list of numbers."
   ]
  },
  {
   "cell_type": "code",
   "execution_count": 28,
   "id": "452a168c",
   "metadata": {},
   "outputs": [
    {
     "data": {
      "text/plain": [
       "20"
      ]
     },
     "execution_count": 28,
     "metadata": {},
     "output_type": "execute_result"
    }
   ],
   "source": [
    "elements = [5,7,6,20,-4,3,1,15]\n",
    "\n",
    "reduce(max,elements)"
   ]
  },
  {
   "cell_type": "markdown",
   "id": "5316b829",
   "metadata": {},
   "source": [
    "#### A list of strings combined into a single string using reduce"
   ]
  },
  {
   "cell_type": "code",
   "execution_count": 29,
   "id": "64bc1738",
   "metadata": {},
   "outputs": [
    {
     "data": {
      "text/plain": [
       "'Good morning , sunshine !'"
      ]
     },
     "execution_count": 29,
     "metadata": {},
     "output_type": "execute_result"
    }
   ],
   "source": [
    "list_of_strings = [\"Good\", \"morning\", \",\", \"sunshine\", \"!\"]\n",
    "\n",
    "def combine(x,y):\n",
    "    return x + \" \" + y\n",
    "\n",
    "reduce(combine, list_of_strings)"
   ]
  }
 ],
 "metadata": {
  "kernelspec": {
   "display_name": "Python 3 (ipykernel)",
   "language": "python",
   "name": "python3"
  },
  "language_info": {
   "codemirror_mode": {
    "name": "ipython",
    "version": 3
   },
   "file_extension": ".py",
   "mimetype": "text/x-python",
   "name": "python",
   "nbconvert_exporter": "python",
   "pygments_lexer": "ipython3",
   "version": "3.10.11"
  }
 },
 "nbformat": 4,
 "nbformat_minor": 5
}
