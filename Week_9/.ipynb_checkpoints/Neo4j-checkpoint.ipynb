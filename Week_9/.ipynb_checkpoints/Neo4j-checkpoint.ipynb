{
 "cells": [
  {
   "cell_type": "markdown",
   "id": "72e52026",
   "metadata": {},
   "source": [
    "# Neo4j tasks:"
   ]
  },
  {
   "cell_type": "markdown",
   "id": "2344ebc4",
   "metadata": {},
   "source": [
    "#### Importing libraries"
   ]
  },
  {
   "cell_type": "code",
   "execution_count": 1,
   "id": "02c41192",
   "metadata": {},
   "outputs": [],
   "source": [
    "from neo4j import GraphDatabase"
   ]
  },
  {
   "cell_type": "markdown",
   "id": "ed82295c",
   "metadata": {},
   "source": [
    "#### Creating a connection to database:"
   ]
  },
  {
   "cell_type": "code",
   "execution_count": 2,
   "id": "e76a3682",
   "metadata": {},
   "outputs": [],
   "source": [
    "uri = \"neo4j+ssc://b54de357.databases.neo4j.io\"\n",
    "username = \"neo4j\"\n",
    "password = \"kwngn-c0-P0HUB_10uApOvo7fP87YknHCuhzG8b0gCM\""
   ]
  },
  {
   "cell_type": "code",
   "execution_count": 3,
   "id": "0e52ad21",
   "metadata": {},
   "outputs": [],
   "source": [
    "driver = GraphDatabase.driver(uri,auth=(username,password))"
   ]
  },
  {
   "cell_type": "code",
   "execution_count": 4,
   "id": "200a3a24",
   "metadata": {},
   "outputs": [],
   "source": [
    "with driver.session() as session:\n",
    "    pass;"
   ]
  },
  {
   "cell_type": "markdown",
   "id": "61710295",
   "metadata": {},
   "source": [
    "## 1. Graph Creation:"
   ]
  },
  {
   "cell_type": "markdown",
   "id": "09226c19",
   "metadata": {},
   "source": [
    "### Build a graph database to represent a social network, with nodes for users and relationships for friendships. Create nodes for users and relationships to model their interactions."
   ]
  },
  {
   "cell_type": "code",
   "execution_count": 5,
   "id": "8e90a320",
   "metadata": {},
   "outputs": [],
   "source": [
    "def create_person_node(transaction,name,age):\n",
    "    transaction.run(\"CREATE (:Person {name:$name, age:$age})\", name=name, age=age)\n",
    "    \n",
    "with driver.session() as session:\n",
    "    session.execute_write(create_person_node,\"Martin\",21)\n",
    "    session.execute_write(create_person_node,\"Alice\",20)\n",
    "    session.execute_write(create_person_node,\"Jane\",22)\n",
    "    session.execute_write(create_person_node,\"Victor\",19)\n",
    "    session.execute_write(create_person_node,\"Bill\",24)\n",
    "    session.execute_write(create_person_node,\"Bob\",23)"
   ]
  },
  {
   "cell_type": "code",
   "execution_count": 6,
   "id": "b062749e",
   "metadata": {},
   "outputs": [],
   "source": [
    "def create_friendship(transaction,name1,name2):\n",
    "    transaction.run(\"\"\"\n",
    "        MATCH (person1:Person {name:$name1}),(person2:Person {name:$name2}) \n",
    "        CREATE (person1)-[:FRIEND_OF]->(person2) \n",
    "    \"\"\", name1=name1,name2=name2)"
   ]
  },
  {
   "cell_type": "code",
   "execution_count": 7,
   "id": "09f1f337",
   "metadata": {},
   "outputs": [],
   "source": [
    "with driver.session() as session:\n",
    "    session.execute_write(create_friendship,\"Martin\",\"Bob\")\n",
    "    session.execute_write(create_friendship,\"Bob\",\"Alice\")\n",
    "    session.execute_write(create_friendship,\"Jane\",\"Bob\")\n",
    "    session.execute_write(create_friendship,\"Alice\",\"Jane\")\n",
    "    session.execute_write(create_friendship,\"Victor\",\"Bill\")\n",
    "    session.execute_write(create_friendship,\"Bill\",\"Bob\")\n",
    "    session.execute_write(create_friendship,\"Martin\",\"Victor\")\n",
    "    session.execute_write(create_friendship,\"Jane\",\"Victor\")\n",
    "    session.execute_write(create_friendship,\"Martin\",\"Alice\")"
   ]
  },
  {
   "cell_type": "markdown",
   "id": "4efefb0a",
   "metadata": {},
   "source": [
    "# 2. Querying Graph Data:"
   ]
  },
  {
   "cell_type": "markdown",
   "id": "ca7c7830",
   "metadata": {},
   "source": [
    "### Write a Cypher query to find all friends of a given user up to a certain depth (degree of separation)."
   ]
  },
  {
   "cell_type": "code",
   "execution_count": 8,
   "id": "43f48d25",
   "metadata": {},
   "outputs": [],
   "source": [
    "def get_person_friends(transaction,name):\n",
    "    results = transaction.run(\"\"\"\n",
    "        MATCH (person:Person {name:$name})-[:FRIEND_OF]->(friend:Person) \n",
    "        RETURN person.name,person.age,friend.name,friend.age\n",
    "        \"\"\",name=name)\n",
    "    \n",
    "    return [{\n",
    "            \"name\":result[\"person.name\"],\n",
    "             \"age\":result[\"person.age\"], \n",
    "             \"friend name\":result[\"friend.name\"], \n",
    "             \"friend age\":result[\"friend.age\"]\n",
    "            } \n",
    "        for result in results]"
   ]
  },
  {
   "cell_type": "code",
   "execution_count": 9,
   "id": "7834e6b7",
   "metadata": {},
   "outputs": [
    {
     "name": "stdout",
     "output_type": "stream",
     "text": [
      "[{'name': 'Martin', 'age': 21, 'friend name': 'Alice', 'friend age': 20}, {'name': 'Martin', 'age': 21, 'friend name': 'Victor', 'friend age': 19}, {'name': 'Martin', 'age': 21, 'friend name': 'Bob', 'friend age': 23}]\n"
     ]
    }
   ],
   "source": [
    "with driver.session() as session:\n",
    "    print(session.execute_read(get_person_friends,\"Martin\"))"
   ]
  },
  {
   "cell_type": "code",
   "execution_count": 10,
   "id": "3f078957",
   "metadata": {},
   "outputs": [],
   "source": [
    "def get_person_friends_of_friends(transaction,name):\n",
    "    results = transaction.run(\"\"\"\n",
    "        MATCH (person:Person {name:$name})-[:FRIEND_OF*2]->(fof) \n",
    "        WHERE fof.name <> $name\n",
    "        RETURN person.name,person.age,fof.name,fof.age\n",
    "        \"\"\",name=name)\n",
    "    \n",
    "    return [{\n",
    "            \"name\":result[\"person.name\"],\n",
    "             \"age\":result[\"person.age\"], \n",
    "             \"friend name\":result[\"fof.name\"], \n",
    "             \"friend age\":result[\"fof.age\"]\n",
    "            } \n",
    "        for result in results]"
   ]
  },
  {
   "cell_type": "code",
   "execution_count": 11,
   "id": "b87e3e18",
   "metadata": {},
   "outputs": [
    {
     "name": "stdout",
     "output_type": "stream",
     "text": [
      "[{'name': 'Martin', 'age': 21, 'friend name': 'Jane', 'friend age': 22}, {'name': 'Martin', 'age': 21, 'friend name': 'Bill', 'friend age': 24}, {'name': 'Martin', 'age': 21, 'friend name': 'Alice', 'friend age': 20}]\n"
     ]
    }
   ],
   "source": [
    "with driver.session() as session:\n",
    "    print(session.execute_read(get_person_friends_of_friends,\"Martin\"))"
   ]
  },
  {
   "cell_type": "markdown",
   "id": "6b680229",
   "metadata": {},
   "source": [
    "### Retrieve common friends between two users in the graph."
   ]
  },
  {
   "cell_type": "code",
   "execution_count": 12,
   "id": "62d21e0f",
   "metadata": {},
   "outputs": [],
   "source": [
    "def common_friends(transaction,name1,name2):\n",
    "    results = transaction.run(\"\"\"\n",
    "        MATCH (N:Person {name:$name1}),(M:Person {name:$name2})\n",
    "        WITH [ (N)--(B)--(M) WHERE B:Person|B.name] AS names\n",
    "        UNWIND names AS name_of_mutual_friend\n",
    "        RETURN name_of_mutual_friend\n",
    "        \"\"\",name1=name1,name2=name2)\n",
    "    \n",
    "    return [result[\"name_of_mutual_friend\"] for result in results]\n",
    "    "
   ]
  },
  {
   "cell_type": "code",
   "execution_count": 13,
   "id": "23a06c0c",
   "metadata": {},
   "outputs": [
    {
     "name": "stdout",
     "output_type": "stream",
     "text": [
      "['Bob', 'Victor']\n"
     ]
    }
   ],
   "source": [
    "with driver.session() as session:\n",
    "    print(session.execute_read(common_friends,\"Martin\",\"Bill\"))"
   ]
  },
  {
   "cell_type": "markdown",
   "id": "eed92b6e",
   "metadata": {},
   "source": [
    "## 3. Recommendation System:"
   ]
  },
  {
   "cell_type": "markdown",
   "id": "7a5cbf0c",
   "metadata": {},
   "source": [
    "### Implement a basic recommendation system by finding users who have similar interests based on their interactions."
   ]
  },
  {
   "cell_type": "code",
   "execution_count": 14,
   "id": "12c0378e",
   "metadata": {},
   "outputs": [],
   "source": [
    "def create_interest_node(transaction,name):\n",
    "    transaction.run(\"CREATE (:Interest {name:$name})\", name=name)\n",
    "    \n",
    "with driver.session() as session:\n",
    "    session.execute_write(create_interest_node,\"Skiing\")\n",
    "    session.execute_write(create_interest_node,\"Diving\")\n",
    "    session.execute_write(create_interest_node,\"Basketball\")\n",
    "    session.execute_write(create_interest_node,\"Movies\")\n",
    "    session.execute_write(create_interest_node,\"Theater\")\n",
    "    session.execute_write(create_interest_node,\"Jogging\")"
   ]
  },
  {
   "cell_type": "code",
   "execution_count": 15,
   "id": "aed334eb",
   "metadata": {},
   "outputs": [],
   "source": [
    "def create_interest(transaction,person_name,interest):\n",
    "    transaction.run(\"\"\"\n",
    "        MATCH (person:Person {name: $person_name}), (interest:Interest {name: $interest})\n",
    "        MERGE (person)-[:INTERESTED_IN]->(interest)\n",
    "    \"\"\", person_name=person_name,interest=interest)"
   ]
  },
  {
   "cell_type": "code",
   "execution_count": 16,
   "id": "402d3777",
   "metadata": {},
   "outputs": [],
   "source": [
    "with driver.session() as session:\n",
    "    session.execute_write(create_interest,\"Martin\",\"Skiing\")\n",
    "    session.execute_write(create_interest,\"Bob\",\"Theater\")\n",
    "    session.execute_write(create_interest,\"Jane\",\"Skiing\")\n",
    "    session.execute_write(create_interest,\"Alice\",\"Basketball\")\n",
    "    session.execute_write(create_interest,\"Victor\",\"Theater\")\n",
    "    session.execute_write(create_interest,\"Bill\",\"Basketball\")\n",
    "    session.execute_write(create_interest,\"Martin\",\"Diving\")\n",
    "    session.execute_write(create_interest,\"Jane\",\"Jogging\")\n",
    "    session.execute_write(create_interest,\"Martin\",\"Movies\")\n",
    "    session.execute_write(create_interest,\"Victor\",\"Jogging\")\n",
    "    session.execute_write(create_interest,\"Bill\",\"Skiing\")\n",
    "    session.execute_write(create_interest,\"Martin\",\"Jogging\")\n",
    "    session.execute_write(create_interest,\"Jane\",\"Movies\")\n",
    "    session.execute_write(create_interest,\"Bob\",\"Basketball\")"
   ]
  },
  {
   "cell_type": "code",
   "execution_count": 17,
   "id": "f9c8d240",
   "metadata": {},
   "outputs": [],
   "source": [
    "def persons_with_common_interests(transaction,person_name):\n",
    "    results = transaction.run(\"\"\"\n",
    "            MATCH (person:Person {name: $person_name})-[:INTERESTED_IN]->(interest)<-[:INTERESTED_IN]-(otherPerson:Person)\n",
    "            WHERE person <> otherPerson\n",
    "            RETURN otherPerson.name AS possible_friend, COLLECT(interest.name) AS common_interest      \n",
    "        \"\"\",person_name=person_name)\n",
    "    \n",
    "    return [{\"possible_friend\": result[\"possible_friend\"], \"common_interest\": result[\"common_interest\"]} for result in results]"
   ]
  },
  {
   "cell_type": "code",
   "execution_count": 18,
   "id": "d55e6a88",
   "metadata": {},
   "outputs": [
    {
     "name": "stdout",
     "output_type": "stream",
     "text": [
      "[{'possible_friend': 'Jane', 'common_interest': ['Skiing']}, {'possible_friend': 'Martin', 'common_interest': ['Skiing']}, {'possible_friend': 'Bob', 'common_interest': ['Basketball']}, {'possible_friend': 'Alice', 'common_interest': ['Basketball']}]\n"
     ]
    }
   ],
   "source": [
    "with driver.session() as session:\n",
    "    print(session.execute_read(persons_with_common_interests,\"Bill\"))"
   ]
  },
  {
   "cell_type": "markdown",
   "id": "c64b9bf0",
   "metadata": {},
   "source": [
    "### Propose movies, books, or other items that a user might be interested in based on their connections' preferences"
   ]
  },
  {
   "cell_type": "code",
   "execution_count": 19,
   "id": "7ff60051",
   "metadata": {},
   "outputs": [],
   "source": [
    "def recommended_interests(transaction,person_name):\n",
    "    results = transaction.run(\"\"\"\n",
    "            MATCH (person:Person {name: $person_name})-[:FRIEND_OF]->(otherPerson:Person)-[:INTERESTED_IN]->(interest)\n",
    "            RETURN DISTINCT interest.name\n",
    "    \"\"\",person_name=person_name)\n",
    "    \n",
    "    return [result[\"interest.name\"] for result in results]"
   ]
  },
  {
   "cell_type": "code",
   "execution_count": 20,
   "id": "d3a4a84e",
   "metadata": {},
   "outputs": [
    {
     "name": "stdout",
     "output_type": "stream",
     "text": [
      "['Movies', 'Jogging', 'Skiing']\n"
     ]
    }
   ],
   "source": [
    "with driver.session() as session:\n",
    "    print(session.execute_read(recommended_interests,\"Alice\"))"
   ]
  },
  {
   "cell_type": "markdown",
   "id": "e10d7fc1",
   "metadata": {},
   "source": [
    "## Pathfinding:"
   ]
  },
  {
   "cell_type": "markdown",
   "id": "1cec97d3",
   "metadata": {},
   "source": [
    "### Use graph algorithms in Neo4j to find the shortest path between two nodes in the graph."
   ]
  },
  {
   "cell_type": "code",
   "execution_count": 21,
   "id": "22fbea6d",
   "metadata": {},
   "outputs": [],
   "source": [
    "def find_shortest_path(transaction,name1,name2):\n",
    "    results = transaction.run(\"\"\"\n",
    "        MATCH (person1:Person {name:$name1}),(person2:Person {name:$name2}), path= SHORTESTPATH ((person1)-[*]->(person2)) \n",
    "        RETURN nodes(path),relationships(path)\n",
    "    \"\"\",name1=name1,name2=name2)\n",
    "    \n",
    "    return [{\"nodes\":result[\"nodes(path)\"],\"relationships\":result[\"relationships(path)\"]} for result in results]"
   ]
  },
  {
   "cell_type": "code",
   "execution_count": 22,
   "id": "3eaa82ee",
   "metadata": {},
   "outputs": [],
   "source": [
    "with driver.session() as session:\n",
    "    results = session.execute_read(find_shortest_path,\"Alice\",\"Bill\")\n",
    "    nodes = results[0][\"nodes\"]\n",
    "    relationships = results[0][\"relationships\"]"
   ]
  },
  {
   "cell_type": "code",
   "execution_count": 23,
   "id": "a7366000",
   "metadata": {},
   "outputs": [
    {
     "name": "stdout",
     "output_type": "stream",
     "text": [
      "Alice\n",
      "Jane\n",
      "Victor\n",
      "Bill\n"
     ]
    }
   ],
   "source": [
    "for node in nodes:\n",
    "    print(node.get(\"name\"))"
   ]
  },
  {
   "cell_type": "code",
   "execution_count": 24,
   "id": "89cb546a",
   "metadata": {},
   "outputs": [
    {
     "name": "stdout",
     "output_type": "stream",
     "text": [
      "Alice -> Jane\n",
      "Jane -> Victor\n",
      "Victor -> Bill\n"
     ]
    }
   ],
   "source": [
    "for relationship in relationships:\n",
    "    nodes = relationship.nodes\n",
    "    print(nodes[0].get(\"name\"),\"->\",nodes[1].get(\"name\"))"
   ]
  },
  {
   "cell_type": "markdown",
   "id": "93eec428",
   "metadata": {},
   "source": [
    "### Find the path of mutual friends between two users."
   ]
  },
  {
   "cell_type": "code",
   "execution_count": 25,
   "id": "59283ac1",
   "metadata": {},
   "outputs": [],
   "source": [
    "def find_mutual_friends_path(transaction,name1,name2):\n",
    "    results = transaction.run(\"\"\"\n",
    "        MATCH (person1:Person {name: $name1})-[:FRIEND_OF]-(mutualFriend:Person)-[:FRIEND_OF]-(person2:Person {name: $name2})\n",
    "        RETURN COLLECT(DISTINCT mutualFriend.name) AS mutual_friends\n",
    "    \"\"\",name1=name1,name2=name2)\n",
    "    path = results.single()\n",
    "    \n",
    "    return path[\"mutual_friends\"]"
   ]
  },
  {
   "cell_type": "code",
   "execution_count": 26,
   "id": "8b1d9056",
   "metadata": {},
   "outputs": [
    {
     "name": "stdout",
     "output_type": "stream",
     "text": [
      "['Jane', 'Martin']\n"
     ]
    }
   ],
   "source": [
    "with driver.session() as session:\n",
    "    print(session.execute_read(find_mutual_friends_path,\"Alice\",\"Victor\"))"
   ]
  }
 ],
 "metadata": {
  "kernelspec": {
   "display_name": "Python 3 (ipykernel)",
   "language": "python",
   "name": "python3"
  },
  "language_info": {
   "codemirror_mode": {
    "name": "ipython",
    "version": 3
   },
   "file_extension": ".py",
   "mimetype": "text/x-python",
   "name": "python",
   "nbconvert_exporter": "python",
   "pygments_lexer": "ipython3",
   "version": "3.10.11"
  }
 },
 "nbformat": 4,
 "nbformat_minor": 5
}
