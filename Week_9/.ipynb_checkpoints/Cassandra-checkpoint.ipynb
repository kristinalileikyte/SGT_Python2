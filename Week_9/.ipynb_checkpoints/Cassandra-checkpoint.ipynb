{
 "cells": [
  {
   "cell_type": "markdown",
   "id": "1e96a64d",
   "metadata": {},
   "source": [
    "# Cassandra tasks:"
   ]
  },
  {
   "cell_type": "markdown",
   "id": "1bb7a0e7",
   "metadata": {},
   "source": [
    "### Connecting to Cassandra database"
   ]
  },
  {
   "cell_type": "markdown",
   "id": "546acdb0",
   "metadata": {},
   "source": [
    "#### Importing libraries"
   ]
  },
  {
   "cell_type": "code",
   "execution_count": 1,
   "id": "9a0308fc",
   "metadata": {},
   "outputs": [],
   "source": [
    "from cassandra.cluster import Cluster\n",
    "import uuid\n",
    "from datetime import datetime\n",
    "import sys"
   ]
  },
  {
   "cell_type": "markdown",
   "id": "46ef24f8",
   "metadata": {},
   "source": [
    "#### Creating a connection to database"
   ]
  },
  {
   "cell_type": "code",
   "execution_count": 2,
   "id": "3b7d37c4",
   "metadata": {},
   "outputs": [],
   "source": [
    "cluster = Cluster([\"127.0.0.1\"], port=9042)"
   ]
  },
  {
   "cell_type": "code",
   "execution_count": 3,
   "id": "bc507d95",
   "metadata": {},
   "outputs": [],
   "source": [
    "session = cluster.connect()"
   ]
  },
  {
   "cell_type": "code",
   "execution_count": 4,
   "id": "5437f069",
   "metadata": {},
   "outputs": [
    {
     "data": {
      "text/plain": [
       "<cassandra.cluster.ResultSet at 0x1913b33b1f0>"
      ]
     },
     "execution_count": 4,
     "metadata": {},
     "output_type": "execute_result"
    }
   ],
   "source": [
    "create_keyspace_query = \"\"\"\n",
    "    CREATE KEYSPACE IF NOT EXISTS e_commerce\n",
    "    WITH replication = {'class':'SimpleStrategy', 'replication_factor':1}\n",
    "\"\"\"\n",
    "\n",
    "session.execute(create_keyspace_query)"
   ]
  },
  {
   "cell_type": "markdown",
   "id": "70d5093b",
   "metadata": {},
   "source": [
    "## 1. Data Model Creation:"
   ]
  },
  {
   "cell_type": "markdown",
   "id": "deba7a49",
   "metadata": {},
   "source": [
    "### Design a data model for an e-commerce platform to handle products, orders, and user information. Define appropriate column families and primary keys to ensure efficient querying."
   ]
  },
  {
   "cell_type": "markdown",
   "id": "698ddd22",
   "metadata": {},
   "source": [
    "#### Creating tables:"
   ]
  },
  {
   "cell_type": "code",
   "execution_count": 5,
   "id": "a7344a70",
   "metadata": {},
   "outputs": [
    {
     "data": {
      "text/plain": [
       "<cassandra.cluster.ResultSet at 0x1913b28a980>"
      ]
     },
     "execution_count": 5,
     "metadata": {},
     "output_type": "execute_result"
    }
   ],
   "source": [
    "session.execute(\"USE e_commerce\")"
   ]
  },
  {
   "cell_type": "code",
   "execution_count": 6,
   "id": "ff8dc9a9",
   "metadata": {},
   "outputs": [
    {
     "data": {
      "text/plain": [
       "<cassandra.cluster.ResultSet at 0x1913b34d4e0>"
      ]
     },
     "execution_count": 6,
     "metadata": {},
     "output_type": "execute_result"
    }
   ],
   "source": [
    "session.execute(\"\"\" \n",
    "    CREATE TABLE IF NOT EXISTS users (\n",
    "        id UUID PRIMARY KEY, \n",
    "        name TEXT, \n",
    "        last_name TEXT, \n",
    "        age INT\n",
    "    )\n",
    "\"\"\")\n",
    "\n",
    "session.execute(\"\"\" \n",
    "    CREATE TABLE IF NOT EXISTS products (\n",
    "        id UUID PRIMARY KEY, \n",
    "        name TEXT,\n",
    "        price INT,\n",
    "        stock INT\n",
    "    )\n",
    "\"\"\")\n",
    "\n",
    "session.execute(\"\"\" \n",
    "    CREATE TABLE IF NOT EXISTS orders (\n",
    "        id UUID PRIMARY KEY, \n",
    "        user_id UUID, \n",
    "        product_id UUID, \n",
    "        amount INT,\n",
    "        date TIMESTAMP\n",
    "    )\n",
    "\"\"\")"
   ]
  },
  {
   "cell_type": "markdown",
   "id": "1e43b975",
   "metadata": {},
   "source": [
    "## 2. Data Insertion and Retrieval:"
   ]
  },
  {
   "cell_type": "markdown",
   "id": "36efbd34",
   "metadata": {},
   "source": [
    "### Insert sample data into the Cassandra database, including user information and product details. "
   ]
  },
  {
   "cell_type": "markdown",
   "id": "fe24e260",
   "metadata": {},
   "source": [
    "#### Inserting data into tables:"
   ]
  },
  {
   "cell_type": "code",
   "execution_count": 7,
   "id": "17401a9c",
   "metadata": {},
   "outputs": [],
   "source": [
    "users_data = [\n",
    "    [uuid.uuid4(),\"Johny\",\"Bravo\",32],\n",
    "    [uuid.uuid4(),\"Mike\",\"Muller\",23],\n",
    "    [uuid.uuid4(),\"Linda\",\"Joe\",18],\n",
    "    [uuid.uuid4(),\"Mary\",\"Jane\",27]\n",
    "]"
   ]
  },
  {
   "cell_type": "code",
   "execution_count": 8,
   "id": "58ceecb3",
   "metadata": {},
   "outputs": [],
   "source": [
    "insertion_query = \"INSERT INTO users (id, name, last_name, age) VALUES(?,?,?,?)\"\n",
    "\n",
    "prepared_stmt = session.prepare(insertion_query)\n",
    "\n",
    "for record in users_data:\n",
    "    session.execute_async(prepared_stmt, record)"
   ]
  },
  {
   "cell_type": "code",
   "execution_count": 9,
   "id": "5697f6df",
   "metadata": {},
   "outputs": [],
   "source": [
    "products_data = [\n",
    "    [uuid.uuid4(),\"PC\",1250,42],\n",
    "    [uuid.uuid4(),\"Phone\",790,33],\n",
    "    [uuid.uuid4(),\"Tablet\",600,18],\n",
    "    [uuid.uuid4(),\"Mouse\",39,152]\n",
    "]"
   ]
  },
  {
   "cell_type": "code",
   "execution_count": 10,
   "id": "2aec6c0d",
   "metadata": {},
   "outputs": [],
   "source": [
    "products_insertion_query = \"INSERT INTO products (id, name, price, stock) VALUES(?,?,?,?)\"\n",
    "\n",
    "prepared_stmt = session.prepare(products_insertion_query)\n",
    "\n",
    "for record in products_data:\n",
    "    session.execute_async(prepared_stmt, record)"
   ]
  },
  {
   "cell_type": "code",
   "execution_count": 11,
   "id": "9fc7ee7d",
   "metadata": {},
   "outputs": [],
   "source": [
    "def check_user_id(user_name,user_last_name):\n",
    "    try:\n",
    "        user_query = \"SELECT id FROM users WHERE name = %s AND last_name = %s ALLOW FILTERING\"\n",
    "        user_result = session.execute(user_query, (user_name, user_last_name,))\n",
    "        user_id = user_result.one().id\n",
    "        return user_id\n",
    "    except Exception as e:\n",
    "        print(f\"Sorry, this user is not registered: {e}\")"
   ]
  },
  {
   "cell_type": "code",
   "execution_count": 12,
   "id": "ebb28c33",
   "metadata": {},
   "outputs": [],
   "source": [
    "def order(user_name, user_last_name, product_name, amount_ordered):\n",
    "    \n",
    "    user_id = check_user_id(user_name,user_last_name)\n",
    "    \n",
    "    try:\n",
    "        product_query = \"SELECT id, stock FROM products WHERE name = %s ALLOW FILTERING\"\n",
    "        product_result = session.execute(product_query, (product_name,))\n",
    "        product_id = product_result.one().id\n",
    "        product_stock = product_result.one().stock\n",
    "        \n",
    "        #Updating products stock in products table\n",
    "        if product_stock < amount_ordered:\n",
    "            sys.exit(\"Not enough products in stock.\")\n",
    "        else:\n",
    "            updated_stock = product_stock - amount_ordered\n",
    "            update_product_query = \"UPDATE products SET stock = %s WHERE id = %s\"\n",
    "            stock_result = session.execute(update_product_query, (updated_stock,product_id,))\n",
    "            \n",
    "    except Exception as e:\n",
    "        print(f\"Sorry, this product does not exist in our shop: {e}\")\n",
    "    \n",
    "    #Placing order\n",
    "    order_data = [uuid.uuid4(),user_id,product_id,amount_ordered,datetime.now()]    \n",
    "    order_query = \"INSERT INTO orders (id, user_id, product_id, amount, date) VALUES(%s,%s,%s,%s,%s)\"  \n",
    "    inserting_order = session.execute(order_query, order_data)\n",
    "    \n",
    "    print(\"Products ordered successfully!\")"
   ]
  },
  {
   "cell_type": "code",
   "execution_count": 13,
   "id": "ea182597",
   "metadata": {},
   "outputs": [
    {
     "name": "stdout",
     "output_type": "stream",
     "text": [
      "Products ordered successfully!\n"
     ]
    }
   ],
   "source": [
    "order(\"Johny\",\"Bravo\",\"PC\",4)"
   ]
  },
  {
   "cell_type": "code",
   "execution_count": 14,
   "id": "bf197b91",
   "metadata": {},
   "outputs": [
    {
     "ename": "SystemExit",
     "evalue": "Not enough products in stock.",
     "output_type": "error",
     "traceback": [
      "An exception has occurred, use %tb to see the full traceback.\n",
      "\u001b[1;31mSystemExit\u001b[0m\u001b[1;31m:\u001b[0m Not enough products in stock.\n"
     ]
    },
    {
     "name": "stderr",
     "output_type": "stream",
     "text": [
      "C:\\Users\\Kristina\\AppData\\Local\\Packages\\PythonSoftwareFoundation.Python.3.10_qbz5n2kfra8p0\\LocalCache\\local-packages\\Python310\\site-packages\\IPython\\core\\interactiveshell.py:3513: UserWarning: To exit: use 'exit', 'quit', or Ctrl-D.\n",
      "  warn(\"To exit: use 'exit', 'quit', or Ctrl-D.\", stacklevel=1)\n"
     ]
    }
   ],
   "source": [
    "order(\"Johny\",\"Bravo\",\"Phone\",1000)"
   ]
  },
  {
   "cell_type": "code",
   "execution_count": 15,
   "id": "22e5e41e",
   "metadata": {},
   "outputs": [
    {
     "name": "stdout",
     "output_type": "stream",
     "text": [
      "Products ordered successfully!\n"
     ]
    }
   ],
   "source": [
    "order(\"Johny\",\"Bravo\",\"Phone\",15)"
   ]
  },
  {
   "cell_type": "markdown",
   "id": "5ee9fa3f",
   "metadata": {},
   "source": [
    "### Retrieve a user's order history using CQL (Cassandra Query Language)."
   ]
  },
  {
   "cell_type": "code",
   "execution_count": 16,
   "id": "46769c0c",
   "metadata": {},
   "outputs": [],
   "source": [
    "def orders_history(user_name,user_last_name):\n",
    "    \n",
    "    user_id = check_user_id(user_name,user_last_name)    \n",
    "    \n",
    "    orders_history_query = \"SELECT * FROM orders WHERE user_id = %s ALLOW FILTERING\"\n",
    "    results = session.execute(orders_history_query,(user_id,))\n",
    "\n",
    "    for row in results:\n",
    "        print(f\"Order id: {row.id}\")\n",
    "        print(f\"User name: {user_name}\")\n",
    "        print(f\"User last name: {user_last_name}\")\n",
    "        print(f\"Product id: {row.product_id}\")\n",
    "        print(f\"Products ordered: {row.amount}\")\n",
    "        print(f\"Date: {row.date}\")\n",
    "        print()\n",
    "\n",
    "    "
   ]
  },
  {
   "cell_type": "code",
   "execution_count": 17,
   "id": "ccf31c46",
   "metadata": {},
   "outputs": [
    {
     "name": "stdout",
     "output_type": "stream",
     "text": [
      "Order id: 4736836b-d4d7-41f7-a251-a9874f656814\n",
      "User name: Johny\n",
      "User last name: Bravo\n",
      "Product id: b240098f-df43-43e9-be03-53dcb2f17ff7\n",
      "Products ordered: 4\n",
      "Date: 2023-08-25 15:44:17.920000\n",
      "\n",
      "Order id: f1953d94-d435-4c72-bb1c-9a0e037094c0\n",
      "User name: Johny\n",
      "User last name: Bravo\n",
      "Product id: a68c1af5-ada2-4f19-8361-2b63ee32fed5\n",
      "Products ordered: 15\n",
      "Date: 2023-08-25 15:44:19.964000\n",
      "\n"
     ]
    }
   ],
   "source": [
    "orders_history(\"Johny\",\"Bravo\")"
   ]
  },
  {
   "cell_type": "markdown",
   "id": "9b671ef5",
   "metadata": {},
   "source": [
    "### Closing connection"
   ]
  },
  {
   "cell_type": "code",
   "execution_count": 18,
   "id": "2c14152e",
   "metadata": {},
   "outputs": [],
   "source": [
    "session.shutdown()\n",
    "cluster.shutdown()"
   ]
  },
  {
   "cell_type": "markdown",
   "id": "ae1dea13",
   "metadata": {},
   "source": [
    "## 3. Time-Series Data:"
   ]
  },
  {
   "cell_type": "markdown",
   "id": "66f27d89",
   "metadata": {},
   "source": [
    "### Design a schema to handle time-series data, such as IoT sensor readings."
   ]
  },
  {
   "cell_type": "markdown",
   "id": "01e2a928",
   "metadata": {},
   "source": [
    "#### Importing libraries"
   ]
  },
  {
   "cell_type": "code",
   "execution_count": 19,
   "id": "eedf2b44",
   "metadata": {},
   "outputs": [],
   "source": [
    "import random\n",
    "from randomtimestamp import randomtimestamp"
   ]
  },
  {
   "cell_type": "markdown",
   "id": "ede7a82f",
   "metadata": {},
   "source": [
    "#### Creating a connection to database"
   ]
  },
  {
   "cell_type": "code",
   "execution_count": 20,
   "id": "9b5bb4a5",
   "metadata": {},
   "outputs": [],
   "source": [
    "cluster = Cluster([\"127.0.0.1\"], port=9042)"
   ]
  },
  {
   "cell_type": "code",
   "execution_count": 21,
   "id": "fb1c2531",
   "metadata": {},
   "outputs": [],
   "source": [
    "session = cluster.connect()"
   ]
  },
  {
   "cell_type": "code",
   "execution_count": 22,
   "id": "daaf0f68",
   "metadata": {},
   "outputs": [
    {
     "data": {
      "text/plain": [
       "<cassandra.cluster.ResultSet at 0x1913b28afe0>"
      ]
     },
     "execution_count": 22,
     "metadata": {},
     "output_type": "execute_result"
    }
   ],
   "source": [
    "create_keyspace_query = \"\"\"\n",
    "    CREATE KEYSPACE IF NOT EXISTS parking_lot\n",
    "    WITH replication = {'class':'SimpleStrategy', 'replication_factor':1}\n",
    "\"\"\"\n",
    "\n",
    "session.execute(create_keyspace_query)"
   ]
  },
  {
   "cell_type": "code",
   "execution_count": 23,
   "id": "33cbc3ee",
   "metadata": {},
   "outputs": [
    {
     "data": {
      "text/plain": [
       "<cassandra.cluster.ResultSet at 0x1913b46caf0>"
      ]
     },
     "execution_count": 23,
     "metadata": {},
     "output_type": "execute_result"
    }
   ],
   "source": [
    "session.execute(\"USE parking_lot\")"
   ]
  },
  {
   "cell_type": "markdown",
   "id": "3fd27ef2",
   "metadata": {},
   "source": [
    "#### Creating table:"
   ]
  },
  {
   "cell_type": "code",
   "execution_count": 24,
   "id": "04831d1d",
   "metadata": {},
   "outputs": [
    {
     "data": {
      "text/plain": [
       "<cassandra.cluster.ResultSet at 0x1913b46cf40>"
      ]
     },
     "execution_count": 24,
     "metadata": {},
     "output_type": "execute_result"
    }
   ],
   "source": [
    "session.execute(\"\"\" \n",
    "    CREATE TABLE IF NOT EXISTS parking_tickets (\n",
    "        id UUID, \n",
    "        parking_lot_number INT,\n",
    "        car_plate TEXT,\n",
    "        start_time TIMESTAMP,\n",
    "        end_time TIMESTAMP,\n",
    "        total_time INT,\n",
    "        amount_to_pay DECIMAL,\n",
    "        PRIMARY KEY (parking_lot_number, start_time)\n",
    "    ) WITH CLUSTERING ORDER BY (start_time DESC);\n",
    "\"\"\")"
   ]
  },
  {
   "cell_type": "markdown",
   "id": "488a4dae",
   "metadata": {},
   "source": [
    "### Insert and retrieve time-series data efficiently, using appropriate time-based partitioning."
   ]
  },
  {
   "cell_type": "markdown",
   "id": "51167542",
   "metadata": {},
   "source": [
    "#### Defining a function for input rows:"
   ]
  },
  {
   "cell_type": "code",
   "execution_count": 25,
   "id": "79707c47",
   "metadata": {},
   "outputs": [],
   "source": [
    "def parking():\n",
    "        \n",
    "    ticket_id = uuid.uuid4()\n",
    "    \n",
    "    parking_lot_number = random.randint(1, 5)\n",
    "    \n",
    "    chars = 'ABCDEFGHIJKLMNOPQRSTUVWXYZ'\n",
    "    nums = '0123456789'\n",
    "    car_plate = ''.join([random.choice(chars) for i in range(3)]+[random.choice(nums) for i in range(3)])\n",
    "    \n",
    "    start_time = randomtimestamp(\n",
    "    2023,\n",
    "    2023,\n",
    "    False,\n",
    "    datetime(2023, 8, 8, 0, 0, 0),\n",
    "    datetime(2023, 8, 8, 11, 59, 59),\n",
    "    \"%d-%m-%Y %H:%M:%S\")\n",
    "    \n",
    "    end_time = randomtimestamp(\n",
    "    2023,\n",
    "    2023,\n",
    "    False,\n",
    "    datetime(2023, 8, 8, 12, 0, 0),\n",
    "    datetime(2023, 8, 8, 23, 59, 59),\n",
    "    \"%d-%m-%Y %H:%M:%S\")\n",
    "    \n",
    "    total_time = round((end_time - start_time).total_seconds())\n",
    "    price_per_sec = 0.016\n",
    "    \n",
    "    amount_to_pay = round(total_time * price_per_sec)/100\n",
    "\n",
    "    tickets_insertion_query = \"\"\"\n",
    "    INSERT INTO parking_tickets (\n",
    "        id, parking_lot_number, car_plate, start_time, end_time, total_time, amount_to_pay\n",
    "        ) VALUES(%s,%s,%s,%s,%s,%s,%s)\n",
    "    \"\"\"\n",
    "\n",
    "    session.execute(tickets_insertion_query, (ticket_id, parking_lot_number, car_plate, start_time, end_time, total_time,amount_to_pay))"
   ]
  },
  {
   "cell_type": "markdown",
   "id": "3151ce3e",
   "metadata": {},
   "source": [
    "#### Inserting data:"
   ]
  },
  {
   "cell_type": "code",
   "execution_count": 26,
   "id": "88358118",
   "metadata": {},
   "outputs": [],
   "source": [
    "for _ in range(50):\n",
    "    parking()"
   ]
  },
  {
   "cell_type": "markdown",
   "id": "3447c45e",
   "metadata": {},
   "source": [
    "#### Retrieving data:"
   ]
  },
  {
   "cell_type": "code",
   "execution_count": 27,
   "id": "70bb358d",
   "metadata": {},
   "outputs": [
    {
     "name": "stdout",
     "output_type": "stream",
     "text": [
      "Ticket_id:e2309e6f-7499-4b4e-aeac-2776da30ede0\n",
      "Parking lot number: 5\n",
      "Car plate: CSB221\n",
      "Parking started: 2023-08-08 11:55:09\n",
      "Parking ended: 2023-08-08 23:17:00\n",
      "Total time (seconds): 40911\n",
      "Amount to pay: 6.55\n",
      "\n",
      "Ticket_id:f3701fd2-1eb4-4cdf-b47b-7d4cc29d68fb\n",
      "Parking lot number: 5\n",
      "Car plate: THV549\n",
      "Parking started: 2023-08-08 11:06:26\n",
      "Parking ended: 2023-08-08 12:44:51\n",
      "Total time (seconds): 5905\n",
      "Amount to pay: 0.94\n",
      "\n",
      "Ticket_id:ad374a78-07bd-4d69-9aa2-1f853cb35e03\n",
      "Parking lot number: 5\n",
      "Car plate: OOX479\n",
      "Parking started: 2023-08-08 10:22:52\n",
      "Parking ended: 2023-08-08 18:16:55\n",
      "Total time (seconds): 28443\n",
      "Amount to pay: 4.55\n",
      "\n",
      "Ticket_id:16f6f505-2c8a-4783-ab8f-3c261f954fcf\n",
      "Parking lot number: 5\n",
      "Car plate: ZCD027\n",
      "Parking started: 2023-08-08 07:39:38\n",
      "Parking ended: 2023-08-08 19:46:51\n",
      "Total time (seconds): 43633\n",
      "Amount to pay: 6.98\n",
      "\n",
      "Ticket_id:d36e99bf-52da-4903-94ee-c22bad34fc8a\n",
      "Parking lot number: 5\n",
      "Car plate: OQH968\n",
      "Parking started: 2023-08-08 05:16:47\n",
      "Parking ended: 2023-08-08 21:09:29\n",
      "Total time (seconds): 57162\n",
      "Amount to pay: 9.15\n",
      "\n",
      "Ticket_id:deb802ef-cba8-4cb7-b949-d2df767605a8\n",
      "Parking lot number: 5\n",
      "Car plate: EDL094\n",
      "Parking started: 2023-08-08 04:18:25\n",
      "Parking ended: 2023-08-08 13:12:02\n",
      "Total time (seconds): 32017\n",
      "Amount to pay: 5.12\n",
      "\n",
      "Ticket_id:b179da84-62ed-4993-999c-e7a7eff5c4dd\n",
      "Parking lot number: 5\n",
      "Car plate: SRV183\n",
      "Parking started: 2023-08-08 03:04:20\n",
      "Parking ended: 2023-08-08 13:33:45\n",
      "Total time (seconds): 37765\n",
      "Amount to pay: 6.04\n",
      "\n",
      "Ticket_id:41d9576b-adef-4a2d-a52e-586ffef91db9\n",
      "Parking lot number: 5\n",
      "Car plate: UOD851\n",
      "Parking started: 2023-08-08 02:35:31\n",
      "Parking ended: 2023-08-08 21:07:15\n",
      "Total time (seconds): 66704\n",
      "Amount to pay: 10.67\n",
      "\n",
      "Ticket_id:cc95920a-3d59-4abe-9bae-b7fdf0503cb9\n",
      "Parking lot number: 5\n",
      "Car plate: GKA989\n",
      "Parking started: 2023-08-08 01:22:05\n",
      "Parking ended: 2023-08-08 17:28:09\n",
      "Total time (seconds): 57964\n",
      "Amount to pay: 9.27\n",
      "\n",
      "Ticket_id:8e6183e7-8fd4-4fab-aadf-7c6dc19f2a16\n",
      "Parking lot number: 5\n",
      "Car plate: NFU767\n",
      "Parking started: 2023-08-08 00:08:42\n",
      "Parking ended: 2023-08-08 22:36:23\n",
      "Total time (seconds): 80861\n",
      "Amount to pay: 12.94\n",
      "\n",
      "Ticket_id:1326e03e-8df3-466e-b50b-492d777dd9cc\n",
      "Parking lot number: 1\n",
      "Car plate: FNA627\n",
      "Parking started: 2023-08-08 11:43:56\n",
      "Parking ended: 2023-08-08 23:56:36\n",
      "Total time (seconds): 43960\n",
      "Amount to pay: 7.03\n",
      "\n",
      "Ticket_id:c50e9be3-4de5-46f8-b9f3-e31b418d15c4\n",
      "Parking lot number: 1\n",
      "Car plate: IZG102\n",
      "Parking started: 2023-08-08 08:58:41\n",
      "Parking ended: 2023-08-08 15:05:55\n",
      "Total time (seconds): 22034\n",
      "Amount to pay: 3.53\n",
      "\n",
      "Ticket_id:15c3df37-a196-426a-878c-322ba05899b4\n",
      "Parking lot number: 1\n",
      "Car plate: MXW595\n",
      "Parking started: 2023-08-08 08:47:43\n",
      "Parking ended: 2023-08-08 18:12:03\n",
      "Total time (seconds): 33860\n",
      "Amount to pay: 5.42\n",
      "\n",
      "Ticket_id:da99cfa9-03f8-4b0b-840e-be70f90f3ab0\n",
      "Parking lot number: 1\n",
      "Car plate: RXC325\n",
      "Parking started: 2023-08-08 06:36:53\n",
      "Parking ended: 2023-08-08 16:04:00\n",
      "Total time (seconds): 34027\n",
      "Amount to pay: 5.44\n",
      "\n",
      "Ticket_id:133d31c4-87da-4a1f-8607-21a8f8cdc9a3\n",
      "Parking lot number: 1\n",
      "Car plate: KHN914\n",
      "Parking started: 2023-08-08 06:24:20\n",
      "Parking ended: 2023-08-08 16:59:27\n",
      "Total time (seconds): 38107\n",
      "Amount to pay: 6.1\n",
      "\n",
      "Ticket_id:01fa2303-d1fd-472a-af66-f0ff517f0a7a\n",
      "Parking lot number: 1\n",
      "Car plate: SQW727\n",
      "Parking started: 2023-08-08 06:20:02\n",
      "Parking ended: 2023-08-08 21:35:45\n",
      "Total time (seconds): 54943\n",
      "Amount to pay: 8.79\n",
      "\n",
      "Ticket_id:f838fc02-a4bd-4064-8cd0-9f70b608975f\n",
      "Parking lot number: 1\n",
      "Car plate: YSX590\n",
      "Parking started: 2023-08-08 05:50:02\n",
      "Parking ended: 2023-08-08 20:04:27\n",
      "Total time (seconds): 51265\n",
      "Amount to pay: 8.2\n",
      "\n",
      "Ticket_id:64c0318a-0cf1-41c2-85de-69b4f6f90c05\n",
      "Parking lot number: 1\n",
      "Car plate: DLO751\n",
      "Parking started: 2023-08-08 04:37:17\n",
      "Parking ended: 2023-08-08 21:07:15\n",
      "Total time (seconds): 59398\n",
      "Amount to pay: 9.5\n",
      "\n",
      "Ticket_id:a0ec34d9-b706-4b93-8f86-1918b94f22de\n",
      "Parking lot number: 1\n",
      "Car plate: YII874\n",
      "Parking started: 2023-08-08 04:36:21\n",
      "Parking ended: 2023-08-08 18:35:59\n",
      "Total time (seconds): 50378\n",
      "Amount to pay: 8.06\n",
      "\n",
      "Ticket_id:d4daa4e0-a6ac-41e7-b02d-9ef7681ad2e4\n",
      "Parking lot number: 1\n",
      "Car plate: UYY431\n",
      "Parking started: 2023-08-08 03:19:49\n",
      "Parking ended: 2023-08-08 20:21:37\n",
      "Total time (seconds): 61308\n",
      "Amount to pay: 9.81\n",
      "\n",
      "Ticket_id:0f855fa6-b9d5-42a7-8bc7-36adfd0672e6\n",
      "Parking lot number: 1\n",
      "Car plate: BTY159\n",
      "Parking started: 2023-08-08 02:56:24\n",
      "Parking ended: 2023-08-08 21:41:39\n",
      "Total time (seconds): 67515\n",
      "Amount to pay: 10.8\n",
      "\n",
      "Ticket_id:28e40ae1-4d0e-45c9-ac55-b01e95bcbf37\n",
      "Parking lot number: 2\n",
      "Car plate: MYQ845\n",
      "Parking started: 2023-08-08 11:35:40\n",
      "Parking ended: 2023-08-08 15:38:21\n",
      "Total time (seconds): 14561\n",
      "Amount to pay: 2.33\n",
      "\n",
      "Ticket_id:33038fa0-36b4-4d97-9990-e1029fdcc635\n",
      "Parking lot number: 2\n",
      "Car plate: URU942\n",
      "Parking started: 2023-08-08 10:22:08\n",
      "Parking ended: 2023-08-08 21:18:29\n",
      "Total time (seconds): 39381\n",
      "Amount to pay: 6.3\n",
      "\n",
      "Ticket_id:2f9e2ce9-ef56-41c0-a79a-3ddbb8cb5b1f\n",
      "Parking lot number: 2\n",
      "Car plate: IMF700\n",
      "Parking started: 2023-08-08 07:59:00\n",
      "Parking ended: 2023-08-08 15:37:06\n",
      "Total time (seconds): 27486\n",
      "Amount to pay: 4.4\n",
      "\n",
      "Ticket_id:3032b490-4386-4f39-b46e-c8d996f70840\n",
      "Parking lot number: 2\n",
      "Car plate: YLG751\n",
      "Parking started: 2023-08-08 07:35:15\n",
      "Parking ended: 2023-08-08 14:28:02\n",
      "Total time (seconds): 24767\n",
      "Amount to pay: 3.96\n",
      "\n",
      "Ticket_id:b2ef1db7-c0ec-4588-9632-a12f491fe224\n",
      "Parking lot number: 2\n",
      "Car plate: WTQ389\n",
      "Parking started: 2023-08-08 03:31:54\n",
      "Parking ended: 2023-08-08 23:54:51\n",
      "Total time (seconds): 73377\n",
      "Amount to pay: 11.74\n",
      "\n",
      "Ticket_id:593a2185-155b-4764-b0e0-f10e169ee2ba\n",
      "Parking lot number: 2\n",
      "Car plate: GMP720\n",
      "Parking started: 2023-08-08 02:59:37\n",
      "Parking ended: 2023-08-08 19:08:17\n",
      "Total time (seconds): 58120\n",
      "Amount to pay: 9.3\n",
      "\n",
      "Ticket_id:426cfd5e-e502-44ae-8ca0-f5016f38aad1\n",
      "Parking lot number: 2\n",
      "Car plate: XJC474\n",
      "Parking started: 2023-08-08 02:34:57\n",
      "Parking ended: 2023-08-08 14:48:16\n",
      "Total time (seconds): 43999\n",
      "Amount to pay: 7.04\n",
      "\n",
      "Ticket_id:bf06753a-6ac1-4979-9a46-43f278f8747c\n",
      "Parking lot number: 2\n",
      "Car plate: ZTA413\n",
      "Parking started: 2023-08-08 02:24:46\n",
      "Parking ended: 2023-08-08 15:58:38\n",
      "Total time (seconds): 48832\n",
      "Amount to pay: 7.81\n",
      "\n",
      "Ticket_id:3899c630-9bdb-4a3a-974a-556a1bb7eccb\n",
      "Parking lot number: 4\n",
      "Car plate: AOW158\n",
      "Parking started: 2023-08-08 11:32:36\n",
      "Parking ended: 2023-08-08 17:49:54\n",
      "Total time (seconds): 22638\n",
      "Amount to pay: 3.62\n",
      "\n",
      "Ticket_id:cb7d4143-1760-4e60-a19f-335b336e2dd1\n",
      "Parking lot number: 4\n",
      "Car plate: DRL986\n",
      "Parking started: 2023-08-08 10:24:32\n",
      "Parking ended: 2023-08-08 13:04:43\n",
      "Total time (seconds): 9611\n",
      "Amount to pay: 1.54\n",
      "\n",
      "Ticket_id:8e322cba-e83f-4798-97fc-532178b8a693\n",
      "Parking lot number: 4\n",
      "Car plate: UBO435\n",
      "Parking started: 2023-08-08 09:56:06\n",
      "Parking ended: 2023-08-08 13:56:12\n",
      "Total time (seconds): 14406\n",
      "Amount to pay: 2.3\n",
      "\n",
      "Ticket_id:5a299ddd-3076-4172-9ec2-c1769e9a7a1f\n",
      "Parking lot number: 4\n",
      "Car plate: BOY398\n",
      "Parking started: 2023-08-08 09:38:46\n",
      "Parking ended: 2023-08-08 17:23:55\n",
      "Total time (seconds): 27909\n",
      "Amount to pay: 4.47\n",
      "\n",
      "Ticket_id:b08a8a2d-1553-493f-ab19-3a76bd7ef1d3\n",
      "Parking lot number: 4\n",
      "Car plate: WDY107\n",
      "Parking started: 2023-08-08 09:25:59\n",
      "Parking ended: 2023-08-08 14:02:56\n",
      "Total time (seconds): 16617\n",
      "Amount to pay: 2.66\n",
      "\n",
      "Ticket_id:f180b4d9-6273-4134-ab5c-1fb3106fce3d\n",
      "Parking lot number: 4\n",
      "Car plate: NZV390\n",
      "Parking started: 2023-08-08 09:05:20\n",
      "Parking ended: 2023-08-08 13:19:33\n",
      "Total time (seconds): 15253\n",
      "Amount to pay: 2.44\n",
      "\n",
      "Ticket_id:69249580-858f-45cc-9630-165ca94fc0af\n",
      "Parking lot number: 4\n",
      "Car plate: EMW021\n",
      "Parking started: 2023-08-08 07:06:23\n",
      "Parking ended: 2023-08-08 17:12:15\n",
      "Total time (seconds): 36352\n",
      "Amount to pay: 5.82\n",
      "\n",
      "Ticket_id:392b4fa8-f6e2-4306-8c69-4c707af10f5a\n",
      "Parking lot number: 4\n",
      "Car plate: GPP084\n",
      "Parking started: 2023-08-08 06:04:11\n",
      "Parking ended: 2023-08-08 17:21:48\n",
      "Total time (seconds): 40657\n",
      "Amount to pay: 6.51\n",
      "\n",
      "Ticket_id:8da3a002-9e15-4d27-b17b-e15736cad025\n",
      "Parking lot number: 4\n",
      "Car plate: BED598\n",
      "Parking started: 2023-08-08 05:28:05\n",
      "Parking ended: 2023-08-08 23:46:36\n",
      "Total time (seconds): 65911\n",
      "Amount to pay: 10.55\n",
      "\n",
      "Ticket_id:411c4ee2-ac4e-424b-9331-25002eeffc55\n",
      "Parking lot number: 4\n",
      "Car plate: ECI880\n",
      "Parking started: 2023-08-08 04:21:41\n",
      "Parking ended: 2023-08-08 17:33:51\n",
      "Total time (seconds): 47530\n",
      "Amount to pay: 7.6\n",
      "\n",
      "Ticket_id:915d3458-0a11-4be9-b589-237456d1d3ca\n",
      "Parking lot number: 4\n",
      "Car plate: EIZ905\n",
      "Parking started: 2023-08-08 01:02:29\n",
      "Parking ended: 2023-08-08 13:13:59\n",
      "Total time (seconds): 43890\n",
      "Amount to pay: 7.02\n",
      "\n",
      "Ticket_id:34c3c5a2-9c96-4fdb-83e4-652e47f2ecfa\n",
      "Parking lot number: 3\n",
      "Car plate: ENH546\n",
      "Parking started: 2023-08-08 11:32:17\n",
      "Parking ended: 2023-08-08 23:27:01\n",
      "Total time (seconds): 42884\n",
      "Amount to pay: 6.86\n",
      "\n",
      "Ticket_id:3fe2bafc-0028-43d3-adbe-4404541e612c\n",
      "Parking lot number: 3\n",
      "Car plate: PYV756\n",
      "Parking started: 2023-08-08 10:22:15\n",
      "Parking ended: 2023-08-08 23:12:16\n",
      "Total time (seconds): 46201\n",
      "Amount to pay: 7.39\n",
      "\n",
      "Ticket_id:88414f94-57ed-4a4e-9559-50fb65f4d2be\n",
      "Parking lot number: 3\n",
      "Car plate: CIL425\n",
      "Parking started: 2023-08-08 09:33:06\n",
      "Parking ended: 2023-08-08 18:29:41\n",
      "Total time (seconds): 32195\n",
      "Amount to pay: 5.15\n",
      "\n",
      "Ticket_id:01437cf8-898a-45d9-bd87-de75d35f7fbb\n",
      "Parking lot number: 3\n",
      "Car plate: EKG666\n",
      "Parking started: 2023-08-08 09:02:53\n",
      "Parking ended: 2023-08-08 20:57:53\n",
      "Total time (seconds): 42900\n",
      "Amount to pay: 6.86\n",
      "\n",
      "Ticket_id:d542ab0c-8381-474a-9db2-e23f7836bde6\n",
      "Parking lot number: 3\n",
      "Car plate: PXN488\n",
      "Parking started: 2023-08-08 06:13:04\n",
      "Parking ended: 2023-08-08 16:58:53\n",
      "Total time (seconds): 38749\n",
      "Amount to pay: 6.2\n",
      "\n",
      "Ticket_id:4b2f896b-e26f-4103-b1c3-ff9e45e3660f\n",
      "Parking lot number: 3\n",
      "Car plate: OGJ979\n",
      "Parking started: 2023-08-08 05:18:04\n",
      "Parking ended: 2023-08-08 14:52:03\n",
      "Total time (seconds): 34439\n",
      "Amount to pay: 5.51\n",
      "\n",
      "Ticket_id:4f7f4017-337a-4235-8696-4960033e26a5\n",
      "Parking lot number: 3\n",
      "Car plate: FTG024\n",
      "Parking started: 2023-08-08 04:50:51\n",
      "Parking ended: 2023-08-08 16:18:26\n",
      "Total time (seconds): 41255\n",
      "Amount to pay: 6.6\n",
      "\n",
      "Ticket_id:4c5b717f-0aa9-4b88-9920-c11dd1ef0fff\n",
      "Parking lot number: 3\n",
      "Car plate: AOV618\n",
      "Parking started: 2023-08-08 03:43:12\n",
      "Parking ended: 2023-08-08 15:58:59\n",
      "Total time (seconds): 44147\n",
      "Amount to pay: 7.06\n",
      "\n",
      "Ticket_id:b7ceaabd-0e54-4b84-935d-c078355e496c\n",
      "Parking lot number: 3\n",
      "Car plate: KOT646\n",
      "Parking started: 2023-08-08 02:23:54\n",
      "Parking ended: 2023-08-08 23:06:20\n",
      "Total time (seconds): 74546\n",
      "Amount to pay: 11.93\n",
      "\n",
      "Ticket_id:0cb2c254-4edd-4ee7-9998-9cfed8645354\n",
      "Parking lot number: 3\n",
      "Car plate: AIS281\n",
      "Parking started: 2023-08-08 01:04:48\n",
      "Parking ended: 2023-08-08 18:07:13\n",
      "Total time (seconds): 61345\n",
      "Amount to pay: 9.82\n",
      "\n"
     ]
    }
   ],
   "source": [
    "select_readings_query = \"\"\"\n",
    "SELECT * FROM parking_tickets\n",
    "\"\"\"\n",
    "\n",
    "results = session.execute(select_readings_query)\n",
    "\n",
    "for row in results:\n",
    "    print(f\"Ticket_id:{row.id}\")  \n",
    "    print(f\"Parking lot number: {row.parking_lot_number}\")    \n",
    "    print(f\"Car plate: {row.car_plate}\")    \n",
    "    print(f\"Parking started: {row.start_time}\")    \n",
    "    print(f\"Parking ended: {row.end_time}\")    \n",
    "    print(f\"Total time (seconds): {row.total_time}\")    \n",
    "    print(f\"Amount to pay: {row.amount_to_pay}\")  \n",
    "    print()"
   ]
  },
  {
   "cell_type": "markdown",
   "id": "85d95cd2",
   "metadata": {},
   "source": [
    "### Closing connection"
   ]
  },
  {
   "cell_type": "code",
   "execution_count": 28,
   "id": "9859a662",
   "metadata": {},
   "outputs": [],
   "source": [
    "session.shutdown()\n",
    "cluster.shutdown()"
   ]
  }
 ],
 "metadata": {
  "kernelspec": {
   "display_name": "Python 3 (ipykernel)",
   "language": "python",
   "name": "python3"
  },
  "language_info": {
   "codemirror_mode": {
    "name": "ipython",
    "version": 3
   },
   "file_extension": ".py",
   "mimetype": "text/x-python",
   "name": "python",
   "nbconvert_exporter": "python",
   "pygments_lexer": "ipython3",
   "version": "3.10.11"
  }
 },
 "nbformat": 4,
 "nbformat_minor": 5
}
