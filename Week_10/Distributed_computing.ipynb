{
 "cells": [
  {
   "cell_type": "markdown",
   "id": "89031653",
   "metadata": {},
   "source": [
    "# Parallel Matrix Multiplication:"
   ]
  },
  {
   "cell_type": "markdown",
   "id": "c6e697f1",
   "metadata": {},
   "source": [
    "Implement parallel matrix multiplication using the concurrent.futures module to speed up the computation of large matrices. "
   ]
  },
  {
   "cell_type": "markdown",
   "id": "036de0bf",
   "metadata": {},
   "source": [
    "#### Importing libraries"
   ]
  },
  {
   "cell_type": "code",
   "execution_count": 1,
   "id": "65aefc2c",
   "metadata": {},
   "outputs": [],
   "source": [
    "import concurrent.futures\n",
    "from concurrent.futures import ThreadPoolExecutor\n",
    "import requests"
   ]
  },
  {
   "cell_type": "markdown",
   "id": "fc5c354f",
   "metadata": {},
   "source": [
    "#### Examples of matrices"
   ]
  },
  {
   "cell_type": "code",
   "execution_count": 2,
   "id": "fe33e0cb",
   "metadata": {},
   "outputs": [],
   "source": [
    "matrix_A = [\n",
    "    [1,2,3],\n",
    "    [4,5,6]\n",
    "]\n",
    "\n",
    "matrix_B = [\n",
    "    [1,2],\n",
    "    [4,5],\n",
    "    [7,8]\n",
    "]"
   ]
  },
  {
   "cell_type": "markdown",
   "id": "251c6231",
   "metadata": {},
   "source": [
    "#### Defining matrice multiplication function"
   ]
  },
  {
   "cell_type": "code",
   "execution_count": 3,
   "id": "0400b8bb",
   "metadata": {},
   "outputs": [],
   "source": [
    "def matrix_multiplication(matrix_A,matrix_B):\n",
    "    A_rows = len(matrix_A)\n",
    "    B_rows = len(matrix_B)\n",
    "    A_cols = len(matrix_A[0])\n",
    "    B_cols = len(matrix_B[0])\n",
    "    \n",
    "    result = [[0 for i in range(B_cols)] for i in range(A_rows)]\n",
    "\n",
    "    if A_cols != B_rows:\n",
    "        return(\"Matrice A columns size is not equal to matrice B rows size.\")\n",
    "    \n",
    "    for i in range(A_rows):\n",
    "        for j in range(B_cols):\n",
    "            for k in range(A_cols):\n",
    "                result[i][j] += matrix_A[i][k] * matrix_B[k][j]\n",
    "                \n",
    "    return result"
   ]
  },
  {
   "cell_type": "code",
   "execution_count": 4,
   "id": "3484a315",
   "metadata": {},
   "outputs": [
    {
     "name": "stdout",
     "output_type": "stream",
     "text": [
      "[30, 36]\n",
      "[66, 81]\n"
     ]
    }
   ],
   "source": [
    "for row in matrix_multiplication(matrix_A,matrix_B):\n",
    "    print(row)"
   ]
  },
  {
   "cell_type": "markdown",
   "id": "7e991f64",
   "metadata": {},
   "source": [
    "#### Defining parallel matrice multiplication function"
   ]
  },
  {
   "cell_type": "code",
   "execution_count": 5,
   "id": "1b6c56d2",
   "metadata": {},
   "outputs": [],
   "source": [
    "def parallel_matrix_multiplication(matrix_A,matrix_B):\n",
    "    result_matrix = []\n",
    "    \n",
    "    with ThreadPoolExecutor() as ex:\n",
    "        futures = []\n",
    "\n",
    "        future = ex.submit(matrix_multiplication, matrix_A, matrix_B)\n",
    "        futures.append(future)\n",
    "\n",
    "        for future in concurrent.futures.as_completed(futures):\n",
    "            result_matrix.append(future.result())\n",
    "            \n",
    "    return result_matrix"
   ]
  },
  {
   "cell_type": "code",
   "execution_count": 6,
   "id": "83434578",
   "metadata": {},
   "outputs": [
    {
     "name": "stdout",
     "output_type": "stream",
     "text": [
      "[30, 36]\n",
      "[66, 81]\n"
     ]
    }
   ],
   "source": [
    "for row in parallel_matrix_multiplication(matrix_A,matrix_B)[0]:\n",
    "    print(row)"
   ]
  },
  {
   "cell_type": "markdown",
   "id": "0b6b589e",
   "metadata": {},
   "source": [
    "# Distributed Web Scraping:"
   ]
  },
  {
   "cell_type": "markdown",
   "id": "ff2e25fe",
   "metadata": {},
   "source": [
    "Distribute web scraping tasks across multiple processes or threads using concurrent.futures to gather data from various websites simultaneously."
   ]
  },
  {
   "cell_type": "markdown",
   "id": "9d7a3381",
   "metadata": {},
   "source": [
    "#### Defining function of website status scraping"
   ]
  },
  {
   "cell_type": "code",
   "execution_count": 7,
   "id": "0d6ce552",
   "metadata": {},
   "outputs": [],
   "source": [
    "def status_scrape(url):\n",
    "    try:\n",
    "        response = requests.get(url)\n",
    "        print(f\"Response code of: {url} is {response.status_code}.\")\n",
    "    except:\n",
    "        print(url,\"website does not exist.\")"
   ]
  },
  {
   "cell_type": "markdown",
   "id": "5a8d1e0f",
   "metadata": {},
   "source": [
    "#### Examples of websites urls"
   ]
  },
  {
   "cell_type": "code",
   "execution_count": 8,
   "id": "f8a48a30",
   "metadata": {},
   "outputs": [],
   "source": [
    "urls = [\n",
    "    'http://facebook.com',\n",
    "    'http://youtube.com',\n",
    "    'http://somewebsite.com'\n",
    "]"
   ]
  },
  {
   "cell_type": "code",
   "execution_count": 9,
   "id": "650cced1",
   "metadata": {},
   "outputs": [
    {
     "name": "stdout",
     "output_type": "stream",
     "text": [
      "http://somewebsite.com website does not exist.\n",
      "Response code of: http://facebook.com is 200.\n",
      "Response code of: http://youtube.com is 200.\n"
     ]
    }
   ],
   "source": [
    "with ThreadPoolExecutor(max_workers=len(urls)) as executor:\n",
    "    results = list(executor.map(status_scrape, urls))"
   ]
  },
  {
   "cell_type": "markdown",
   "id": "0a6eb35a",
   "metadata": {},
   "source": [
    "# Parallel Word Count:"
   ]
  },
  {
   "cell_type": "markdown",
   "id": "25b84a2b",
   "metadata": {},
   "source": [
    "Distribute the task of counting words in multiple text files across multiple processes using the concurrent.futures module."
   ]
  },
  {
   "cell_type": "markdown",
   "id": "91f5d7ce",
   "metadata": {},
   "source": [
    "#### Defining a word count function"
   ]
  },
  {
   "cell_type": "code",
   "execution_count": 10,
   "id": "364358cd",
   "metadata": {},
   "outputs": [],
   "source": [
    "def word_count(files:list):\n",
    "    for i in files:\n",
    "        with open(i,\"r\") as file:\n",
    "            data = file.read()\n",
    "            words = data.split()\n",
    "            print(f'Text file: \"{i}\" has: {len(words)} words in it.')"
   ]
  },
  {
   "cell_type": "markdown",
   "id": "e71c800b",
   "metadata": {},
   "source": [
    "#### Examples of text files"
   ]
  },
  {
   "cell_type": "code",
   "execution_count": 11,
   "id": "02ef7c6a",
   "metadata": {},
   "outputs": [],
   "source": [
    "text_files = [\n",
    "    \"sample1.txt\",\n",
    "    \"sample2.txt\",\n",
    "    \"sample3.txt\"\n",
    "]"
   ]
  },
  {
   "cell_type": "code",
   "execution_count": 12,
   "id": "9b40b89d",
   "metadata": {},
   "outputs": [
    {
     "name": "stdout",
     "output_type": "stream",
     "text": [
      "Text file: \"sample1.txt\" has: 88 words in it.\n",
      "Text file: \"sample2.txt\" has: 423 words in it.\n",
      "Text file: \"sample3.txt\" has: 546 words in it.\n"
     ]
    }
   ],
   "source": [
    "with ThreadPoolExecutor() as ex:\n",
    "    results = ex.map(word_count(text_files))\n",
    "    for result in results:\n",
    "        print(result)"
   ]
  }
 ],
 "metadata": {
  "kernelspec": {
   "display_name": "Python 3 (ipykernel)",
   "language": "python",
   "name": "python3"
  },
  "language_info": {
   "codemirror_mode": {
    "name": "ipython",
    "version": 3
   },
   "file_extension": ".py",
   "mimetype": "text/x-python",
   "name": "python",
   "nbconvert_exporter": "python",
   "pygments_lexer": "ipython3",
   "version": "3.10.11"
  }
 },
 "nbformat": 4,
 "nbformat_minor": 5
}
