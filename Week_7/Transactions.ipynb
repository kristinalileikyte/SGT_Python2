{
 "cells": [
  {
   "cell_type": "markdown",
   "id": "47da4410",
   "metadata": {},
   "source": [
    "## 1. **Task: Bank Transactions**\n",
    "You are tasked with implementing a banking system that allows customers to transfer funds between accounts.\n",
    "Design a SQL transaction to ensure that the amount is deducted from the sender's account and added to the receiver's account in an atomic manner.\n",
    "If any part of the transaction fails, rollback the changes to maintain data integrity."
   ]
  },
  {
   "cell_type": "markdown",
   "id": "7c878395",
   "metadata": {},
   "source": [
    "### Import library"
   ]
  },
  {
   "cell_type": "code",
   "execution_count": 1,
   "id": "9e8b95cf",
   "metadata": {},
   "outputs": [],
   "source": [
    "import mysql.connector"
   ]
  },
  {
   "cell_type": "markdown",
   "id": "daf601f2",
   "metadata": {},
   "source": [
    "### Establishing connection to MySQL"
   ]
  },
  {
   "cell_type": "code",
   "execution_count": 2,
   "id": "11ce6691",
   "metadata": {},
   "outputs": [],
   "source": [
    "connection = mysql.connector.connect(user='root',\n",
    "                              password='',\n",
    "                              host='localhost',\n",
    "                              database='bank')"
   ]
  },
  {
   "cell_type": "markdown",
   "id": "c5e0dc6c",
   "metadata": {},
   "source": [
    "### Creating a cursor object"
   ]
  },
  {
   "cell_type": "code",
   "execution_count": 3,
   "id": "2b263241",
   "metadata": {},
   "outputs": [],
   "source": [
    "cursor = connection.cursor()"
   ]
  },
  {
   "cell_type": "markdown",
   "id": "ec9a6fdc",
   "metadata": {},
   "source": [
    "### Creating tables"
   ]
  },
  {
   "cell_type": "code",
   "execution_count": 4,
   "id": "2167c9cd",
   "metadata": {},
   "outputs": [],
   "source": [
    "customers_table = (\"\"\"\n",
    "CREATE TABLE customers (\n",
    "    id INT AUTO_INCREMENT PRIMARY KEY,\n",
    "    name VARCHAR(50),\n",
    "    surname VARCHAR(50),\n",
    "    balance INT\n",
    "    );\n",
    "\"\"\")\n",
    "\n",
    "transactions_table = (\"\"\"\n",
    "CREATE TABLE transactions (\n",
    "    id INT AUTO_INCREMENT PRIMARY KEY,\n",
    "    sender INT,\n",
    "    receiver INT,\n",
    "    balance INT\n",
    "    );\n",
    "\"\"\")\n",
    "\n",
    "cursor.execute(customers_table)\n",
    "cursor.execute(transactions_table)"
   ]
  },
  {
   "cell_type": "markdown",
   "id": "c107ef13",
   "metadata": {},
   "source": [
    "### Inserting values into tables"
   ]
  },
  {
   "cell_type": "code",
   "execution_count": 5,
   "id": "b49535cb",
   "metadata": {},
   "outputs": [],
   "source": [
    "cursor.execute(\"\"\"\n",
    "INSERT INTO customers (\n",
    "    name, surname, balance\n",
    "    ) VALUES                  \n",
    "        (\"Johny\", \"Bravo\", 500),\n",
    "        (\"Michael\", \"Keaton\", 987892),\n",
    "        (\"Philip\", \"Smith\", 999),\n",
    "        (\"Jack\", \"Bing\",456321),\n",
    "        (\"Velma\", \"Vellington\", 1000000);\n",
    "\"\"\")"
   ]
  },
  {
   "cell_type": "code",
   "execution_count": 6,
   "id": "4a89224a",
   "metadata": {},
   "outputs": [],
   "source": [
    "connection.commit()"
   ]
  },
  {
   "cell_type": "markdown",
   "id": "3e4d6781",
   "metadata": {},
   "source": [
    "### Transaction:"
   ]
  },
  {
   "cell_type": "code",
   "execution_count": 7,
   "id": "39dc8129",
   "metadata": {},
   "outputs": [],
   "source": [
    "def transaction (sender_id:int,receiver_id:int,amount:int):\n",
    "    try:\n",
    "        cursor.execute(\"SELECT balance FROM customers WHERE id = %s;\",(sender_id,))\n",
    "        sender_balance = cursor.fetchone()[0]\n",
    "        \n",
    "        print(f\"Sender balance:\",sender_balance)\n",
    "        print(f\"Amount to be transfered:\",amount)\n",
    "        \n",
    "        \n",
    "        if amount <= sender_balance:\n",
    "            \n",
    "            # Updating sender balance\n",
    "            sender_balance -= amount\n",
    "            cursor.execute(\"UPDATE customers SET balance = %s WHERE id = %s;\",(sender_balance, sender_id,))\n",
    "            \n",
    "            # Updating receiver balance\n",
    "            cursor.execute(\"SELECT balance FROM customers WHERE id = %s;\",(receiver_id,))\n",
    "            receiver_balance = cursor.fetchone()[0]\n",
    "            print(f\"Receiver balance before transaction:\",receiver_balance)\n",
    "            \n",
    "            receiver_balance += amount\n",
    "            cursor.execute(\"UPDATE customers SET balance = %s WHERE id = %s;\",(receiver_balance, receiver_id,))  \n",
    "            \n",
    "            # Updating transactions table\n",
    "            cursor.execute(\"INSERT INTO transactions (sender, receiver, balance) VALUES (%s,%s,%s)\",(sender_id, receiver_id, amount))  \n",
    "\n",
    "            # Commiting changes\n",
    "            connection.commit()\n",
    "            print(f\"Sender balance after transaction:\",sender_balance)\n",
    "            \n",
    "            print(f\"Receiver balance after transaction:\",receiver_balance)\n",
    "        \n",
    "        else:\n",
    "            print(\"Insufficient funds.\")\n",
    "       \n",
    "    except Exception as e:\n",
    "        connection.rollback()\n",
    "        print(e)"
   ]
  },
  {
   "cell_type": "code",
   "execution_count": 8,
   "id": "d816c195",
   "metadata": {},
   "outputs": [
    {
     "name": "stdout",
     "output_type": "stream",
     "text": [
      "Sender balance: 987892\n",
      "Amount to be transfered: 54400\n",
      "Receiver balance before transaction: 500\n",
      "Sender balance after transaction: 933492\n",
      "Receiver balance after transaction: 54900\n"
     ]
    }
   ],
   "source": [
    "transaction(2,1,54400)"
   ]
  },
  {
   "cell_type": "code",
   "execution_count": 9,
   "id": "5481ae75",
   "metadata": {},
   "outputs": [
    {
     "name": "stdout",
     "output_type": "stream",
     "text": [
      "Sender balance: 54900\n",
      "Amount to be transfered: 40000\n",
      "Receiver balance before transaction: 999\n",
      "Sender balance after transaction: 14900\n",
      "Receiver balance after transaction: 40999\n"
     ]
    }
   ],
   "source": [
    "transaction(1,3,40000)"
   ]
  },
  {
   "cell_type": "markdown",
   "id": "13efd8d0",
   "metadata": {},
   "source": [
    "### Closing connection"
   ]
  },
  {
   "cell_type": "code",
   "execution_count": 10,
   "id": "27ac2e49",
   "metadata": {},
   "outputs": [],
   "source": [
    "connection.close()"
   ]
  },
  {
   "cell_type": "markdown",
   "id": "65e89b53",
   "metadata": {},
   "source": [
    "# 2. **Task: Order Processing**\n",
    "You are developing an online shopping platform.\n",
    "Create a SQL transaction that updates the inventory of products when a customer places an order.\n",
    "Deduct the ordered quantity from the product stock and update the order status.\n",
    "If any part of the transaction fails (e.g., insufficient stock), roll back the changes to ensure consistent data."
   ]
  },
  {
   "cell_type": "markdown",
   "id": "0164a4e7",
   "metadata": {},
   "source": [
    "### Establishing connection to MySQL"
   ]
  },
  {
   "cell_type": "code",
   "execution_count": 11,
   "id": "cfa932b4",
   "metadata": {},
   "outputs": [],
   "source": [
    "connection = mysql.connector.connect(user='root',\n",
    "                              password='',\n",
    "                              host='localhost',\n",
    "                              database='online_shop')"
   ]
  },
  {
   "cell_type": "markdown",
   "id": "d27a3da2",
   "metadata": {},
   "source": [
    "### Creating a cursor object"
   ]
  },
  {
   "cell_type": "code",
   "execution_count": 12,
   "id": "ab78a359",
   "metadata": {},
   "outputs": [],
   "source": [
    "cursor = connection.cursor()"
   ]
  },
  {
   "cell_type": "markdown",
   "id": "bf26c479",
   "metadata": {},
   "source": [
    "### Creating tables"
   ]
  },
  {
   "cell_type": "code",
   "execution_count": 13,
   "id": "4601fc2c",
   "metadata": {},
   "outputs": [],
   "source": [
    "customers_table = (\"\"\"\n",
    "CREATE TABLE customers (\n",
    "    id INT AUTO_INCREMENT PRIMARY KEY,\n",
    "    name VARCHAR(50),\n",
    "    surname VARCHAR(50)\n",
    "    );\n",
    "\"\"\")\n",
    "\n",
    "products_table = (\"\"\"\n",
    "CREATE TABLE products (\n",
    "    id INT AUTO_INCREMENT PRIMARY KEY,\n",
    "    name VARCHAR(50),\n",
    "    price FLOAT,\n",
    "    amount INT\n",
    "    );\n",
    "\"\"\")\n",
    "\n",
    "orders_table = (\"\"\"\n",
    "CREATE TABLE orders (\n",
    "    id INT AUTO_INCREMENT PRIMARY KEY,\n",
    "    customer_id INT,\n",
    "    product_id INT,\n",
    "    amount INT,\n",
    "    status VARCHAR(50)\n",
    "    );\n",
    "\"\"\")\n",
    "\n",
    "cursor.execute(customers_table)\n",
    "cursor.execute(products_table)\n",
    "cursor.execute(orders_table)"
   ]
  },
  {
   "cell_type": "markdown",
   "id": "7cd65e75",
   "metadata": {},
   "source": [
    "### Inserting values into tables"
   ]
  },
  {
   "cell_type": "code",
   "execution_count": 14,
   "id": "2482fb8b",
   "metadata": {},
   "outputs": [],
   "source": [
    "cursor.execute(\"\"\"\n",
    "INSERT INTO customers (\n",
    "    name, surname\n",
    "    ) VALUES                  \n",
    "        (\"Johny\", \"Bravo\"),\n",
    "        (\"Michael\", \"Keaton\"),\n",
    "        (\"Philip\", \"Smith\"),\n",
    "        (\"Jack\", \"Bing\"),\n",
    "        (\"Velma\", \"Vellington\");\n",
    "\"\"\")\n",
    "cursor.execute(\"\"\"\n",
    "INSERT INTO products (\n",
    "    name, price, amount\n",
    "    ) VALUES                  \n",
    "        (\"Phone\", 489.9, 15),\n",
    "        (\"PC\", 780, 10),\n",
    "        (\"Desk\", 220.5, 100),\n",
    "        (\"Chair\", 150, 150),\n",
    "        (\"Tablet\", 359.2, 45);\n",
    "\"\"\")"
   ]
  },
  {
   "cell_type": "code",
   "execution_count": 15,
   "id": "8ca506d6",
   "metadata": {},
   "outputs": [],
   "source": [
    "connection.commit()"
   ]
  },
  {
   "cell_type": "markdown",
   "id": "1d2538bb",
   "metadata": {},
   "source": [
    "### Transaction:"
   ]
  },
  {
   "cell_type": "code",
   "execution_count": 16,
   "id": "e4b7f647",
   "metadata": {},
   "outputs": [],
   "source": [
    "def order (customer_id:int,product_id:int,amount:int):\n",
    "    try:\n",
    "        cursor.execute(\"SELECT amount FROM products WHERE id = %s;\",(product_id,))\n",
    "        product_amount = cursor.fetchone()[0]\n",
    "        \n",
    "        print(f\"Product amount:\",product_amount)\n",
    "        print(f\"Amount to be sold:\",amount)\n",
    "        \n",
    "        # Updating orders table\n",
    "        cursor.execute(\"INSERT INTO orders (customer_id, product_id, amount, status) VALUES (%s,%s,%s,'pending')\",(customer_id, product_id, amount))\n",
    "        \n",
    "        if amount <= product_amount:\n",
    "            \n",
    "            # Updating products stock\n",
    "            product_amount -= amount\n",
    "            cursor.execute(\"UPDATE products SET amount = %s WHERE id = %s;\",(product_amount, product_id,))\n",
    "            \n",
    "            # Updating orders table\n",
    "            cursor.execute(\"UPDATE orders SET status = 'complete' WHERE id = LAST_INSERT_ID()\")  \n",
    "\n",
    "            # Commiting changes\n",
    "            connection.commit()\n",
    "            print(f\"Products amount after order:\",product_amount)\n",
    "        \n",
    "        else:\n",
    "            print(\"Insufficient product stock.\")\n",
    "            #Updating orders table\n",
    "            cursor.execute(\"UPDATE orders SET status = 'rejected' WHERE id = LAST_INSERT_ID()\")\n",
    "            # Commiting changes\n",
    "            connection.commit()\n",
    "       \n",
    "    except Exception as e:\n",
    "        connection.rollback()\n",
    "        print(e)"
   ]
  },
  {
   "cell_type": "code",
   "execution_count": 17,
   "id": "c0c26795",
   "metadata": {},
   "outputs": [
    {
     "name": "stdout",
     "output_type": "stream",
     "text": [
      "Product amount: 15\n",
      "Amount to be sold: 20\n",
      "Insufficient product stock.\n"
     ]
    }
   ],
   "source": [
    "order(1,1,20)"
   ]
  },
  {
   "cell_type": "code",
   "execution_count": 18,
   "id": "c6cc8961",
   "metadata": {},
   "outputs": [
    {
     "name": "stdout",
     "output_type": "stream",
     "text": [
      "Product amount: 15\n",
      "Amount to be sold: 12\n",
      "Products amount after order: 3\n"
     ]
    }
   ],
   "source": [
    "order(3,1,12)"
   ]
  },
  {
   "cell_type": "code",
   "execution_count": 19,
   "id": "f2bcb96b",
   "metadata": {},
   "outputs": [
    {
     "name": "stdout",
     "output_type": "stream",
     "text": [
      "Product amount: 100\n",
      "Amount to be sold: 2\n",
      "Products amount after order: 98\n"
     ]
    }
   ],
   "source": [
    "order(2,3,2)"
   ]
  },
  {
   "cell_type": "markdown",
   "id": "edc592fe",
   "metadata": {},
   "source": [
    "### Closing connection"
   ]
  },
  {
   "cell_type": "code",
   "execution_count": 20,
   "id": "6ad7277b",
   "metadata": {},
   "outputs": [],
   "source": [
    "connection.close()"
   ]
  },
  {
   "cell_type": "markdown",
   "id": "8f515c30",
   "metadata": {},
   "source": [
    "# 3. **Task: Employee Salary Adjustment**\n",
    "Your HR department needs to apply a salary adjustment to all employees based on their performance.\n",
    "Design a SQL transaction that updates the salary of each employee with the corresponding adjustment and logs the changes. If there is any issue while updating salaries, roll back the changes to maintain the previous salary data."
   ]
  },
  {
   "cell_type": "markdown",
   "id": "bc76fdcf",
   "metadata": {},
   "source": [
    "### Establishing connection to MySQL"
   ]
  },
  {
   "cell_type": "code",
   "execution_count": 21,
   "id": "2799eb58",
   "metadata": {},
   "outputs": [],
   "source": [
    "connection = mysql.connector.connect(user='root',\n",
    "                              password='',\n",
    "                              host='localhost',\n",
    "                              database='employee_salaries')"
   ]
  },
  {
   "cell_type": "markdown",
   "id": "dc183c1a",
   "metadata": {},
   "source": [
    "### Creating a cursor object"
   ]
  },
  {
   "cell_type": "code",
   "execution_count": 22,
   "id": "0c565d43",
   "metadata": {},
   "outputs": [],
   "source": [
    "cursor = connection.cursor()"
   ]
  },
  {
   "cell_type": "markdown",
   "id": "b18118e3",
   "metadata": {},
   "source": [
    "### Creating tables"
   ]
  },
  {
   "cell_type": "code",
   "execution_count": 23,
   "id": "497a8958",
   "metadata": {},
   "outputs": [],
   "source": [
    "employees_table = (\"\"\"\n",
    "CREATE TABLE employees (\n",
    "    id INT AUTO_INCREMENT PRIMARY KEY,\n",
    "    name VARCHAR(50),\n",
    "    surname VARCHAR(50),\n",
    "    salary INT\n",
    "    );\n",
    "\"\"\")\n",
    "\n",
    "salary_adjustment_table = (\"\"\"\n",
    "CREATE TABLE salary_adjustments (\n",
    "    id INT AUTO_INCREMENT PRIMARY KEY,\n",
    "    employee_id INT,\n",
    "    salary_adjustment INT,\n",
    "    timestamp TIMESTAMP\n",
    "    );\n",
    "\"\"\")\n",
    "\n",
    "cursor.execute(employees_table)\n",
    "cursor.execute(salary_adjustment_table)"
   ]
  },
  {
   "cell_type": "markdown",
   "id": "65b98c15",
   "metadata": {},
   "source": [
    "### Inserting values into tables"
   ]
  },
  {
   "cell_type": "code",
   "execution_count": 24,
   "id": "b3409af0",
   "metadata": {},
   "outputs": [],
   "source": [
    "cursor.execute(\"\"\"\n",
    "INSERT INTO employees (\n",
    "    name, surname, salary\n",
    "    ) VALUES                  \n",
    "        (\"Johny\", \"Bravo\", 1000),\n",
    "        (\"Michael\", \"Keaton\", 850),\n",
    "        (\"Philip\", \"Smith\", 1250),\n",
    "        (\"Jack\", \"Bing\", 2200),\n",
    "        (\"Velma\", \"Vellington\", 600);\n",
    "\"\"\")"
   ]
  },
  {
   "cell_type": "code",
   "execution_count": 25,
   "id": "f784d1fa",
   "metadata": {},
   "outputs": [],
   "source": [
    "connection.commit()"
   ]
  },
  {
   "cell_type": "markdown",
   "id": "f0522ff1",
   "metadata": {},
   "source": [
    "### Transaction:"
   ]
  },
  {
   "cell_type": "code",
   "execution_count": 26,
   "id": "23455004",
   "metadata": {},
   "outputs": [],
   "source": [
    "def salary (employee_id:int,salary_adjustment:int):\n",
    "    try:\n",
    "        cursor.execute(\"SELECT salary FROM employees WHERE id = %s;\",(employee_id,))\n",
    "        employee_salary = cursor.fetchone()[0]\n",
    "        \n",
    "        print(f\"Employee:\",employee_id)\n",
    "        print(f\"Salary before adjustment:\",employee_salary)\n",
    "        \n",
    "        # Updating salary adjustments table\n",
    "        cursor.execute(\"INSERT INTO salary_adjustments (employee_id, salary_adjustment) VALUES (%s,%s)\",(employee_id, salary_adjustment))  \n",
    "        # Commiting changes\n",
    "        connection.commit()\n",
    "\n",
    "        # Updating employees table\n",
    "        employee_salary += salary_adjustment\n",
    "        cursor.execute(\"UPDATE employees SET salary = %s WHERE id = %s\",(employee_salary,employee_id))  \n",
    "\n",
    "        # Commiting changes\n",
    "        connection.commit()\n",
    "        print(f\"New salary:\",employee_salary)\n",
    "       \n",
    "    except Exception as e:\n",
    "        connection.rollback()\n",
    "        print(e)"
   ]
  },
  {
   "cell_type": "code",
   "execution_count": 27,
   "id": "dbde4b5e",
   "metadata": {},
   "outputs": [
    {
     "name": "stdout",
     "output_type": "stream",
     "text": [
      "Employee: 3\n",
      "Salary before adjustment: 1250\n",
      "New salary: 1200\n"
     ]
    }
   ],
   "source": [
    "salary(3,-50)"
   ]
  },
  {
   "cell_type": "code",
   "execution_count": 28,
   "id": "21e55b00",
   "metadata": {},
   "outputs": [
    {
     "name": "stdout",
     "output_type": "stream",
     "text": [
      "Employee: 3\n",
      "Salary before adjustment: 1200\n",
      "New salary: 1400\n"
     ]
    }
   ],
   "source": [
    "salary(3,200)"
   ]
  },
  {
   "cell_type": "markdown",
   "id": "57bc1a09",
   "metadata": {},
   "source": [
    "### Closing connection"
   ]
  },
  {
   "cell_type": "code",
   "execution_count": 29,
   "id": "fa6c2464",
   "metadata": {},
   "outputs": [],
   "source": [
    "connection.close()"
   ]
  },
  {
   "cell_type": "markdown",
   "id": "068255fd",
   "metadata": {},
   "source": [
    "# 4. **Task: Flight Reservation**\n",
    "You are building a flight reservation system. Create a SQL transaction that reserves a seat for a passenger on a flight.\n",
    "Deduct the seat availability, update the reservation record, and log the booking details.\n",
    "If any part of the transaction fails (e.g., seat already taken), roll back the changes and notify the user of the failure."
   ]
  },
  {
   "cell_type": "markdown",
   "id": "0cb133f7",
   "metadata": {},
   "source": [
    "### Establishing connection to MySQL"
   ]
  },
  {
   "cell_type": "code",
   "execution_count": 30,
   "id": "14c4d891",
   "metadata": {},
   "outputs": [],
   "source": [
    "connection = mysql.connector.connect(user='root',\n",
    "                              password='',\n",
    "                              host='localhost',\n",
    "                              database='seats_reservations')"
   ]
  },
  {
   "cell_type": "markdown",
   "id": "17ebfd21",
   "metadata": {},
   "source": [
    "### Creating a cursor object"
   ]
  },
  {
   "cell_type": "code",
   "execution_count": 31,
   "id": "0586a02e",
   "metadata": {},
   "outputs": [],
   "source": [
    "cursor = connection.cursor()"
   ]
  },
  {
   "cell_type": "markdown",
   "id": "dbee871e",
   "metadata": {},
   "source": [
    "### Creating tables"
   ]
  },
  {
   "cell_type": "code",
   "execution_count": 32,
   "id": "072d6bb3",
   "metadata": {},
   "outputs": [],
   "source": [
    "passengers_table = (\"\"\"\n",
    "CREATE TABLE passengers (\n",
    "    id INT AUTO_INCREMENT PRIMARY KEY,\n",
    "    name VARCHAR(50),\n",
    "    surname VARCHAR(50)\n",
    "    );\n",
    "\"\"\")\n",
    "\n",
    "seats_table = (\"\"\"\n",
    "CREATE TABLE seats (\n",
    "    seat_number INT AUTO_INCREMENT PRIMARY KEY,\n",
    "    availability VARCHAR(50)\n",
    "    );\n",
    "\"\"\")\n",
    "\n",
    "reservations_table = (\"\"\"\n",
    "CREATE TABLE reservations (\n",
    "    id INT AUTO_INCREMENT PRIMARY KEY,\n",
    "    passenger_id INT,\n",
    "    seat_number INT,\n",
    "    status VARCHAR(50)\n",
    "    );\n",
    "\"\"\")\n",
    "\n",
    "cursor.execute(passengers_table)\n",
    "cursor.execute(seats_table)\n",
    "cursor.execute(reservations_table)"
   ]
  },
  {
   "cell_type": "markdown",
   "id": "3a36d4dd",
   "metadata": {},
   "source": [
    "### Inserting values into tables"
   ]
  },
  {
   "cell_type": "code",
   "execution_count": 33,
   "id": "094468d3",
   "metadata": {},
   "outputs": [],
   "source": [
    "cursor.execute(\"\"\"\n",
    "INSERT INTO passengers (\n",
    "    name, surname\n",
    "    ) VALUES                  \n",
    "        (\"Johny\", \"Bravo\"),\n",
    "        (\"Michael\", \"Keaton\"),\n",
    "        (\"Philip\", \"Smith\"),\n",
    "        (\"Jack\", \"Bing\"),\n",
    "        (\"Velma\", \"Vellington\");\n",
    "\"\"\")\n",
    "for i in range(50):\n",
    "    cursor.execute(\"\"\"\n",
    "    INSERT INTO seats (\n",
    "        seat_number, availability\n",
    "        ) VALUES                  \n",
    "            (%s, 'open');\n",
    "    \"\"\",(i+1,))\n",
    "    i += 1"
   ]
  },
  {
   "cell_type": "code",
   "execution_count": 34,
   "id": "21c3e25a",
   "metadata": {},
   "outputs": [],
   "source": [
    "connection.commit()"
   ]
  },
  {
   "cell_type": "markdown",
   "id": "c1464674",
   "metadata": {},
   "source": [
    "### Transaction:"
   ]
  },
  {
   "cell_type": "code",
   "execution_count": 35,
   "id": "62cabe3b",
   "metadata": {},
   "outputs": [],
   "source": [
    "def seat_reservation (passenger_id:int,seat_number:int):\n",
    "    try:\n",
    "        cursor.execute(\"SELECT seat_number,availability FROM seats WHERE seat_number = %s;\",(seat_number,))\n",
    "        seat_availability = cursor.fetchone()[1]\n",
    "        \n",
    "        print(f\"Chosen seat:\",seat_number)\n",
    "        print(f\"Seat availability:\",seat_availability)\n",
    "        \n",
    "        # Updating reservations table\n",
    "        cursor.execute(\"INSERT INTO reservations (passenger_id, seat_number, status) VALUES (%s,%s,'pending')\",(passenger_id, seat_number))  \n",
    "        # Commiting changes\n",
    "        connection.commit()\n",
    "            \n",
    "        if seat_availability == 'open':\n",
    "            \n",
    "            # Updating seats table\n",
    "            seat_availability = 'reserved'\n",
    "            cursor.execute(\"UPDATE seats SET availability = %s WHERE seat_number = %s;\",(seat_availability, seat_number,))\n",
    "            \n",
    "            # Updating reservations table\n",
    "            cursor.execute(\"UPDATE reservations SET status = 'successful' WHERE id = LAST_INSERT_ID()\")  \n",
    "\n",
    "            # Commiting changes\n",
    "            connection.commit()\n",
    "            print(f\"Reservation successful\")\n",
    "        \n",
    "        else:\n",
    "            print(\"Reservation declined. Seat is occupied.\")\n",
    "            #Updating reservations table\n",
    "            cursor.execute(\"UPDATE reservations SET status = 'declined' WHERE id = LAST_INSERT_ID()\")\n",
    "            # Commiting changes\n",
    "            connection.commit()\n",
    "       \n",
    "    except Exception as e:\n",
    "        connection.rollback()\n",
    "        print(e)"
   ]
  },
  {
   "cell_type": "code",
   "execution_count": 36,
   "id": "e1e574d0",
   "metadata": {},
   "outputs": [
    {
     "name": "stdout",
     "output_type": "stream",
     "text": [
      "Chosen seat: 2\n",
      "Seat availability: open\n",
      "Reservation successful\n"
     ]
    }
   ],
   "source": [
    "seat_reservation(2,2)"
   ]
  },
  {
   "cell_type": "code",
   "execution_count": 37,
   "id": "5869f182",
   "metadata": {},
   "outputs": [
    {
     "name": "stdout",
     "output_type": "stream",
     "text": [
      "Chosen seat: 2\n",
      "Seat availability: reserved\n",
      "Reservation declined. Seat is occupied.\n"
     ]
    }
   ],
   "source": [
    "seat_reservation(3,2)"
   ]
  },
  {
   "cell_type": "markdown",
   "id": "c04d135d",
   "metadata": {},
   "source": [
    "### Closing connection"
   ]
  },
  {
   "cell_type": "code",
   "execution_count": 38,
   "id": "41b25072",
   "metadata": {},
   "outputs": [],
   "source": [
    "connection.close()"
   ]
  },
  {
   "cell_type": "markdown",
   "id": "1f1ee9e1",
   "metadata": {},
   "source": [
    "# 5. **Task: Product Returns**\n",
    "You are developing an e-commerce platform. Implement a SQL transaction to process product returns initiated by customers.\n",
    "Update the product's return status, refund the customer's payment, and log the return details.\n",
    "If any part of the transaction fails (e.g., invalid return request), roll back the changes and handle the error gracefully."
   ]
  },
  {
   "cell_type": "markdown",
   "id": "756a996d",
   "metadata": {},
   "source": [
    "### Establishing connection to already created database in MySQL"
   ]
  },
  {
   "cell_type": "code",
   "execution_count": 39,
   "id": "494cb37d",
   "metadata": {},
   "outputs": [],
   "source": [
    "connection = mysql.connector.connect(user='root',\n",
    "                              password='',\n",
    "                              host='localhost',\n",
    "                              database='online_shop')"
   ]
  },
  {
   "cell_type": "markdown",
   "id": "4fafae3b",
   "metadata": {},
   "source": [
    "### Creating a cursor object"
   ]
  },
  {
   "cell_type": "code",
   "execution_count": 40,
   "id": "1c553d2d",
   "metadata": {},
   "outputs": [],
   "source": [
    "cursor = connection.cursor(buffered=True)"
   ]
  },
  {
   "cell_type": "markdown",
   "id": "a562fd8b",
   "metadata": {},
   "source": [
    "### Creating new table"
   ]
  },
  {
   "cell_type": "code",
   "execution_count": 41,
   "id": "6516e542",
   "metadata": {},
   "outputs": [],
   "source": [
    "returns_table = (\"\"\"\n",
    "CREATE TABLE returns (\n",
    "    id INT AUTO_INCREMENT PRIMARY KEY,\n",
    "    customer_id INT,\n",
    "    product_id INT,\n",
    "    amount INT,\n",
    "    refund FLOAT,\n",
    "    status VARCHAR(50)\n",
    "    );\n",
    "\"\"\")\n",
    "\n",
    "cursor.execute(returns_table)"
   ]
  },
  {
   "cell_type": "code",
   "execution_count": 42,
   "id": "92bc9d74",
   "metadata": {},
   "outputs": [],
   "source": [
    "connection.commit()"
   ]
  },
  {
   "cell_type": "markdown",
   "id": "1b2421a9",
   "metadata": {},
   "source": [
    "### Transaction:"
   ]
  },
  {
   "cell_type": "code",
   "execution_count": 43,
   "id": "ed8259e1",
   "metadata": {},
   "outputs": [],
   "source": [
    "def return_product (customer_id:int,product_id:int,amount:int):\n",
    "    try:\n",
    "        cursor.execute(\"SELECT id, amount, status FROM orders WHERE customer_id = %s AND product_id = %s AND status = 'complete';\",(customer_id, product_id,))\n",
    "        results = cursor.fetchone()\n",
    "        \n",
    "        order_id = results[0]\n",
    "        products_sold = results[1]\n",
    "        order_status = results[2]\n",
    "\n",
    "        cursor.execute(\"SELECT price, amount FROM products WHERE id = %s;\",(product_id,))\n",
    "        results_products = cursor.fetchone()\n",
    "        refund = results_products[0] * products_sold\n",
    "        products_in_store = results_products[1]\n",
    "\n",
    "        print(f\"Customer:\",customer_id)        \n",
    "        print(f\"Product identification of the product to be returned:\",product_id,\". Amount:\",amount)\n",
    "        print(f\"Refund:\",refund)\n",
    "        \n",
    "        # Updating returns table\n",
    "        cursor.execute(\"INSERT INTO returns (customer_id, product_id, amount, refund, status) VALUES (%s,%s,%s,%s,'pending')\",(customer_id, product_id, amount, refund))\n",
    "        \n",
    "        if order_status == 'complete':\n",
    "            \n",
    "            if amount <= products_sold:    \n",
    "                \n",
    "                # Updating products stock\n",
    "                products_in_store += amount\n",
    "                cursor.execute(\"UPDATE products SET amount = %s WHERE id = %s;\",(products_in_store, product_id,))\n",
    "\n",
    "                # Updating orders table\n",
    "                cursor.execute(\"UPDATE returns SET status = 'refunded' WHERE id = LAST_INSERT_ID()\")  \n",
    "\n",
    "                # Commiting changes\n",
    "                connection.commit()\n",
    "                print(\"Product return completed. Products amount in store after return: \",products_in_store)  \n",
    "                \n",
    "            else:\n",
    "                print(\"Return declined. Too many products asked to be returned.\")\n",
    "        \n",
    "        else:\n",
    "            print(\"Return declined. No such order was completed.\")\n",
    "            #Updating returns table\n",
    "            cursor.execute(\"UPDATE returns SET status = 'rejected' WHERE id = LAST_INSERT_ID()\")\n",
    "            # Commiting changes\n",
    "            connection.commit()\n",
    "       \n",
    "    except Exception as e:\n",
    "        connection.rollback()\n",
    "        print(\"Return declined. No such order was completed.\")"
   ]
  },
  {
   "cell_type": "code",
   "execution_count": 44,
   "id": "0ba7e4d3",
   "metadata": {},
   "outputs": [
    {
     "name": "stdout",
     "output_type": "stream",
     "text": [
      "Return declined. No such order was completed.\n"
     ]
    }
   ],
   "source": [
    "return_product(1,1,5)"
   ]
  },
  {
   "cell_type": "code",
   "execution_count": 45,
   "id": "9ccc830b",
   "metadata": {},
   "outputs": [
    {
     "name": "stdout",
     "output_type": "stream",
     "text": [
      "Customer: 2\n",
      "Product identification of the product to be returned: 3 . Amount: 1\n",
      "Refund: 441.0\n",
      "Product return completed. Products amount in store after return:  99\n"
     ]
    }
   ],
   "source": [
    "return_product(2,3,1)"
   ]
  },
  {
   "cell_type": "markdown",
   "id": "80c074b2",
   "metadata": {},
   "source": [
    "### Closing connection"
   ]
  },
  {
   "cell_type": "code",
   "execution_count": 46,
   "id": "6998b23f",
   "metadata": {},
   "outputs": [],
   "source": [
    "connection.close()"
   ]
  },
  {
   "cell_type": "markdown",
   "id": "2de24c36",
   "metadata": {},
   "source": [
    "# 6. **Task: Student Enrollment**\n",
    "Design a SQL transaction to handle the enrollment of new students in a university.\n",
    "Update the student enrollment records, assign courses, and update the tuition fee payment status. \n",
    "If any part of the transaction fails (e.g., course limit reached), roll back the changes to ensure no invalid enrollments are recorded."
   ]
  },
  {
   "cell_type": "markdown",
   "id": "0c6f335f",
   "metadata": {},
   "source": [
    "### Establishing connection to MySQL"
   ]
  },
  {
   "cell_type": "code",
   "execution_count": 47,
   "id": "2ca14010",
   "metadata": {},
   "outputs": [],
   "source": [
    "connection = mysql.connector.connect(user='root',\n",
    "                              password='',\n",
    "                              host='localhost',\n",
    "                              database='university')"
   ]
  },
  {
   "cell_type": "markdown",
   "id": "923f4640",
   "metadata": {},
   "source": [
    "### Creating a cursor object"
   ]
  },
  {
   "cell_type": "code",
   "execution_count": 48,
   "id": "6fd1ac5c",
   "metadata": {},
   "outputs": [],
   "source": [
    "cursor = connection.cursor()"
   ]
  },
  {
   "cell_type": "markdown",
   "id": "8af0c22d",
   "metadata": {},
   "source": [
    "### Creating tables"
   ]
  },
  {
   "cell_type": "code",
   "execution_count": 49,
   "id": "f942f86a",
   "metadata": {},
   "outputs": [],
   "source": [
    "students_table = (\"\"\"\n",
    "CREATE TABLE students (\n",
    "    id INT AUTO_INCREMENT PRIMARY KEY,\n",
    "    name VARCHAR(50),\n",
    "    surname VARCHAR(50),\n",
    "    courses_enrolled INT DEFAULT 0,\n",
    "    tuition_fee INT DEFAULT 0\n",
    "    );\n",
    "\"\"\")\n",
    "\n",
    "courses_table = (\"\"\"\n",
    "CREATE TABLE courses (\n",
    "    id INT AUTO_INCREMENT PRIMARY KEY,\n",
    "    name VARCHAR(50),\n",
    "    price INT\n",
    "    );\n",
    "\"\"\")\n",
    "\n",
    "students_courses_table = (\"\"\"\n",
    "CREATE TABLE students_courses (\n",
    "    id INT AUTO_INCREMENT PRIMARY KEY,\n",
    "    student_id INT,\n",
    "    course_id INT\n",
    "    );\n",
    "\"\"\")\n",
    "\n",
    "cursor.execute(students_table)\n",
    "cursor.execute(courses_table)\n",
    "cursor.execute(students_courses_table)"
   ]
  },
  {
   "cell_type": "markdown",
   "id": "35a7584f",
   "metadata": {},
   "source": [
    "### Inserting values into tables"
   ]
  },
  {
   "cell_type": "code",
   "execution_count": 50,
   "id": "13d58b95",
   "metadata": {},
   "outputs": [],
   "source": [
    "cursor.execute(\"\"\"\n",
    "INSERT INTO courses (\n",
    "    name, price\n",
    "    ) VALUES                  \n",
    "        (\"English\", 400),\n",
    "        (\"Math\", 650),\n",
    "        (\"Physics\", 780),\n",
    "        (\"Spanish\", 200),\n",
    "        (\"Chemistry\", 770),\n",
    "        (\"Computer Science\", 510),\n",
    "        (\"Biology\", 620);\n",
    "\"\"\")"
   ]
  },
  {
   "cell_type": "code",
   "execution_count": 51,
   "id": "03f8e5c1",
   "metadata": {},
   "outputs": [],
   "source": [
    "connection.commit()"
   ]
  },
  {
   "cell_type": "markdown",
   "id": "40f1131a",
   "metadata": {},
   "source": [
    "### Transaction:"
   ]
  },
  {
   "cell_type": "code",
   "execution_count": 52,
   "id": "4a682210",
   "metadata": {},
   "outputs": [],
   "source": [
    "def update_student_courses (student_id:int,courses_list:list):\n",
    "    try:\n",
    "        cursor.execute(\"SELECT courses_enrolled FROM students WHERE id = %s;\",(student_id,))\n",
    "        courses_enrolled = cursor.fetchone()[0]\n",
    "        courses_count = len(courses_list)\n",
    "        \n",
    "        if (courses_enrolled + courses_count) <= 4:\n",
    "            tuition_fee = 0\n",
    "            for course in courses_list:\n",
    "                cursor.execute(\"INSERT INTO students_courses (student_id, course_id) VALUES (%s,%s)\",(student_id, course,))\n",
    "                cursor.execute(\"SELECT price FROM courses WHERE id = %s;\",(course,))\n",
    "                tuition_fee += cursor.fetchone()[0]\n",
    "\n",
    "            # Updating students table\n",
    "            cursor.execute(\"UPDATE students SET courses_enrolled = %s , tuition_fee = %s WHERE id = %s;\",(courses_count, tuition_fee,student_id))\n",
    "\n",
    "            # Commiting changes\n",
    "            connection.commit()\n",
    "            print(\"Student successfuly enrolled to courses.\")\n",
    "\n",
    "        else: \n",
    "            print(\"Enrollment failed: Too many courses were chosen. LIMIT is 4.\")\n",
    "   \n",
    "    except Exception as e:\n",
    "        connection.rollback()\n",
    "        print(f\"Course update failed:{e}\")\n",
    "        \n",
    "def student_enrollment (name:str,surname:str,courses_list:list):\n",
    "    try:\n",
    "        courses_count = len(courses_list)\n",
    "        if courses_count <= 4:\n",
    "            # Updating students table\n",
    "            cursor.execute(\"INSERT INTO students (name, surname) VALUES (%s,%s)\",(name, surname))\n",
    "            connection.commit()\n",
    "\n",
    "            # Checking for student_id\n",
    "            cursor.execute(\"SELECT LAST_INSERT_ID()\")\n",
    "            student_id = cursor.fetchone()[0]\n",
    "\n",
    "            update_student_courses(student_id,courses_list)\n",
    "        else: \n",
    "            print(\"Enrollment failed: Too many courses were chosen. LIMIT is 4.\")\n",
    "            \n",
    "    except Exception as e:\n",
    "        connection.rollback()\n",
    "        print(f\"Enrollment failed:{e}\")"
   ]
  },
  {
   "cell_type": "code",
   "execution_count": 53,
   "id": "c7e5cb14",
   "metadata": {},
   "outputs": [
    {
     "name": "stdout",
     "output_type": "stream",
     "text": [
      "Student successfuly enrolled to courses.\n"
     ]
    }
   ],
   "source": [
    "student_enrollment(\"Johny\",\"Bravo\",[1,2,3])"
   ]
  },
  {
   "cell_type": "code",
   "execution_count": 54,
   "id": "8397a4a8",
   "metadata": {},
   "outputs": [
    {
     "name": "stdout",
     "output_type": "stream",
     "text": [
      "Student successfuly enrolled to courses.\n"
     ]
    }
   ],
   "source": [
    "student_enrollment(\"Linda\",\"Bold\",[5,2,4])"
   ]
  },
  {
   "cell_type": "code",
   "execution_count": 55,
   "id": "bd9104c5",
   "metadata": {},
   "outputs": [
    {
     "name": "stdout",
     "output_type": "stream",
     "text": [
      "Enrollment failed: Too many courses were chosen. LIMIT is 4.\n"
     ]
    }
   ],
   "source": [
    "update_student_courses(2,[3,6,1])"
   ]
  },
  {
   "cell_type": "code",
   "execution_count": 56,
   "id": "a4ecee4c",
   "metadata": {},
   "outputs": [
    {
     "name": "stdout",
     "output_type": "stream",
     "text": [
      "Student successfuly enrolled to courses.\n"
     ]
    }
   ],
   "source": [
    "update_student_courses(2,[1])"
   ]
  },
  {
   "cell_type": "markdown",
   "id": "dd6a35e3",
   "metadata": {},
   "source": [
    "### Closing connection"
   ]
  },
  {
   "cell_type": "code",
   "execution_count": 57,
   "id": "c4e14911",
   "metadata": {},
   "outputs": [],
   "source": [
    "connection.close()"
   ]
  },
  {
   "cell_type": "markdown",
   "id": "57fc8d08",
   "metadata": {},
   "source": [
    "# Non SQL database:\n",
    "\n",
    "In Python, design your own design of the database (using the files) and perform some practical examples with it. "
   ]
  },
  {
   "cell_type": "code",
   "execution_count": 58,
   "id": "bb879f68",
   "metadata": {},
   "outputs": [],
   "source": [
    "import json"
   ]
  },
  {
   "cell_type": "code",
   "execution_count": 59,
   "id": "2746d0ab",
   "metadata": {},
   "outputs": [],
   "source": [
    "animal1 = {\n",
    "    \"id\":1,\n",
    "    \"name\": \"Bingo\",\n",
    "    \"species\": \"dog\",\n",
    "    \"age\": 8    \n",
    "}\n",
    "animal2 = {\n",
    "    \"id\":2,\n",
    "    \"name\": \"Jango\",\n",
    "    \"species\": \"dog\",\n",
    "    \"age\": 2    \n",
    "}\n",
    "animal3 = {\n",
    "    \"id\":3,\n",
    "    \"name\": \"Grey\",\n",
    "    \"species\": \"cat\",\n",
    "    \"age\": 3    \n",
    "}\n",
    "\n",
    "animals = list()\n",
    "\n",
    "animals.append(animal1)\n",
    "animals.append(animal2)\n",
    "animals.append(animal3)"
   ]
  },
  {
   "cell_type": "code",
   "execution_count": 60,
   "id": "196d4307",
   "metadata": {},
   "outputs": [],
   "source": [
    "with open(\"shelter.json\",\"w\") as shelter_file:\n",
    "    json.dump(animals,shelter_file)"
   ]
  },
  {
   "cell_type": "code",
   "execution_count": 61,
   "id": "de195ff2",
   "metadata": {},
   "outputs": [],
   "source": [
    "with open(\"shelter.json\",\"r\") as shelter_file:\n",
    "    animals_data = json.load(shelter_file)"
   ]
  },
  {
   "cell_type": "code",
   "execution_count": 62,
   "id": "d2ceb896",
   "metadata": {},
   "outputs": [
    {
     "data": {
      "text/plain": [
       "[{'id': 1, 'name': 'Bingo', 'species': 'dog', 'age': 8},\n",
       " {'id': 2, 'name': 'Jango', 'species': 'dog', 'age': 2},\n",
       " {'id': 3, 'name': 'Grey', 'species': 'cat', 'age': 3}]"
      ]
     },
     "execution_count": 62,
     "metadata": {},
     "output_type": "execute_result"
    }
   ],
   "source": [
    "animals_data"
   ]
  },
  {
   "cell_type": "code",
   "execution_count": 63,
   "id": "0aeafd28",
   "metadata": {},
   "outputs": [],
   "source": [
    "class AnimalsDB:\n",
    "    \n",
    "    def __init__(self):\n",
    "        self.load_animals_from_file()\n",
    "    def get_last_id(self):\n",
    "        last_id = 0\n",
    "        for animal in self.animals_data:\n",
    "            if last_id < animal[\"id\"]:\n",
    "                last_id = animal[\"id\"]\n",
    "        return last_id\n",
    "                \n",
    "    def insert(self,name:str,species:str,age:int):\n",
    "        new_id = self.get_last_id() + 1\n",
    "        animal = {\"id\":new_id,\"name\":name,\"species\":species,\"age\":age}\n",
    "        self.animals_data.append(animal)\n",
    "        \n",
    "    def commit(self):\n",
    "        with open(\"shelter.json\",\"w\") as json_f:\n",
    "            json.dump(self.animals_data,shelter_file)\n",
    "            \n",
    "    def rollback(self):\n",
    "        self.load_animals_from_file()\n",
    "\n",
    "    def load_animals_from_file(self):\n",
    "         with open(\"shelter.json\",\"r\") as shelter_file:\n",
    "            self.animals_data = json.load(shelter_file)\n",
    "            \n",
    "    def update(self,id:int,name=None,species=None,age=None):\n",
    "        animal_update = None\n",
    "        for animal in self.animals_data:\n",
    "            if animal[\"id\"] == id:\n",
    "                animal_update = animal\n",
    "                break\n",
    "        if animal_update == None:\n",
    "            return False\n",
    "        \n",
    "        if not (name == None):\n",
    "            animal[\"name\"] = name\n",
    "        if not (species == None):\n",
    "            animal[\"species\"] = species\n",
    "        if not (age == None):    \n",
    "            animal[\"age\"] = age\n",
    "        return True        "
   ]
  },
  {
   "cell_type": "code",
   "execution_count": 64,
   "id": "f5ec0cf1",
   "metadata": {},
   "outputs": [],
   "source": [
    "animals_db = AnimalsDB()"
   ]
  },
  {
   "cell_type": "code",
   "execution_count": 65,
   "id": "6de3b31b",
   "metadata": {},
   "outputs": [],
   "source": [
    "animals_db.insert(\"Honey\",\"Horse\",13)"
   ]
  },
  {
   "cell_type": "code",
   "execution_count": 66,
   "id": "a4210dac",
   "metadata": {},
   "outputs": [
    {
     "data": {
      "text/plain": [
       "[{'id': 1, 'name': 'Bingo', 'species': 'dog', 'age': 8},\n",
       " {'id': 2, 'name': 'Jango', 'species': 'dog', 'age': 2},\n",
       " {'id': 3, 'name': 'Grey', 'species': 'cat', 'age': 3},\n",
       " {'id': 4, 'name': 'Honey', 'species': 'Horse', 'age': 13}]"
      ]
     },
     "execution_count": 66,
     "metadata": {},
     "output_type": "execute_result"
    }
   ],
   "source": [
    "animals_db.animals_data"
   ]
  },
  {
   "cell_type": "code",
   "execution_count": 67,
   "id": "22cb2201",
   "metadata": {},
   "outputs": [],
   "source": [
    "animals_db.rollback()"
   ]
  },
  {
   "cell_type": "code",
   "execution_count": 68,
   "id": "6e77ba33",
   "metadata": {},
   "outputs": [
    {
     "data": {
      "text/plain": [
       "[{'id': 1, 'name': 'Bingo', 'species': 'dog', 'age': 8},\n",
       " {'id': 2, 'name': 'Jango', 'species': 'dog', 'age': 2},\n",
       " {'id': 3, 'name': 'Grey', 'species': 'cat', 'age': 3}]"
      ]
     },
     "execution_count": 68,
     "metadata": {},
     "output_type": "execute_result"
    }
   ],
   "source": [
    "animals_db.animals_data"
   ]
  },
  {
   "cell_type": "code",
   "execution_count": 69,
   "id": "bb8f97f3",
   "metadata": {},
   "outputs": [
    {
     "data": {
      "text/plain": [
       "True"
      ]
     },
     "execution_count": 69,
     "metadata": {},
     "output_type": "execute_result"
    }
   ],
   "source": [
    "animals_db.update(2,age=4)"
   ]
  },
  {
   "cell_type": "code",
   "execution_count": 70,
   "id": "c99785b0",
   "metadata": {},
   "outputs": [
    {
     "data": {
      "text/plain": [
       "[{'id': 1, 'name': 'Bingo', 'species': 'dog', 'age': 8},\n",
       " {'id': 2, 'name': 'Jango', 'species': 'dog', 'age': 4},\n",
       " {'id': 3, 'name': 'Grey', 'species': 'cat', 'age': 3}]"
      ]
     },
     "execution_count": 70,
     "metadata": {},
     "output_type": "execute_result"
    }
   ],
   "source": [
    "animals_db.animals_data"
   ]
  }
 ],
 "metadata": {
  "kernelspec": {
   "display_name": "Python 3 (ipykernel)",
   "language": "python",
   "name": "python3"
  },
  "language_info": {
   "codemirror_mode": {
    "name": "ipython",
    "version": 3
   },
   "file_extension": ".py",
   "mimetype": "text/x-python",
   "name": "python",
   "nbconvert_exporter": "python",
   "pygments_lexer": "ipython3",
   "version": "3.10.11"
  }
 },
 "nbformat": 4,
 "nbformat_minor": 5
}
