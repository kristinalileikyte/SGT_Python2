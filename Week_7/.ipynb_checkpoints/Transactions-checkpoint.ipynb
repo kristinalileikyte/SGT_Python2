{
 "cells": [
  {
   "cell_type": "markdown",
   "id": "47da4410",
   "metadata": {},
   "source": [
    "## 1. **Task: Bank Transactions**\n",
    "You are tasked with implementing a banking system that allows customers to transfer funds between accounts.\n",
    "Design a SQL transaction to ensure that the amount is deducted from the sender's account and added to the receiver's account in an atomic manner.\n",
    "If any part of the transaction fails, rollback the changes to maintain data integrity."
   ]
  },
  {
   "cell_type": "markdown",
   "id": "6010107f",
   "metadata": {},
   "source": [
    "### Import library"
   ]
  },
  {
   "cell_type": "code",
   "execution_count": 1,
   "id": "9e8b95cf",
   "metadata": {},
   "outputs": [],
   "source": [
    "import mysql.connector"
   ]
  },
  {
   "cell_type": "markdown",
   "id": "89b03741",
   "metadata": {},
   "source": [
    "### Establishing connection to MySQL"
   ]
  },
  {
   "cell_type": "code",
   "execution_count": 2,
   "id": "14d8b73f",
   "metadata": {},
   "outputs": [],
   "source": [
    "connection = mysql.connector.connect(user='root',\n",
    "                              password='',\n",
    "                              host='localhost',\n",
    "                              database='bank')"
   ]
  },
  {
   "cell_type": "markdown",
   "id": "4fead50a",
   "metadata": {},
   "source": [
    "### Creating a cursor object"
   ]
  },
  {
   "cell_type": "code",
   "execution_count": 3,
   "id": "3c3c697e",
   "metadata": {},
   "outputs": [],
   "source": [
    "cursor = connection.cursor()"
   ]
  },
  {
   "cell_type": "markdown",
   "id": "fa3ab505",
   "metadata": {},
   "source": [
    "### Creating tables"
   ]
  },
  {
   "cell_type": "code",
   "execution_count": 4,
   "id": "12b4096f",
   "metadata": {},
   "outputs": [],
   "source": [
    "customers_table = (\"\"\"\n",
    "CREATE TABLE customers (\n",
    "    id INT AUTO_INCREMENT PRIMARY KEY,\n",
    "    name VARCHAR(50),\n",
    "    surname VARCHAR(50),\n",
    "    balance INT\n",
    "    );\n",
    "\"\"\")\n",
    "\n",
    "transactions_table = (\"\"\"\n",
    "CREATE TABLE transactions (\n",
    "    id INT AUTO_INCREMENT PRIMARY KEY,\n",
    "    sender INT,\n",
    "    receiver INT,\n",
    "    balance INT\n",
    "    );\n",
    "\"\"\")\n",
    "\n",
    "cursor.execute(customers_table)\n",
    "cursor.execute(transactions_table)"
   ]
  },
  {
   "cell_type": "markdown",
   "id": "e398a4ab",
   "metadata": {},
   "source": [
    "### Inserting values into tables"
   ]
  },
  {
   "cell_type": "code",
   "execution_count": 5,
   "id": "5214407d",
   "metadata": {},
   "outputs": [],
   "source": [
    "cursor.execute(\"\"\"\n",
    "INSERT INTO customers (\n",
    "    name, surname, balance\n",
    "    ) VALUES                  \n",
    "        (\"Johny\", \"Bravo\", 500),\n",
    "        (\"Michael\", \"Keaton\", 987892),\n",
    "        (\"Philip\", \"Smith\", 999),\n",
    "        (\"Jack\", \"Bing\",456321),\n",
    "        (\"Velma\", \"Vellington\", 1000000);\n",
    "\"\"\")"
   ]
  },
  {
   "cell_type": "code",
   "execution_count": 6,
   "id": "39025870",
   "metadata": {},
   "outputs": [],
   "source": [
    "connection.commit()"
   ]
  },
  {
   "cell_type": "markdown",
   "id": "ffd7cf3a",
   "metadata": {},
   "source": [
    "### Transaction:"
   ]
  },
  {
   "cell_type": "code",
   "execution_count": 12,
   "id": "878c1495",
   "metadata": {},
   "outputs": [],
   "source": [
    "def transaction (sender_id:int,receiver_id:int,amount:int):\n",
    "    try:\n",
    "        cursor.execute(\"SELECT balance FROM customers WHERE id = %s;\",(sender_id,))\n",
    "        sender_balance = cursor.fetchone()[0]\n",
    "        \n",
    "        print(f\"Sender balance:\",sender_balance)\n",
    "        print(f\"Amount to be transfered:\",amount)\n",
    "        \n",
    "        \n",
    "        if amount <= sender_balance:\n",
    "            \n",
    "            # Updating sender balance\n",
    "            sender_balance -= amount\n",
    "            cursor.execute(\"UPDATE customers SET balance = %s WHERE id = %s;\",(sender_balance, sender_id,))\n",
    "            \n",
    "            # Updating receiver balance\n",
    "            cursor.execute(\"SELECT balance FROM customers WHERE id = %s;\",(receiver_id,))\n",
    "            receiver_balance = cursor.fetchone()[0]\n",
    "            print(f\"Receiver balance before transaction:\",receiver_balance)\n",
    "            \n",
    "            receiver_balance += amount\n",
    "            cursor.execute(\"UPDATE customers SET balance = %s WHERE id = %s;\",(receiver_balance, receiver_id,))  \n",
    "            \n",
    "            # Updating transactions table\n",
    "            cursor.execute(\"INSERT INTO transactions (sender, receiver, balance) VALUES (%s,%s,%s)\",(sender_id, receiver_id, amount))  \n",
    "\n",
    "            # Commiting changes\n",
    "            connection.commit()\n",
    "            print(f\"Sender balance after transaction:\",sender_balance)\n",
    "            \n",
    "            print(f\"Receiver balance after transaction:\",receiver_balance)\n",
    "        \n",
    "        else:\n",
    "            print(\"Insufficient funds.\")\n",
    "       \n",
    "    except Exception as e:\n",
    "        connection.rollback()\n",
    "        print(e)"
   ]
  },
  {
   "cell_type": "code",
   "execution_count": 13,
   "id": "799b93f4",
   "metadata": {},
   "outputs": [
    {
     "ename": "OperationalError",
     "evalue": "2055: Lost connection to MySQL server at 'localhost:3306', system error: 10038 An operation was attempted on something that is not a socket",
     "output_type": "error",
     "traceback": [
      "\u001b[1;31m---------------------------------------------------------------------------\u001b[0m",
      "\u001b[1;31mOSError\u001b[0m                                   Traceback (most recent call last)",
      "File \u001b[1;32m~\\AppData\\Local\\Packages\\PythonSoftwareFoundation.Python.3.10_qbz5n2kfra8p0\\LocalCache\\local-packages\\Python310\\site-packages\\mysql\\connector\\network.py:170\u001b[0m, in \u001b[0;36mBaseMySQLSocket.send_plain\u001b[1;34m(self, buf, packet_number, compressed_packet_number)\u001b[0m\n\u001b[0;32m    169\u001b[0m \u001b[38;5;28;01mtry\u001b[39;00m:\n\u001b[1;32m--> 170\u001b[0m     \u001b[38;5;28;43mself\u001b[39;49m\u001b[38;5;241;43m.\u001b[39;49m\u001b[43msock\u001b[49m\u001b[38;5;241;43m.\u001b[39;49m\u001b[43msendall\u001b[49m\u001b[43m(\u001b[49m\u001b[43mpacket\u001b[49m\u001b[43m)\u001b[49m\n\u001b[0;32m    171\u001b[0m \u001b[38;5;28;01mexcept\u001b[39;00m \u001b[38;5;167;01mIOError\u001b[39;00m \u001b[38;5;28;01mas\u001b[39;00m err:\n",
      "\u001b[1;31mOSError\u001b[0m: [WinError 10038] An operation was attempted on something that is not a socket",
      "\nThe above exception was the direct cause of the following exception:\n",
      "\u001b[1;31mOperationalError\u001b[0m                          Traceback (most recent call last)",
      "Cell \u001b[1;32mIn[12], line 3\u001b[0m, in \u001b[0;36mtransaction\u001b[1;34m(sender_id, receiver_id, amount)\u001b[0m\n\u001b[0;32m      2\u001b[0m \u001b[38;5;28;01mtry\u001b[39;00m:\n\u001b[1;32m----> 3\u001b[0m     \u001b[43mcursor\u001b[49m\u001b[38;5;241;43m.\u001b[39;49m\u001b[43mexecute\u001b[49m\u001b[43m(\u001b[49m\u001b[38;5;124;43m\"\u001b[39;49m\u001b[38;5;124;43mSELECT balance FROM customers WHERE id = \u001b[39;49m\u001b[38;5;132;43;01m%s\u001b[39;49;00m\u001b[38;5;124;43m;\u001b[39;49m\u001b[38;5;124;43m\"\u001b[39;49m\u001b[43m,\u001b[49m\u001b[43m(\u001b[49m\u001b[43msender_id\u001b[49m\u001b[43m,\u001b[49m\u001b[43m)\u001b[49m\u001b[43m)\u001b[49m\n\u001b[0;32m      4\u001b[0m     sender_balance \u001b[38;5;241m=\u001b[39m cursor\u001b[38;5;241m.\u001b[39mfetchone()[\u001b[38;5;241m0\u001b[39m]\n",
      "File \u001b[1;32m~\\AppData\\Local\\Packages\\PythonSoftwareFoundation.Python.3.10_qbz5n2kfra8p0\\LocalCache\\local-packages\\Python310\\site-packages\\mysql\\connector\\cursor.py:615\u001b[0m, in \u001b[0;36mMySQLCursor.execute\u001b[1;34m(self, operation, params, multi)\u001b[0m\n\u001b[0;32m    614\u001b[0m \u001b[38;5;28;01mtry\u001b[39;00m:\n\u001b[1;32m--> 615\u001b[0m     \u001b[38;5;28mself\u001b[39m\u001b[38;5;241m.\u001b[39m_handle_result(\u001b[38;5;28;43mself\u001b[39;49m\u001b[38;5;241;43m.\u001b[39;49m\u001b[43m_connection\u001b[49m\u001b[38;5;241;43m.\u001b[39;49m\u001b[43mcmd_query\u001b[49m\u001b[43m(\u001b[49m\u001b[43mstmt\u001b[49m\u001b[43m)\u001b[49m)\n\u001b[0;32m    616\u001b[0m \u001b[38;5;28;01mexcept\u001b[39;00m InterfaceError \u001b[38;5;28;01mas\u001b[39;00m err:\n",
      "File \u001b[1;32m~\\AppData\\Local\\Packages\\PythonSoftwareFoundation.Python.3.10_qbz5n2kfra8p0\\LocalCache\\local-packages\\Python310\\site-packages\\mysql\\connector\\connection.py:1046\u001b[0m, in \u001b[0;36mMySQLConnection.cmd_query\u001b[1;34m(self, query, raw, buffered, raw_as_string)\u001b[0m\n\u001b[0;32m   1045\u001b[0m \u001b[38;5;28;01mtry\u001b[39;00m:\n\u001b[1;32m-> 1046\u001b[0m     result \u001b[38;5;241m=\u001b[39m \u001b[38;5;28mself\u001b[39m\u001b[38;5;241m.\u001b[39m_handle_result(\u001b[38;5;28;43mself\u001b[39;49m\u001b[38;5;241;43m.\u001b[39;49m\u001b[43m_send_cmd\u001b[49m\u001b[43m(\u001b[49m\u001b[43mServerCmd\u001b[49m\u001b[38;5;241;43m.\u001b[39;49m\u001b[43mQUERY\u001b[49m\u001b[43m,\u001b[49m\u001b[43m \u001b[49m\u001b[43mquery\u001b[49m\u001b[43m)\u001b[49m)\n\u001b[0;32m   1047\u001b[0m \u001b[38;5;28;01mexcept\u001b[39;00m ProgrammingError \u001b[38;5;28;01mas\u001b[39;00m err:\n",
      "File \u001b[1;32m~\\AppData\\Local\\Packages\\PythonSoftwareFoundation.Python.3.10_qbz5n2kfra8p0\\LocalCache\\local-packages\\Python310\\site-packages\\mysql\\connector\\connection.py:657\u001b[0m, in \u001b[0;36mMySQLConnection._send_cmd\u001b[1;34m(self, command, argument, packet_number, packet, expect_response, compressed_packet_number)\u001b[0m\n\u001b[0;32m    656\u001b[0m \u001b[38;5;28;01mtry\u001b[39;00m:\n\u001b[1;32m--> 657\u001b[0m     \u001b[38;5;28;43mself\u001b[39;49m\u001b[38;5;241;43m.\u001b[39;49m\u001b[43m_socket\u001b[49m\u001b[38;5;241;43m.\u001b[39;49m\u001b[43msend\u001b[49m\u001b[43m(\u001b[49m\n\u001b[0;32m    658\u001b[0m \u001b[43m        \u001b[49m\u001b[38;5;28;43mself\u001b[39;49m\u001b[38;5;241;43m.\u001b[39;49m\u001b[43m_protocol\u001b[49m\u001b[38;5;241;43m.\u001b[39;49m\u001b[43mmake_command\u001b[49m\u001b[43m(\u001b[49m\u001b[43mcommand\u001b[49m\u001b[43m,\u001b[49m\u001b[43m \u001b[49m\u001b[43mpacket\u001b[49m\u001b[43m \u001b[49m\u001b[38;5;129;43;01mor\u001b[39;49;00m\u001b[43m \u001b[49m\u001b[43margument\u001b[49m\u001b[43m)\u001b[49m\u001b[43m,\u001b[49m\n\u001b[0;32m    659\u001b[0m \u001b[43m        \u001b[49m\u001b[43mpacket_number\u001b[49m\u001b[43m,\u001b[49m\n\u001b[0;32m    660\u001b[0m \u001b[43m        \u001b[49m\u001b[43mcompressed_packet_number\u001b[49m\u001b[43m,\u001b[49m\n\u001b[0;32m    661\u001b[0m \u001b[43m    \u001b[49m\u001b[43m)\u001b[49m\n\u001b[0;32m    662\u001b[0m \u001b[38;5;28;01mexcept\u001b[39;00m \u001b[38;5;167;01mAttributeError\u001b[39;00m \u001b[38;5;28;01mas\u001b[39;00m err:\n",
      "File \u001b[1;32m~\\AppData\\Local\\Packages\\PythonSoftwareFoundation.Python.3.10_qbz5n2kfra8p0\\LocalCache\\local-packages\\Python310\\site-packages\\mysql\\connector\\network.py:172\u001b[0m, in \u001b[0;36mBaseMySQLSocket.send_plain\u001b[1;34m(self, buf, packet_number, compressed_packet_number)\u001b[0m\n\u001b[0;32m    171\u001b[0m \u001b[38;5;28;01mexcept\u001b[39;00m \u001b[38;5;167;01mIOError\u001b[39;00m \u001b[38;5;28;01mas\u001b[39;00m err:\n\u001b[1;32m--> 172\u001b[0m     \u001b[38;5;28;01mraise\u001b[39;00m OperationalError(\n\u001b[0;32m    173\u001b[0m         errno\u001b[38;5;241m=\u001b[39m\u001b[38;5;241m2055\u001b[39m, values\u001b[38;5;241m=\u001b[39m(\u001b[38;5;28mself\u001b[39m\u001b[38;5;241m.\u001b[39mget_address(), _strioerror(err))\n\u001b[0;32m    174\u001b[0m     ) \u001b[38;5;28;01mfrom\u001b[39;00m \u001b[38;5;21;01merr\u001b[39;00m\n\u001b[0;32m    175\u001b[0m \u001b[38;5;28;01mexcept\u001b[39;00m \u001b[38;5;167;01mAttributeError\u001b[39;00m \u001b[38;5;28;01mas\u001b[39;00m err:\n",
      "\u001b[1;31mOperationalError\u001b[0m: 2055: Lost connection to MySQL server at 'localhost:3306', system error: 10038 An operation was attempted on something that is not a socket",
      "\nDuring handling of the above exception, another exception occurred:\n",
      "\u001b[1;31mOSError\u001b[0m                                   Traceback (most recent call last)",
      "File \u001b[1;32m~\\AppData\\Local\\Packages\\PythonSoftwareFoundation.Python.3.10_qbz5n2kfra8p0\\LocalCache\\local-packages\\Python310\\site-packages\\mysql\\connector\\network.py:170\u001b[0m, in \u001b[0;36mBaseMySQLSocket.send_plain\u001b[1;34m(self, buf, packet_number, compressed_packet_number)\u001b[0m\n\u001b[0;32m    169\u001b[0m \u001b[38;5;28;01mtry\u001b[39;00m:\n\u001b[1;32m--> 170\u001b[0m     \u001b[38;5;28;43mself\u001b[39;49m\u001b[38;5;241;43m.\u001b[39;49m\u001b[43msock\u001b[49m\u001b[38;5;241;43m.\u001b[39;49m\u001b[43msendall\u001b[49m\u001b[43m(\u001b[49m\u001b[43mpacket\u001b[49m\u001b[43m)\u001b[49m\n\u001b[0;32m    171\u001b[0m \u001b[38;5;28;01mexcept\u001b[39;00m \u001b[38;5;167;01mIOError\u001b[39;00m \u001b[38;5;28;01mas\u001b[39;00m err:\n",
      "\u001b[1;31mOSError\u001b[0m: [WinError 10038] An operation was attempted on something that is not a socket",
      "\nThe above exception was the direct cause of the following exception:\n",
      "\u001b[1;31mOperationalError\u001b[0m                          Traceback (most recent call last)",
      "Cell \u001b[1;32mIn[13], line 1\u001b[0m\n\u001b[1;32m----> 1\u001b[0m \u001b[43mtransaction\u001b[49m\u001b[43m(\u001b[49m\u001b[38;5;241;43m2\u001b[39;49m\u001b[43m,\u001b[49m\u001b[38;5;241;43m1\u001b[39;49m\u001b[43m,\u001b[49m\u001b[38;5;241;43m54400\u001b[39;49m\u001b[43m)\u001b[49m\n",
      "Cell \u001b[1;32mIn[12], line 37\u001b[0m, in \u001b[0;36mtransaction\u001b[1;34m(sender_id, receiver_id, amount)\u001b[0m\n\u001b[0;32m     10\u001b[0m \u001b[38;5;66;03m#         if amount <= sender_balance:\u001b[39;00m\n\u001b[0;32m     11\u001b[0m             \n\u001b[0;32m     12\u001b[0m \u001b[38;5;66;03m#             # Updating sender balance\u001b[39;00m\n\u001b[1;32m   (...)\u001b[0m\n\u001b[0;32m     33\u001b[0m \u001b[38;5;66;03m#         else:\u001b[39;00m\n\u001b[0;32m     34\u001b[0m \u001b[38;5;66;03m#             print(\"Insufficient funds.\")\u001b[39;00m\n\u001b[0;32m     36\u001b[0m     \u001b[38;5;28;01mexcept\u001b[39;00m \u001b[38;5;167;01mException\u001b[39;00m \u001b[38;5;28;01mas\u001b[39;00m e:\n\u001b[1;32m---> 37\u001b[0m         \u001b[43mconnection\u001b[49m\u001b[38;5;241;43m.\u001b[39;49m\u001b[43mrollback\u001b[49m\u001b[43m(\u001b[49m\u001b[43m)\u001b[49m\n\u001b[0;32m     38\u001b[0m         \u001b[38;5;28mprint\u001b[39m(e)\n",
      "File \u001b[1;32m~\\AppData\\Local\\Packages\\PythonSoftwareFoundation.Python.3.10_qbz5n2kfra8p0\\LocalCache\\local-packages\\Python310\\site-packages\\mysql\\connector\\connection.py:1465\u001b[0m, in \u001b[0;36mMySQLConnection.rollback\u001b[1;34m(self)\u001b[0m\n\u001b[0;32m   1462\u001b[0m \u001b[38;5;28;01mif\u001b[39;00m \u001b[38;5;28mself\u001b[39m\u001b[38;5;241m.\u001b[39munread_result:\n\u001b[0;32m   1463\u001b[0m     \u001b[38;5;28mself\u001b[39m\u001b[38;5;241m.\u001b[39mget_rows()\n\u001b[1;32m-> 1465\u001b[0m \u001b[38;5;28;43mself\u001b[39;49m\u001b[38;5;241;43m.\u001b[39;49m\u001b[43m_execute_query\u001b[49m\u001b[43m(\u001b[49m\u001b[38;5;124;43m\"\u001b[39;49m\u001b[38;5;124;43mROLLBACK\u001b[39;49m\u001b[38;5;124;43m\"\u001b[39;49m\u001b[43m)\u001b[49m\n",
      "File \u001b[1;32m~\\AppData\\Local\\Packages\\PythonSoftwareFoundation.Python.3.10_qbz5n2kfra8p0\\LocalCache\\local-packages\\Python310\\site-packages\\mysql\\connector\\connection.py:1477\u001b[0m, in \u001b[0;36mMySQLConnection._execute_query\u001b[1;34m(self, query)\u001b[0m\n\u001b[0;32m   1468\u001b[0m \u001b[38;5;250m\u001b[39m\u001b[38;5;124;03m\"\"\"Execute a query\u001b[39;00m\n\u001b[0;32m   1469\u001b[0m \n\u001b[0;32m   1470\u001b[0m \u001b[38;5;124;03mThis method simply calls cmd_query() after checking for unread\u001b[39;00m\n\u001b[1;32m   (...)\u001b[0m\n\u001b[0;32m   1474\u001b[0m \u001b[38;5;124;03mReturns a dict()\u001b[39;00m\n\u001b[0;32m   1475\u001b[0m \u001b[38;5;124;03m\"\"\"\u001b[39;00m\n\u001b[0;32m   1476\u001b[0m \u001b[38;5;28mself\u001b[39m\u001b[38;5;241m.\u001b[39mhandle_unread_result()\n\u001b[1;32m-> 1477\u001b[0m \u001b[38;5;28;43mself\u001b[39;49m\u001b[38;5;241;43m.\u001b[39;49m\u001b[43mcmd_query\u001b[49m\u001b[43m(\u001b[49m\u001b[43mquery\u001b[49m\u001b[43m)\u001b[49m\n",
      "File \u001b[1;32m~\\AppData\\Local\\Packages\\PythonSoftwareFoundation.Python.3.10_qbz5n2kfra8p0\\LocalCache\\local-packages\\Python310\\site-packages\\mysql\\connector\\connection.py:1046\u001b[0m, in \u001b[0;36mMySQLConnection.cmd_query\u001b[1;34m(self, query, raw, buffered, raw_as_string)\u001b[0m\n\u001b[0;32m   1044\u001b[0m query \u001b[38;5;241m=\u001b[39m \u001b[38;5;28mbytes\u001b[39m(packet)\n\u001b[0;32m   1045\u001b[0m \u001b[38;5;28;01mtry\u001b[39;00m:\n\u001b[1;32m-> 1046\u001b[0m     result \u001b[38;5;241m=\u001b[39m \u001b[38;5;28mself\u001b[39m\u001b[38;5;241m.\u001b[39m_handle_result(\u001b[38;5;28;43mself\u001b[39;49m\u001b[38;5;241;43m.\u001b[39;49m\u001b[43m_send_cmd\u001b[49m\u001b[43m(\u001b[49m\u001b[43mServerCmd\u001b[49m\u001b[38;5;241;43m.\u001b[39;49m\u001b[43mQUERY\u001b[49m\u001b[43m,\u001b[49m\u001b[43m \u001b[49m\u001b[43mquery\u001b[49m\u001b[43m)\u001b[49m)\n\u001b[0;32m   1047\u001b[0m \u001b[38;5;28;01mexcept\u001b[39;00m ProgrammingError \u001b[38;5;28;01mas\u001b[39;00m err:\n\u001b[0;32m   1048\u001b[0m     \u001b[38;5;28;01mif\u001b[39;00m err\u001b[38;5;241m.\u001b[39merrno \u001b[38;5;241m==\u001b[39m \u001b[38;5;241m3948\u001b[39m \u001b[38;5;129;01mand\u001b[39;00m \u001b[38;5;124m\"\u001b[39m\u001b[38;5;124mLoading local data is disabled\u001b[39m\u001b[38;5;124m\"\u001b[39m \u001b[38;5;129;01min\u001b[39;00m err\u001b[38;5;241m.\u001b[39mmsg:\n",
      "File \u001b[1;32m~\\AppData\\Local\\Packages\\PythonSoftwareFoundation.Python.3.10_qbz5n2kfra8p0\\LocalCache\\local-packages\\Python310\\site-packages\\mysql\\connector\\connection.py:657\u001b[0m, in \u001b[0;36mMySQLConnection._send_cmd\u001b[1;34m(self, command, argument, packet_number, packet, expect_response, compressed_packet_number)\u001b[0m\n\u001b[0;32m    654\u001b[0m \u001b[38;5;28mself\u001b[39m\u001b[38;5;241m.\u001b[39mhandle_unread_result()\n\u001b[0;32m    656\u001b[0m \u001b[38;5;28;01mtry\u001b[39;00m:\n\u001b[1;32m--> 657\u001b[0m     \u001b[38;5;28;43mself\u001b[39;49m\u001b[38;5;241;43m.\u001b[39;49m\u001b[43m_socket\u001b[49m\u001b[38;5;241;43m.\u001b[39;49m\u001b[43msend\u001b[49m\u001b[43m(\u001b[49m\n\u001b[0;32m    658\u001b[0m \u001b[43m        \u001b[49m\u001b[38;5;28;43mself\u001b[39;49m\u001b[38;5;241;43m.\u001b[39;49m\u001b[43m_protocol\u001b[49m\u001b[38;5;241;43m.\u001b[39;49m\u001b[43mmake_command\u001b[49m\u001b[43m(\u001b[49m\u001b[43mcommand\u001b[49m\u001b[43m,\u001b[49m\u001b[43m \u001b[49m\u001b[43mpacket\u001b[49m\u001b[43m \u001b[49m\u001b[38;5;129;43;01mor\u001b[39;49;00m\u001b[43m \u001b[49m\u001b[43margument\u001b[49m\u001b[43m)\u001b[49m\u001b[43m,\u001b[49m\n\u001b[0;32m    659\u001b[0m \u001b[43m        \u001b[49m\u001b[43mpacket_number\u001b[49m\u001b[43m,\u001b[49m\n\u001b[0;32m    660\u001b[0m \u001b[43m        \u001b[49m\u001b[43mcompressed_packet_number\u001b[49m\u001b[43m,\u001b[49m\n\u001b[0;32m    661\u001b[0m \u001b[43m    \u001b[49m\u001b[43m)\u001b[49m\n\u001b[0;32m    662\u001b[0m \u001b[38;5;28;01mexcept\u001b[39;00m \u001b[38;5;167;01mAttributeError\u001b[39;00m \u001b[38;5;28;01mas\u001b[39;00m err:\n\u001b[0;32m    663\u001b[0m     \u001b[38;5;28;01mraise\u001b[39;00m OperationalError(\u001b[38;5;124m\"\u001b[39m\u001b[38;5;124mMySQL Connection not available\u001b[39m\u001b[38;5;124m\"\u001b[39m) \u001b[38;5;28;01mfrom\u001b[39;00m \u001b[38;5;21;01merr\u001b[39;00m\n",
      "File \u001b[1;32m~\\AppData\\Local\\Packages\\PythonSoftwareFoundation.Python.3.10_qbz5n2kfra8p0\\LocalCache\\local-packages\\Python310\\site-packages\\mysql\\connector\\network.py:172\u001b[0m, in \u001b[0;36mBaseMySQLSocket.send_plain\u001b[1;34m(self, buf, packet_number, compressed_packet_number)\u001b[0m\n\u001b[0;32m    170\u001b[0m     \u001b[38;5;28mself\u001b[39m\u001b[38;5;241m.\u001b[39msock\u001b[38;5;241m.\u001b[39msendall(packet)\n\u001b[0;32m    171\u001b[0m \u001b[38;5;28;01mexcept\u001b[39;00m \u001b[38;5;167;01mIOError\u001b[39;00m \u001b[38;5;28;01mas\u001b[39;00m err:\n\u001b[1;32m--> 172\u001b[0m     \u001b[38;5;28;01mraise\u001b[39;00m OperationalError(\n\u001b[0;32m    173\u001b[0m         errno\u001b[38;5;241m=\u001b[39m\u001b[38;5;241m2055\u001b[39m, values\u001b[38;5;241m=\u001b[39m(\u001b[38;5;28mself\u001b[39m\u001b[38;5;241m.\u001b[39mget_address(), _strioerror(err))\n\u001b[0;32m    174\u001b[0m     ) \u001b[38;5;28;01mfrom\u001b[39;00m \u001b[38;5;21;01merr\u001b[39;00m\n\u001b[0;32m    175\u001b[0m \u001b[38;5;28;01mexcept\u001b[39;00m \u001b[38;5;167;01mAttributeError\u001b[39;00m \u001b[38;5;28;01mas\u001b[39;00m err:\n\u001b[0;32m    176\u001b[0m     \u001b[38;5;28;01mraise\u001b[39;00m OperationalError(errno\u001b[38;5;241m=\u001b[39m\u001b[38;5;241m2006\u001b[39m) \u001b[38;5;28;01mfrom\u001b[39;00m \u001b[38;5;21;01merr\u001b[39;00m\n",
      "\u001b[1;31mOperationalError\u001b[0m: 2055: Lost connection to MySQL server at 'localhost:3306', system error: 10038 An operation was attempted on something that is not a socket"
     ]
    }
   ],
   "source": [
    "transaction(2,1,54400)"
   ]
  },
  {
   "cell_type": "code",
   "execution_count": 14,
   "id": "5defd5ea",
   "metadata": {},
   "outputs": [
    {
     "ename": "OperationalError",
     "evalue": "2055: Lost connection to MySQL server at 'localhost:3306', system error: 10038 An operation was attempted on something that is not a socket",
     "output_type": "error",
     "traceback": [
      "\u001b[1;31m---------------------------------------------------------------------------\u001b[0m",
      "\u001b[1;31mOSError\u001b[0m                                   Traceback (most recent call last)",
      "File \u001b[1;32m~\\AppData\\Local\\Packages\\PythonSoftwareFoundation.Python.3.10_qbz5n2kfra8p0\\LocalCache\\local-packages\\Python310\\site-packages\\mysql\\connector\\network.py:170\u001b[0m, in \u001b[0;36mBaseMySQLSocket.send_plain\u001b[1;34m(self, buf, packet_number, compressed_packet_number)\u001b[0m\n\u001b[0;32m    169\u001b[0m \u001b[38;5;28;01mtry\u001b[39;00m:\n\u001b[1;32m--> 170\u001b[0m     \u001b[38;5;28;43mself\u001b[39;49m\u001b[38;5;241;43m.\u001b[39;49m\u001b[43msock\u001b[49m\u001b[38;5;241;43m.\u001b[39;49m\u001b[43msendall\u001b[49m\u001b[43m(\u001b[49m\u001b[43mpacket\u001b[49m\u001b[43m)\u001b[49m\n\u001b[0;32m    171\u001b[0m \u001b[38;5;28;01mexcept\u001b[39;00m \u001b[38;5;167;01mIOError\u001b[39;00m \u001b[38;5;28;01mas\u001b[39;00m err:\n",
      "\u001b[1;31mOSError\u001b[0m: [WinError 10038] An operation was attempted on something that is not a socket",
      "\nThe above exception was the direct cause of the following exception:\n",
      "\u001b[1;31mOperationalError\u001b[0m                          Traceback (most recent call last)",
      "Cell \u001b[1;32mIn[12], line 3\u001b[0m, in \u001b[0;36mtransaction\u001b[1;34m(sender_id, receiver_id, amount)\u001b[0m\n\u001b[0;32m      2\u001b[0m \u001b[38;5;28;01mtry\u001b[39;00m:\n\u001b[1;32m----> 3\u001b[0m     \u001b[43mcursor\u001b[49m\u001b[38;5;241;43m.\u001b[39;49m\u001b[43mexecute\u001b[49m\u001b[43m(\u001b[49m\u001b[38;5;124;43m\"\u001b[39;49m\u001b[38;5;124;43mSELECT balance FROM customers WHERE id = \u001b[39;49m\u001b[38;5;132;43;01m%s\u001b[39;49;00m\u001b[38;5;124;43m;\u001b[39;49m\u001b[38;5;124;43m\"\u001b[39;49m\u001b[43m,\u001b[49m\u001b[43m(\u001b[49m\u001b[43msender_id\u001b[49m\u001b[43m,\u001b[49m\u001b[43m)\u001b[49m\u001b[43m)\u001b[49m\n\u001b[0;32m      4\u001b[0m     sender_balance \u001b[38;5;241m=\u001b[39m cursor\u001b[38;5;241m.\u001b[39mfetchone()[\u001b[38;5;241m0\u001b[39m]\n",
      "File \u001b[1;32m~\\AppData\\Local\\Packages\\PythonSoftwareFoundation.Python.3.10_qbz5n2kfra8p0\\LocalCache\\local-packages\\Python310\\site-packages\\mysql\\connector\\cursor.py:615\u001b[0m, in \u001b[0;36mMySQLCursor.execute\u001b[1;34m(self, operation, params, multi)\u001b[0m\n\u001b[0;32m    614\u001b[0m \u001b[38;5;28;01mtry\u001b[39;00m:\n\u001b[1;32m--> 615\u001b[0m     \u001b[38;5;28mself\u001b[39m\u001b[38;5;241m.\u001b[39m_handle_result(\u001b[38;5;28;43mself\u001b[39;49m\u001b[38;5;241;43m.\u001b[39;49m\u001b[43m_connection\u001b[49m\u001b[38;5;241;43m.\u001b[39;49m\u001b[43mcmd_query\u001b[49m\u001b[43m(\u001b[49m\u001b[43mstmt\u001b[49m\u001b[43m)\u001b[49m)\n\u001b[0;32m    616\u001b[0m \u001b[38;5;28;01mexcept\u001b[39;00m InterfaceError \u001b[38;5;28;01mas\u001b[39;00m err:\n",
      "File \u001b[1;32m~\\AppData\\Local\\Packages\\PythonSoftwareFoundation.Python.3.10_qbz5n2kfra8p0\\LocalCache\\local-packages\\Python310\\site-packages\\mysql\\connector\\connection.py:1046\u001b[0m, in \u001b[0;36mMySQLConnection.cmd_query\u001b[1;34m(self, query, raw, buffered, raw_as_string)\u001b[0m\n\u001b[0;32m   1045\u001b[0m \u001b[38;5;28;01mtry\u001b[39;00m:\n\u001b[1;32m-> 1046\u001b[0m     result \u001b[38;5;241m=\u001b[39m \u001b[38;5;28mself\u001b[39m\u001b[38;5;241m.\u001b[39m_handle_result(\u001b[38;5;28;43mself\u001b[39;49m\u001b[38;5;241;43m.\u001b[39;49m\u001b[43m_send_cmd\u001b[49m\u001b[43m(\u001b[49m\u001b[43mServerCmd\u001b[49m\u001b[38;5;241;43m.\u001b[39;49m\u001b[43mQUERY\u001b[49m\u001b[43m,\u001b[49m\u001b[43m \u001b[49m\u001b[43mquery\u001b[49m\u001b[43m)\u001b[49m)\n\u001b[0;32m   1047\u001b[0m \u001b[38;5;28;01mexcept\u001b[39;00m ProgrammingError \u001b[38;5;28;01mas\u001b[39;00m err:\n",
      "File \u001b[1;32m~\\AppData\\Local\\Packages\\PythonSoftwareFoundation.Python.3.10_qbz5n2kfra8p0\\LocalCache\\local-packages\\Python310\\site-packages\\mysql\\connector\\connection.py:657\u001b[0m, in \u001b[0;36mMySQLConnection._send_cmd\u001b[1;34m(self, command, argument, packet_number, packet, expect_response, compressed_packet_number)\u001b[0m\n\u001b[0;32m    656\u001b[0m \u001b[38;5;28;01mtry\u001b[39;00m:\n\u001b[1;32m--> 657\u001b[0m     \u001b[38;5;28;43mself\u001b[39;49m\u001b[38;5;241;43m.\u001b[39;49m\u001b[43m_socket\u001b[49m\u001b[38;5;241;43m.\u001b[39;49m\u001b[43msend\u001b[49m\u001b[43m(\u001b[49m\n\u001b[0;32m    658\u001b[0m \u001b[43m        \u001b[49m\u001b[38;5;28;43mself\u001b[39;49m\u001b[38;5;241;43m.\u001b[39;49m\u001b[43m_protocol\u001b[49m\u001b[38;5;241;43m.\u001b[39;49m\u001b[43mmake_command\u001b[49m\u001b[43m(\u001b[49m\u001b[43mcommand\u001b[49m\u001b[43m,\u001b[49m\u001b[43m \u001b[49m\u001b[43mpacket\u001b[49m\u001b[43m \u001b[49m\u001b[38;5;129;43;01mor\u001b[39;49;00m\u001b[43m \u001b[49m\u001b[43margument\u001b[49m\u001b[43m)\u001b[49m\u001b[43m,\u001b[49m\n\u001b[0;32m    659\u001b[0m \u001b[43m        \u001b[49m\u001b[43mpacket_number\u001b[49m\u001b[43m,\u001b[49m\n\u001b[0;32m    660\u001b[0m \u001b[43m        \u001b[49m\u001b[43mcompressed_packet_number\u001b[49m\u001b[43m,\u001b[49m\n\u001b[0;32m    661\u001b[0m \u001b[43m    \u001b[49m\u001b[43m)\u001b[49m\n\u001b[0;32m    662\u001b[0m \u001b[38;5;28;01mexcept\u001b[39;00m \u001b[38;5;167;01mAttributeError\u001b[39;00m \u001b[38;5;28;01mas\u001b[39;00m err:\n",
      "File \u001b[1;32m~\\AppData\\Local\\Packages\\PythonSoftwareFoundation.Python.3.10_qbz5n2kfra8p0\\LocalCache\\local-packages\\Python310\\site-packages\\mysql\\connector\\network.py:172\u001b[0m, in \u001b[0;36mBaseMySQLSocket.send_plain\u001b[1;34m(self, buf, packet_number, compressed_packet_number)\u001b[0m\n\u001b[0;32m    171\u001b[0m \u001b[38;5;28;01mexcept\u001b[39;00m \u001b[38;5;167;01mIOError\u001b[39;00m \u001b[38;5;28;01mas\u001b[39;00m err:\n\u001b[1;32m--> 172\u001b[0m     \u001b[38;5;28;01mraise\u001b[39;00m OperationalError(\n\u001b[0;32m    173\u001b[0m         errno\u001b[38;5;241m=\u001b[39m\u001b[38;5;241m2055\u001b[39m, values\u001b[38;5;241m=\u001b[39m(\u001b[38;5;28mself\u001b[39m\u001b[38;5;241m.\u001b[39mget_address(), _strioerror(err))\n\u001b[0;32m    174\u001b[0m     ) \u001b[38;5;28;01mfrom\u001b[39;00m \u001b[38;5;21;01merr\u001b[39;00m\n\u001b[0;32m    175\u001b[0m \u001b[38;5;28;01mexcept\u001b[39;00m \u001b[38;5;167;01mAttributeError\u001b[39;00m \u001b[38;5;28;01mas\u001b[39;00m err:\n",
      "\u001b[1;31mOperationalError\u001b[0m: 2055: Lost connection to MySQL server at 'localhost:3306', system error: 10038 An operation was attempted on something that is not a socket",
      "\nDuring handling of the above exception, another exception occurred:\n",
      "\u001b[1;31mOSError\u001b[0m                                   Traceback (most recent call last)",
      "File \u001b[1;32m~\\AppData\\Local\\Packages\\PythonSoftwareFoundation.Python.3.10_qbz5n2kfra8p0\\LocalCache\\local-packages\\Python310\\site-packages\\mysql\\connector\\network.py:170\u001b[0m, in \u001b[0;36mBaseMySQLSocket.send_plain\u001b[1;34m(self, buf, packet_number, compressed_packet_number)\u001b[0m\n\u001b[0;32m    169\u001b[0m \u001b[38;5;28;01mtry\u001b[39;00m:\n\u001b[1;32m--> 170\u001b[0m     \u001b[38;5;28;43mself\u001b[39;49m\u001b[38;5;241;43m.\u001b[39;49m\u001b[43msock\u001b[49m\u001b[38;5;241;43m.\u001b[39;49m\u001b[43msendall\u001b[49m\u001b[43m(\u001b[49m\u001b[43mpacket\u001b[49m\u001b[43m)\u001b[49m\n\u001b[0;32m    171\u001b[0m \u001b[38;5;28;01mexcept\u001b[39;00m \u001b[38;5;167;01mIOError\u001b[39;00m \u001b[38;5;28;01mas\u001b[39;00m err:\n",
      "\u001b[1;31mOSError\u001b[0m: [WinError 10038] An operation was attempted on something that is not a socket",
      "\nThe above exception was the direct cause of the following exception:\n",
      "\u001b[1;31mOperationalError\u001b[0m                          Traceback (most recent call last)",
      "Cell \u001b[1;32mIn[14], line 1\u001b[0m\n\u001b[1;32m----> 1\u001b[0m \u001b[43mtransaction\u001b[49m\u001b[43m(\u001b[49m\u001b[38;5;241;43m1\u001b[39;49m\u001b[43m,\u001b[49m\u001b[38;5;241;43m3\u001b[39;49m\u001b[43m,\u001b[49m\u001b[38;5;241;43m40000\u001b[39;49m\u001b[43m)\u001b[49m\n",
      "Cell \u001b[1;32mIn[12], line 37\u001b[0m, in \u001b[0;36mtransaction\u001b[1;34m(sender_id, receiver_id, amount)\u001b[0m\n\u001b[0;32m     10\u001b[0m \u001b[38;5;66;03m#         if amount <= sender_balance:\u001b[39;00m\n\u001b[0;32m     11\u001b[0m             \n\u001b[0;32m     12\u001b[0m \u001b[38;5;66;03m#             # Updating sender balance\u001b[39;00m\n\u001b[1;32m   (...)\u001b[0m\n\u001b[0;32m     33\u001b[0m \u001b[38;5;66;03m#         else:\u001b[39;00m\n\u001b[0;32m     34\u001b[0m \u001b[38;5;66;03m#             print(\"Insufficient funds.\")\u001b[39;00m\n\u001b[0;32m     36\u001b[0m     \u001b[38;5;28;01mexcept\u001b[39;00m \u001b[38;5;167;01mException\u001b[39;00m \u001b[38;5;28;01mas\u001b[39;00m e:\n\u001b[1;32m---> 37\u001b[0m         \u001b[43mconnection\u001b[49m\u001b[38;5;241;43m.\u001b[39;49m\u001b[43mrollback\u001b[49m\u001b[43m(\u001b[49m\u001b[43m)\u001b[49m\n\u001b[0;32m     38\u001b[0m         \u001b[38;5;28mprint\u001b[39m(e)\n",
      "File \u001b[1;32m~\\AppData\\Local\\Packages\\PythonSoftwareFoundation.Python.3.10_qbz5n2kfra8p0\\LocalCache\\local-packages\\Python310\\site-packages\\mysql\\connector\\connection.py:1465\u001b[0m, in \u001b[0;36mMySQLConnection.rollback\u001b[1;34m(self)\u001b[0m\n\u001b[0;32m   1462\u001b[0m \u001b[38;5;28;01mif\u001b[39;00m \u001b[38;5;28mself\u001b[39m\u001b[38;5;241m.\u001b[39munread_result:\n\u001b[0;32m   1463\u001b[0m     \u001b[38;5;28mself\u001b[39m\u001b[38;5;241m.\u001b[39mget_rows()\n\u001b[1;32m-> 1465\u001b[0m \u001b[38;5;28;43mself\u001b[39;49m\u001b[38;5;241;43m.\u001b[39;49m\u001b[43m_execute_query\u001b[49m\u001b[43m(\u001b[49m\u001b[38;5;124;43m\"\u001b[39;49m\u001b[38;5;124;43mROLLBACK\u001b[39;49m\u001b[38;5;124;43m\"\u001b[39;49m\u001b[43m)\u001b[49m\n",
      "File \u001b[1;32m~\\AppData\\Local\\Packages\\PythonSoftwareFoundation.Python.3.10_qbz5n2kfra8p0\\LocalCache\\local-packages\\Python310\\site-packages\\mysql\\connector\\connection.py:1477\u001b[0m, in \u001b[0;36mMySQLConnection._execute_query\u001b[1;34m(self, query)\u001b[0m\n\u001b[0;32m   1468\u001b[0m \u001b[38;5;250m\u001b[39m\u001b[38;5;124;03m\"\"\"Execute a query\u001b[39;00m\n\u001b[0;32m   1469\u001b[0m \n\u001b[0;32m   1470\u001b[0m \u001b[38;5;124;03mThis method simply calls cmd_query() after checking for unread\u001b[39;00m\n\u001b[1;32m   (...)\u001b[0m\n\u001b[0;32m   1474\u001b[0m \u001b[38;5;124;03mReturns a dict()\u001b[39;00m\n\u001b[0;32m   1475\u001b[0m \u001b[38;5;124;03m\"\"\"\u001b[39;00m\n\u001b[0;32m   1476\u001b[0m \u001b[38;5;28mself\u001b[39m\u001b[38;5;241m.\u001b[39mhandle_unread_result()\n\u001b[1;32m-> 1477\u001b[0m \u001b[38;5;28;43mself\u001b[39;49m\u001b[38;5;241;43m.\u001b[39;49m\u001b[43mcmd_query\u001b[49m\u001b[43m(\u001b[49m\u001b[43mquery\u001b[49m\u001b[43m)\u001b[49m\n",
      "File \u001b[1;32m~\\AppData\\Local\\Packages\\PythonSoftwareFoundation.Python.3.10_qbz5n2kfra8p0\\LocalCache\\local-packages\\Python310\\site-packages\\mysql\\connector\\connection.py:1046\u001b[0m, in \u001b[0;36mMySQLConnection.cmd_query\u001b[1;34m(self, query, raw, buffered, raw_as_string)\u001b[0m\n\u001b[0;32m   1044\u001b[0m query \u001b[38;5;241m=\u001b[39m \u001b[38;5;28mbytes\u001b[39m(packet)\n\u001b[0;32m   1045\u001b[0m \u001b[38;5;28;01mtry\u001b[39;00m:\n\u001b[1;32m-> 1046\u001b[0m     result \u001b[38;5;241m=\u001b[39m \u001b[38;5;28mself\u001b[39m\u001b[38;5;241m.\u001b[39m_handle_result(\u001b[38;5;28;43mself\u001b[39;49m\u001b[38;5;241;43m.\u001b[39;49m\u001b[43m_send_cmd\u001b[49m\u001b[43m(\u001b[49m\u001b[43mServerCmd\u001b[49m\u001b[38;5;241;43m.\u001b[39;49m\u001b[43mQUERY\u001b[49m\u001b[43m,\u001b[49m\u001b[43m \u001b[49m\u001b[43mquery\u001b[49m\u001b[43m)\u001b[49m)\n\u001b[0;32m   1047\u001b[0m \u001b[38;5;28;01mexcept\u001b[39;00m ProgrammingError \u001b[38;5;28;01mas\u001b[39;00m err:\n\u001b[0;32m   1048\u001b[0m     \u001b[38;5;28;01mif\u001b[39;00m err\u001b[38;5;241m.\u001b[39merrno \u001b[38;5;241m==\u001b[39m \u001b[38;5;241m3948\u001b[39m \u001b[38;5;129;01mand\u001b[39;00m \u001b[38;5;124m\"\u001b[39m\u001b[38;5;124mLoading local data is disabled\u001b[39m\u001b[38;5;124m\"\u001b[39m \u001b[38;5;129;01min\u001b[39;00m err\u001b[38;5;241m.\u001b[39mmsg:\n",
      "File \u001b[1;32m~\\AppData\\Local\\Packages\\PythonSoftwareFoundation.Python.3.10_qbz5n2kfra8p0\\LocalCache\\local-packages\\Python310\\site-packages\\mysql\\connector\\connection.py:657\u001b[0m, in \u001b[0;36mMySQLConnection._send_cmd\u001b[1;34m(self, command, argument, packet_number, packet, expect_response, compressed_packet_number)\u001b[0m\n\u001b[0;32m    654\u001b[0m \u001b[38;5;28mself\u001b[39m\u001b[38;5;241m.\u001b[39mhandle_unread_result()\n\u001b[0;32m    656\u001b[0m \u001b[38;5;28;01mtry\u001b[39;00m:\n\u001b[1;32m--> 657\u001b[0m     \u001b[38;5;28;43mself\u001b[39;49m\u001b[38;5;241;43m.\u001b[39;49m\u001b[43m_socket\u001b[49m\u001b[38;5;241;43m.\u001b[39;49m\u001b[43msend\u001b[49m\u001b[43m(\u001b[49m\n\u001b[0;32m    658\u001b[0m \u001b[43m        \u001b[49m\u001b[38;5;28;43mself\u001b[39;49m\u001b[38;5;241;43m.\u001b[39;49m\u001b[43m_protocol\u001b[49m\u001b[38;5;241;43m.\u001b[39;49m\u001b[43mmake_command\u001b[49m\u001b[43m(\u001b[49m\u001b[43mcommand\u001b[49m\u001b[43m,\u001b[49m\u001b[43m \u001b[49m\u001b[43mpacket\u001b[49m\u001b[43m \u001b[49m\u001b[38;5;129;43;01mor\u001b[39;49;00m\u001b[43m \u001b[49m\u001b[43margument\u001b[49m\u001b[43m)\u001b[49m\u001b[43m,\u001b[49m\n\u001b[0;32m    659\u001b[0m \u001b[43m        \u001b[49m\u001b[43mpacket_number\u001b[49m\u001b[43m,\u001b[49m\n\u001b[0;32m    660\u001b[0m \u001b[43m        \u001b[49m\u001b[43mcompressed_packet_number\u001b[49m\u001b[43m,\u001b[49m\n\u001b[0;32m    661\u001b[0m \u001b[43m    \u001b[49m\u001b[43m)\u001b[49m\n\u001b[0;32m    662\u001b[0m \u001b[38;5;28;01mexcept\u001b[39;00m \u001b[38;5;167;01mAttributeError\u001b[39;00m \u001b[38;5;28;01mas\u001b[39;00m err:\n\u001b[0;32m    663\u001b[0m     \u001b[38;5;28;01mraise\u001b[39;00m OperationalError(\u001b[38;5;124m\"\u001b[39m\u001b[38;5;124mMySQL Connection not available\u001b[39m\u001b[38;5;124m\"\u001b[39m) \u001b[38;5;28;01mfrom\u001b[39;00m \u001b[38;5;21;01merr\u001b[39;00m\n",
      "File \u001b[1;32m~\\AppData\\Local\\Packages\\PythonSoftwareFoundation.Python.3.10_qbz5n2kfra8p0\\LocalCache\\local-packages\\Python310\\site-packages\\mysql\\connector\\network.py:172\u001b[0m, in \u001b[0;36mBaseMySQLSocket.send_plain\u001b[1;34m(self, buf, packet_number, compressed_packet_number)\u001b[0m\n\u001b[0;32m    170\u001b[0m     \u001b[38;5;28mself\u001b[39m\u001b[38;5;241m.\u001b[39msock\u001b[38;5;241m.\u001b[39msendall(packet)\n\u001b[0;32m    171\u001b[0m \u001b[38;5;28;01mexcept\u001b[39;00m \u001b[38;5;167;01mIOError\u001b[39;00m \u001b[38;5;28;01mas\u001b[39;00m err:\n\u001b[1;32m--> 172\u001b[0m     \u001b[38;5;28;01mraise\u001b[39;00m OperationalError(\n\u001b[0;32m    173\u001b[0m         errno\u001b[38;5;241m=\u001b[39m\u001b[38;5;241m2055\u001b[39m, values\u001b[38;5;241m=\u001b[39m(\u001b[38;5;28mself\u001b[39m\u001b[38;5;241m.\u001b[39mget_address(), _strioerror(err))\n\u001b[0;32m    174\u001b[0m     ) \u001b[38;5;28;01mfrom\u001b[39;00m \u001b[38;5;21;01merr\u001b[39;00m\n\u001b[0;32m    175\u001b[0m \u001b[38;5;28;01mexcept\u001b[39;00m \u001b[38;5;167;01mAttributeError\u001b[39;00m \u001b[38;5;28;01mas\u001b[39;00m err:\n\u001b[0;32m    176\u001b[0m     \u001b[38;5;28;01mraise\u001b[39;00m OperationalError(errno\u001b[38;5;241m=\u001b[39m\u001b[38;5;241m2006\u001b[39m) \u001b[38;5;28;01mfrom\u001b[39;00m \u001b[38;5;21;01merr\u001b[39;00m\n",
      "\u001b[1;31mOperationalError\u001b[0m: 2055: Lost connection to MySQL server at 'localhost:3306', system error: 10038 An operation was attempted on something that is not a socket"
     ]
    }
   ],
   "source": [
    "transaction(1,3,40000)"
   ]
  },
  {
   "cell_type": "markdown",
   "id": "59f42a19",
   "metadata": {},
   "source": [
    "### Closing connection"
   ]
  },
  {
   "cell_type": "code",
   "execution_count": 9,
   "id": "fafc836d",
   "metadata": {},
   "outputs": [],
   "source": [
    "connection.close()"
   ]
  },
  {
   "cell_type": "markdown",
   "id": "79317332",
   "metadata": {},
   "source": [
    "# 2. **Task: Order Processing**\n",
    "You are developing an online shopping platform.\n",
    "Create a SQL transaction that updates the inventory of products when a customer places an order.\n",
    "Deduct the ordered quantity from the product stock and update the order status.\n",
    "If any part of the transaction fails (e.g., insufficient stock), roll back the changes to ensure consistent data."
   ]
  },
  {
   "cell_type": "markdown",
   "id": "29887af3",
   "metadata": {},
   "source": [
    "### Establishing connection to MySQL"
   ]
  },
  {
   "cell_type": "code",
   "execution_count": 234,
   "id": "05dc0c1b",
   "metadata": {},
   "outputs": [],
   "source": [
    "connection = mysql.connector.connect(user='root',\n",
    "                              password='',\n",
    "                              host='localhost',\n",
    "                              database='online_shop')"
   ]
  },
  {
   "cell_type": "markdown",
   "id": "5e6a17b9",
   "metadata": {},
   "source": [
    "### Creating a cursor object"
   ]
  },
  {
   "cell_type": "code",
   "execution_count": 235,
   "id": "785cc07b",
   "metadata": {},
   "outputs": [],
   "source": [
    "cursor = connection.cursor()"
   ]
  },
  {
   "cell_type": "markdown",
   "id": "b6aa3a96",
   "metadata": {},
   "source": [
    "### Creating tables"
   ]
  },
  {
   "cell_type": "code",
   "execution_count": 220,
   "id": "91c2826c",
   "metadata": {},
   "outputs": [],
   "source": [
    "customers_table = (\"\"\"\n",
    "CREATE TABLE customers (\n",
    "    id INT AUTO_INCREMENT PRIMARY KEY,\n",
    "    name VARCHAR(50),\n",
    "    surname VARCHAR(50)\n",
    "    );\n",
    "\"\"\")\n",
    "\n",
    "products_table = (\"\"\"\n",
    "CREATE TABLE products (\n",
    "    id INT AUTO_INCREMENT PRIMARY KEY,\n",
    "    name VARCHAR(50),\n",
    "    price FLOAT,\n",
    "    amount INT\n",
    "    );\n",
    "\"\"\")\n",
    "\n",
    "orders_table = (\"\"\"\n",
    "CREATE TABLE orders (\n",
    "    id INT AUTO_INCREMENT PRIMARY KEY,\n",
    "    customer_id INT,\n",
    "    product_id INT,\n",
    "    amount INT,\n",
    "    status VARCHAR(50)\n",
    "    );\n",
    "\"\"\")\n",
    "\n",
    "cursor.execute(customers_table)\n",
    "cursor.execute(products_table)\n",
    "cursor.execute(orders_table)"
   ]
  },
  {
   "cell_type": "markdown",
   "id": "cd3e5739",
   "metadata": {},
   "source": [
    "### Inserting values into tables"
   ]
  },
  {
   "cell_type": "code",
   "execution_count": 222,
   "id": "3de5bb7a",
   "metadata": {},
   "outputs": [],
   "source": [
    "cursor.execute(\"\"\"\n",
    "INSERT INTO customers (\n",
    "    name, surname\n",
    "    ) VALUES                  \n",
    "        (\"Johny\", \"Bravo\"),\n",
    "        (\"Michael\", \"Keaton\"),\n",
    "        (\"Philip\", \"Smith\"),\n",
    "        (\"Jack\", \"Bing\"),\n",
    "        (\"Velma\", \"Vellington\");\n",
    "\"\"\")\n",
    "cursor.execute(\"\"\"\n",
    "INSERT INTO products (\n",
    "    name, price, amount\n",
    "    ) VALUES                  \n",
    "        (\"Phone\", 489.9, 15),\n",
    "        (\"PC\", 780, 10),\n",
    "        (\"Desk\", 220.5, 100),\n",
    "        (\"Chair\", 150, 150),\n",
    "        (\"Tablet\", 359.2, 45);\n",
    "\"\"\")"
   ]
  },
  {
   "cell_type": "code",
   "execution_count": 223,
   "id": "080fc903",
   "metadata": {},
   "outputs": [],
   "source": [
    "connection.commit()"
   ]
  },
  {
   "cell_type": "markdown",
   "id": "5a5b2377",
   "metadata": {},
   "source": [
    "### Transaction:"
   ]
  },
  {
   "cell_type": "code",
   "execution_count": 236,
   "id": "5fe87526",
   "metadata": {},
   "outputs": [],
   "source": [
    "def order (customer_id:int,product_id:int,amount:int):\n",
    "    try:\n",
    "        cursor.execute(\"SELECT amount FROM products WHERE id = %s;\",(product_id,))\n",
    "        product_amount = cursor.fetchone()[0]\n",
    "        \n",
    "        print(f\"Product amount:\",product_amount)\n",
    "        print(f\"Amount to be sold:\",amount)\n",
    "        \n",
    "        # Updating orders table\n",
    "        cursor.execute(\"INSERT INTO orders (customer_id, product_id, amount, status) VALUES (%s,%s,%s,'pending')\",(customer_id, product_id, amount))\n",
    "        \n",
    "        if amount <= product_amount:\n",
    "            \n",
    "            # Updating products stock\n",
    "            product_amount -= amount\n",
    "            cursor.execute(\"UPDATE products SET amount = %s WHERE id = %s;\",(product_amount, product_id,))\n",
    "            \n",
    "            # Updating orders table\n",
    "            cursor.execute(\"UPDATE orders SET status = 'complete' WHERE id = LAST_INSERT_ID()\")  \n",
    "\n",
    "            # Commiting changes\n",
    "            connection.commit()\n",
    "            print(f\"Products amount after order:\",product_amount)\n",
    "        \n",
    "        else:\n",
    "            print(\"Insufficient product stock.\")\n",
    "            #Updating orders table\n",
    "            cursor.execute(\"UPDATE orders SET status = 'rejected' WHERE id = LAST_INSERT_ID()\")\n",
    "            # Commiting changes\n",
    "            connection.commit()\n",
    "       \n",
    "    except Exception as e:\n",
    "        connection.rollback()\n",
    "        print(e)"
   ]
  },
  {
   "cell_type": "code",
   "execution_count": 237,
   "id": "5a523a6f",
   "metadata": {},
   "outputs": [
    {
     "name": "stdout",
     "output_type": "stream",
     "text": [
      "Product amount: 3\n",
      "Amount to be sold: 20\n",
      "Insufficient product stock.\n"
     ]
    }
   ],
   "source": [
    "order(1,1,20)"
   ]
  },
  {
   "cell_type": "code",
   "execution_count": 238,
   "id": "da935bba",
   "metadata": {},
   "outputs": [
    {
     "name": "stdout",
     "output_type": "stream",
     "text": [
      "Product amount: 3\n",
      "Amount to be sold: 12\n",
      "Insufficient product stock.\n"
     ]
    }
   ],
   "source": [
    "order(3,1,12)"
   ]
  },
  {
   "cell_type": "code",
   "execution_count": 239,
   "id": "d87d875d",
   "metadata": {},
   "outputs": [
    {
     "name": "stdout",
     "output_type": "stream",
     "text": [
      "Product amount: 98\n",
      "Amount to be sold: 2\n",
      "Products amount after order: 96\n"
     ]
    }
   ],
   "source": [
    "order(2,3,2)"
   ]
  },
  {
   "cell_type": "markdown",
   "id": "f99ae6d3",
   "metadata": {},
   "source": [
    "### Closing connection"
   ]
  },
  {
   "cell_type": "code",
   "execution_count": 233,
   "id": "18408fc5",
   "metadata": {},
   "outputs": [],
   "source": [
    "connection.close()"
   ]
  },
  {
   "cell_type": "markdown",
   "id": "c4f9ceff",
   "metadata": {},
   "source": [
    "# 3. **Task: Employee Salary Adjustment**\n",
    "Your HR department needs to apply a salary adjustment to all employees based on their performance.\n",
    "Design a SQL transaction that updates the salary of each employee with the corresponding adjustment and logs the changes. If there is any issue while updating salaries, roll back the changes to maintain the previous salary data."
   ]
  },
  {
   "cell_type": "markdown",
   "id": "36f8713f",
   "metadata": {},
   "source": [
    "### Establishing connection to MySQL"
   ]
  },
  {
   "cell_type": "code",
   "execution_count": 187,
   "id": "664e9632",
   "metadata": {},
   "outputs": [],
   "source": [
    "connection = mysql.connector.connect(user='root',\n",
    "                              password='',\n",
    "                              host='localhost',\n",
    "                              database='employee_salaries')"
   ]
  },
  {
   "cell_type": "markdown",
   "id": "0f56c623",
   "metadata": {},
   "source": [
    "### Creating a cursor object"
   ]
  },
  {
   "cell_type": "code",
   "execution_count": 188,
   "id": "96789e1c",
   "metadata": {},
   "outputs": [],
   "source": [
    "cursor = connection.cursor()"
   ]
  },
  {
   "cell_type": "markdown",
   "id": "5a732705",
   "metadata": {},
   "source": [
    "### Creating tables"
   ]
  },
  {
   "cell_type": "code",
   "execution_count": 190,
   "id": "76760689",
   "metadata": {},
   "outputs": [],
   "source": [
    "employees_table = (\"\"\"\n",
    "CREATE TABLE employees (\n",
    "    id INT AUTO_INCREMENT PRIMARY KEY,\n",
    "    name VARCHAR(50),\n",
    "    surname VARCHAR(50),\n",
    "    salary INT\n",
    "    );\n",
    "\"\"\")\n",
    "\n",
    "salary_adjustment_table = (\"\"\"\n",
    "CREATE TABLE salary_adjustments (\n",
    "    id INT AUTO_INCREMENT PRIMARY KEY,\n",
    "    employee_id INT,\n",
    "    salary_adjustment INT,\n",
    "    timestamp TIMESTAMP\n",
    "    );\n",
    "\"\"\")\n",
    "\n",
    "cursor.execute(employees_table)\n",
    "cursor.execute(salary_adjustment_table)"
   ]
  },
  {
   "cell_type": "markdown",
   "id": "203d5afd",
   "metadata": {},
   "source": [
    "### Inserting values into tables"
   ]
  },
  {
   "cell_type": "code",
   "execution_count": 191,
   "id": "7180832d",
   "metadata": {},
   "outputs": [],
   "source": [
    "cursor.execute(\"\"\"\n",
    "INSERT INTO employees (\n",
    "    name, surname, salary\n",
    "    ) VALUES                  \n",
    "        (\"Johny\", \"Bravo\", 1000),\n",
    "        (\"Michael\", \"Keaton\", 850),\n",
    "        (\"Philip\", \"Smith\", 1250),\n",
    "        (\"Jack\", \"Bing\", 2200),\n",
    "        (\"Velma\", \"Vellington\", 600);\n",
    "\"\"\")"
   ]
  },
  {
   "cell_type": "code",
   "execution_count": 205,
   "id": "f3ba7318",
   "metadata": {},
   "outputs": [],
   "source": [
    "connection.commit()"
   ]
  },
  {
   "cell_type": "markdown",
   "id": "dbb522d1",
   "metadata": {},
   "source": [
    "### Transaction:"
   ]
  },
  {
   "cell_type": "code",
   "execution_count": 203,
   "id": "dd6fdf74",
   "metadata": {},
   "outputs": [],
   "source": [
    "def salary (employee_id:int,salary_adjustment:int):\n",
    "    try:\n",
    "        cursor.execute(\"SELECT salary FROM employees WHERE id = %s;\",(employee_id,))\n",
    "        employee_salary = cursor.fetchone()[0]\n",
    "        \n",
    "        print(f\"Employee:\",employee_id)\n",
    "        print(f\"Salary before adjustment:\",employee_salary)\n",
    "        \n",
    "        # Updating salary adjustments table\n",
    "        cursor.execute(\"INSERT INTO salary_adjustments (employee_id, salary_adjustment) VALUES (%s,%s)\",(employee_id, salary_adjustment))  \n",
    "        # Commiting changes\n",
    "        connection.commit()\n",
    "\n",
    "        # Updating employees table\n",
    "        employee_salary += salary_adjustment\n",
    "        cursor.execute(\"UPDATE employees SET salary = %s WHERE id = %s\",(employee_salary,employee_id))  \n",
    "\n",
    "        # Commiting changes\n",
    "        connection.commit()\n",
    "        print(f\"New salary:\",employee_salary)\n",
    "       \n",
    "    except Exception as e:\n",
    "        connection.rollback()\n",
    "        print(e)"
   ]
  },
  {
   "cell_type": "code",
   "execution_count": 204,
   "id": "033940cb",
   "metadata": {},
   "outputs": [
    {
     "name": "stdout",
     "output_type": "stream",
     "text": [
      "Employee: 3\n",
      "Salary before adjustment: 1200\n",
      "New salary: 1150\n"
     ]
    }
   ],
   "source": [
    "salary(3,-50)"
   ]
  },
  {
   "cell_type": "code",
   "execution_count": 177,
   "id": "ad1e0430",
   "metadata": {},
   "outputs": [
    {
     "name": "stdout",
     "output_type": "stream",
     "text": [
      "Chosen seat: 2\n",
      "Seat availability: reserved\n",
      "Reservation declined. Seat is occupied.\n"
     ]
    }
   ],
   "source": [
    "seat_reservation(3,2)"
   ]
  },
  {
   "cell_type": "markdown",
   "id": "bcdf8fec",
   "metadata": {},
   "source": [
    "### Closing connection"
   ]
  },
  {
   "cell_type": "code",
   "execution_count": 178,
   "id": "4c8ef669",
   "metadata": {},
   "outputs": [],
   "source": [
    "connection.close()"
   ]
  },
  {
   "cell_type": "markdown",
   "id": "5157b102",
   "metadata": {},
   "source": [
    "# 4. **Task: Flight Reservation**\n",
    "You are building a flight reservation system. Create a SQL transaction that reserves a seat for a passenger on a flight.\n",
    "Deduct the seat availability, update the reservation record, and log the booking details.\n",
    "If any part of the transaction fails (e.g., seat already taken), roll back the changes and notify the user of the failure."
   ]
  },
  {
   "cell_type": "markdown",
   "id": "fa4f0031",
   "metadata": {},
   "source": [
    "### Establishing connection to MySQL"
   ]
  },
  {
   "cell_type": "code",
   "execution_count": 155,
   "id": "30e6bf23",
   "metadata": {},
   "outputs": [],
   "source": [
    "connection = mysql.connector.connect(user='root',\n",
    "                              password='',\n",
    "                              host='localhost',\n",
    "                              database='seats_reservations')"
   ]
  },
  {
   "cell_type": "markdown",
   "id": "a6ae1fb4",
   "metadata": {},
   "source": [
    "### Creating a cursor object"
   ]
  },
  {
   "cell_type": "code",
   "execution_count": 156,
   "id": "a7464dbf",
   "metadata": {},
   "outputs": [],
   "source": [
    "cursor = connection.cursor()"
   ]
  },
  {
   "cell_type": "markdown",
   "id": "9f719d81",
   "metadata": {},
   "source": [
    "### Creating tables"
   ]
  },
  {
   "cell_type": "code",
   "execution_count": 157,
   "id": "6413a9ec",
   "metadata": {},
   "outputs": [],
   "source": [
    "passengers_table = (\"\"\"\n",
    "CREATE TABLE passengers (\n",
    "    id INT AUTO_INCREMENT PRIMARY KEY,\n",
    "    name VARCHAR(50),\n",
    "    surname VARCHAR(50)\n",
    "    );\n",
    "\"\"\")\n",
    "\n",
    "seats_table = (\"\"\"\n",
    "CREATE TABLE seats (\n",
    "    seat_number INT AUTO_INCREMENT PRIMARY KEY,\n",
    "    availability VARCHAR(50)\n",
    "    );\n",
    "\"\"\")\n",
    "\n",
    "reservations_table = (\"\"\"\n",
    "CREATE TABLE reservations (\n",
    "    id INT AUTO_INCREMENT PRIMARY KEY,\n",
    "    passenger_id INT,\n",
    "    seat_number INT,\n",
    "    status VARCHAR(50)\n",
    "    );\n",
    "\"\"\")\n",
    "\n",
    "cursor.execute(passengers_table)\n",
    "cursor.execute(seats_table)\n",
    "cursor.execute(reservations_table)"
   ]
  },
  {
   "cell_type": "markdown",
   "id": "14ad26a5",
   "metadata": {},
   "source": [
    "### Inserting values into tables"
   ]
  },
  {
   "cell_type": "code",
   "execution_count": 158,
   "id": "a7636fa9",
   "metadata": {},
   "outputs": [],
   "source": [
    "cursor.execute(\"\"\"\n",
    "INSERT INTO passengers (\n",
    "    name, surname\n",
    "    ) VALUES                  \n",
    "        (\"Johny\", \"Bravo\"),\n",
    "        (\"Michael\", \"Keaton\"),\n",
    "        (\"Philip\", \"Smith\"),\n",
    "        (\"Jack\", \"Bing\"),\n",
    "        (\"Velma\", \"Vellington\");\n",
    "\"\"\")\n",
    "for i in range(50):\n",
    "    cursor.execute(\"\"\"\n",
    "    INSERT INTO seats (\n",
    "        seat_number, availability\n",
    "        ) VALUES                  \n",
    "            (%s, 'open');\n",
    "    \"\"\",(i+1,))\n",
    "    i += 1"
   ]
  },
  {
   "cell_type": "code",
   "execution_count": 206,
   "id": "25762b16",
   "metadata": {},
   "outputs": [],
   "source": [
    "connection.commit()"
   ]
  },
  {
   "cell_type": "markdown",
   "id": "1e260116",
   "metadata": {},
   "source": [
    "### Transaction:"
   ]
  },
  {
   "cell_type": "code",
   "execution_count": 174,
   "id": "f6277757",
   "metadata": {},
   "outputs": [],
   "source": [
    "def seat_reservation (passenger_id:int,seat_number:int):\n",
    "    try:\n",
    "        cursor.execute(\"SELECT seat_number,availability FROM seats WHERE seat_number = %s;\",(seat_number,))\n",
    "        seat_availability = cursor.fetchone()[1]\n",
    "        \n",
    "        print(f\"Chosen seat:\",seat_number)\n",
    "        print(f\"Seat availability:\",seat_availability)\n",
    "        \n",
    "        # Updating reservations table\n",
    "        cursor.execute(\"INSERT INTO reservations (passenger_id, seat_number, status) VALUES (%s,%s,'pending')\",(passenger_id, seat_number))  \n",
    "        # Commiting changes\n",
    "        connection.commit()\n",
    "            \n",
    "        if seat_availability == 'open':\n",
    "            \n",
    "            # Updating seats table\n",
    "            seat_availability = 'reserved'\n",
    "            cursor.execute(\"UPDATE seats SET availability = %s WHERE seat_number = %s;\",(seat_availability, seat_number,))\n",
    "            \n",
    "            # Updating reservations table\n",
    "            cursor.execute(\"UPDATE reservations SET status = 'successful' WHERE id = LAST_INSERT_ID()\")  \n",
    "\n",
    "            # Commiting changes\n",
    "            connection.commit()\n",
    "            print(f\"Reservation successful\")\n",
    "        \n",
    "        else:\n",
    "            print(\"Reservation declined. Seat is occupied.\")\n",
    "            #Updating reservations table\n",
    "            cursor.execute(\"UPDATE reservations SET status = 'declined' WHERE id = LAST_INSERT_ID()\")\n",
    "            # Commiting changes\n",
    "            connection.commit()\n",
    "       \n",
    "    except Exception as e:\n",
    "        connection.rollback()\n",
    "        print(e)"
   ]
  },
  {
   "cell_type": "code",
   "execution_count": 176,
   "id": "278dbec6",
   "metadata": {},
   "outputs": [
    {
     "name": "stdout",
     "output_type": "stream",
     "text": [
      "Chosen seat: 2\n",
      "Seat availability: reserved\n",
      "Reservation declined. Seat is occupied.\n"
     ]
    }
   ],
   "source": [
    "seat_reservation(2,2)"
   ]
  },
  {
   "cell_type": "code",
   "execution_count": 177,
   "id": "06f5fcae",
   "metadata": {},
   "outputs": [
    {
     "name": "stdout",
     "output_type": "stream",
     "text": [
      "Chosen seat: 2\n",
      "Seat availability: reserved\n",
      "Reservation declined. Seat is occupied.\n"
     ]
    }
   ],
   "source": [
    "seat_reservation(3,2)"
   ]
  },
  {
   "cell_type": "markdown",
   "id": "94d35827",
   "metadata": {},
   "source": [
    "### Closing connection"
   ]
  },
  {
   "cell_type": "code",
   "execution_count": 178,
   "id": "503a8fb2",
   "metadata": {},
   "outputs": [],
   "source": [
    "connection.close()"
   ]
  },
  {
   "cell_type": "markdown",
   "id": "dc42789c",
   "metadata": {},
   "source": [
    "# 5. **Task: Product Returns**\n",
    "You are developing an e-commerce platform. Implement a SQL transaction to process product returns initiated by customers.\n",
    "Update the product's return status, refund the customer's payment, and log the return details.\n",
    "If any part of the transaction fails (e.g., invalid return request), roll back the changes and handle the error gracefully."
   ]
  },
  {
   "cell_type": "markdown",
   "id": "6710a4b7",
   "metadata": {},
   "source": [
    "### Establishing connection to already created database in MySQL"
   ]
  },
  {
   "cell_type": "code",
   "execution_count": 302,
   "id": "dc43aa2d",
   "metadata": {},
   "outputs": [],
   "source": [
    "connection = mysql.connector.connect(user='root',\n",
    "                              password='',\n",
    "                              host='localhost',\n",
    "                              database='online_shop')"
   ]
  },
  {
   "cell_type": "markdown",
   "id": "e1a5d6b0",
   "metadata": {},
   "source": [
    "### Creating a cursor object"
   ]
  },
  {
   "cell_type": "code",
   "execution_count": 303,
   "id": "d5b26e02",
   "metadata": {},
   "outputs": [],
   "source": [
    "cursor = connection.cursor(buffered=True)"
   ]
  },
  {
   "cell_type": "markdown",
   "id": "a9da0146",
   "metadata": {},
   "source": [
    "### Creating new table"
   ]
  },
  {
   "cell_type": "code",
   "execution_count": 332,
   "id": "18c47814",
   "metadata": {},
   "outputs": [],
   "source": [
    "returns_table = (\"\"\"\n",
    "CREATE TABLE returns (\n",
    "    id INT AUTO_INCREMENT PRIMARY KEY,\n",
    "    customer_id INT,\n",
    "    product_id INT,\n",
    "    amount INT,\n",
    "    refund FLOAT,\n",
    "    status VARCHAR(50)\n",
    "    );\n",
    "\"\"\")\n",
    "\n",
    "cursor.execute(returns_table)"
   ]
  },
  {
   "cell_type": "code",
   "execution_count": 333,
   "id": "2c1350ba",
   "metadata": {},
   "outputs": [],
   "source": [
    "connection.commit()"
   ]
  },
  {
   "cell_type": "markdown",
   "id": "6e882a6a",
   "metadata": {},
   "source": [
    "### Transaction:"
   ]
  },
  {
   "cell_type": "code",
   "execution_count": 367,
   "id": "821ea180",
   "metadata": {},
   "outputs": [],
   "source": [
    "def return_product (customer_id:int,product_id:int,amount:int):\n",
    "    try:\n",
    "        cursor.execute(\"SELECT id, amount, status FROM orders WHERE customer_id = %s AND product_id = %s AND status = 'complete';\",(customer_id, product_id,))\n",
    "        results = cursor.fetchone()\n",
    "        \n",
    "        order_id = results[0]\n",
    "        products_sold = results[1]\n",
    "        order_status = results[2]\n",
    "\n",
    "        cursor.execute(\"SELECT price, amount FROM products WHERE id = %s;\",(product_id,))\n",
    "        results_products = cursor.fetchone()\n",
    "        refund = results_products[0] * products_sold\n",
    "        products_in_store = results_products[1]\n",
    "\n",
    "        print(f\"Customer:\",customer_id)        \n",
    "        print(f\"Product identification of the product to be returned:\",product_id,\". Amount:\",amount)\n",
    "        print(f\"Refund:\",refund)\n",
    "        \n",
    "        # Updating returns table\n",
    "        cursor.execute(\"INSERT INTO returns (customer_id, product_id, amount, refund, status) VALUES (%s,%s,%s,%s,'pending')\",(customer_id, product_id, amount, refund))\n",
    "        \n",
    "        if order_status == 'complete':\n",
    "            \n",
    "            if amount <= products_sold:    \n",
    "                \n",
    "                # Updating products stock\n",
    "                products_in_store += amount\n",
    "                cursor.execute(\"UPDATE products SET amount = %s WHERE id = %s;\",(products_in_store, product_id,))\n",
    "\n",
    "                # Updating orders table\n",
    "                cursor.execute(\"UPDATE returns SET status = 'refunded' WHERE id = LAST_INSERT_ID()\")  \n",
    "\n",
    "                # Commiting changes\n",
    "                connection.commit()\n",
    "                print(\"Product return completed. Products amount in store after return: \",products_in_store)  \n",
    "                \n",
    "            else:\n",
    "                print(\"Return declined. Too many products asked to be returned.\")\n",
    "        \n",
    "        else:\n",
    "            print(\"Return declined. No such order was completed.\")\n",
    "            #Updating returns table\n",
    "            cursor.execute(\"UPDATE returns SET status = 'rejected' WHERE id = LAST_INSERT_ID()\")\n",
    "            # Commiting changes\n",
    "            connection.commit()\n",
    "       \n",
    "    except Exception as e:\n",
    "        connection.rollback()\n",
    "        print(\"Return declined. No such order was completed.\")"
   ]
  },
  {
   "cell_type": "code",
   "execution_count": 368,
   "id": "88887288",
   "metadata": {},
   "outputs": [
    {
     "name": "stdout",
     "output_type": "stream",
     "text": [
      "Return declined. No such order was completed.\n"
     ]
    }
   ],
   "source": [
    "return_product(1,1,5)"
   ]
  },
  {
   "cell_type": "code",
   "execution_count": 364,
   "id": "f9ecf8a5",
   "metadata": {},
   "outputs": [
    {
     "name": "stdout",
     "output_type": "stream",
     "text": [
      "Customer: 2\n",
      "Product identification of the product to be returned: 3 . Amount: 1\n",
      "Refund: 441.0\n",
      "Product return completed. Products amount in store after return:  98\n"
     ]
    }
   ],
   "source": [
    "return_product(2,3,1)"
   ]
  },
  {
   "cell_type": "markdown",
   "id": "f144d071",
   "metadata": {},
   "source": [
    "### Closing connection"
   ]
  },
  {
   "cell_type": "code",
   "execution_count": 369,
   "id": "06beeec7",
   "metadata": {},
   "outputs": [],
   "source": [
    "connection.close()"
   ]
  },
  {
   "cell_type": "markdown",
   "id": "f951084a",
   "metadata": {},
   "source": [
    "# 6. **Task: Student Enrollment**\n",
    "Design a SQL transaction to handle the enrollment of new students in a university.\n",
    "Update the student enrollment records, assign courses, and update the tuition fee payment status. \n",
    "If any part of the transaction fails (e.g., course limit reached), roll back the changes to ensure no invalid enrollments are recorded."
   ]
  },
  {
   "cell_type": "markdown",
   "id": "741af7ef",
   "metadata": {},
   "source": [
    "### Establishing connection to MySQL"
   ]
  },
  {
   "cell_type": "code",
   "execution_count": 371,
   "id": "c9710296",
   "metadata": {},
   "outputs": [],
   "source": [
    "connection = mysql.connector.connect(user='root',\n",
    "                              password='',\n",
    "                              host='localhost',\n",
    "                              database='university')"
   ]
  },
  {
   "cell_type": "markdown",
   "id": "d6b90bac",
   "metadata": {},
   "source": [
    "### Creating a cursor object"
   ]
  },
  {
   "cell_type": "code",
   "execution_count": 372,
   "id": "54da3378",
   "metadata": {},
   "outputs": [],
   "source": [
    "cursor = connection.cursor()"
   ]
  },
  {
   "cell_type": "markdown",
   "id": "794bca82",
   "metadata": {},
   "source": [
    "### Creating tables"
   ]
  },
  {
   "cell_type": "code",
   "execution_count": 378,
   "id": "1748add6",
   "metadata": {},
   "outputs": [],
   "source": [
    "students_table = (\"\"\"\n",
    "CREATE TABLE students (\n",
    "    id INT AUTO_INCREMENT PRIMARY KEY,\n",
    "    name VARCHAR(50),\n",
    "    surname VARCHAR(50),\n",
    "    courses_enrolled INT DEFAULT 0,\n",
    "    tuition_fee INT DEFAULT 0\n",
    "    );\n",
    "\"\"\")\n",
    "\n",
    "courses_table = (\"\"\"\n",
    "CREATE TABLE courses (\n",
    "    id INT AUTO_INCREMENT PRIMARY KEY,\n",
    "    name VARCHAR(50),\n",
    "    price INT\n",
    "    );\n",
    "\"\"\")\n",
    "\n",
    "students_courses_table = (\"\"\"\n",
    "CREATE TABLE students_courses (\n",
    "    id INT AUTO_INCREMENT PRIMARY KEY,\n",
    "    student_id INT,\n",
    "    course_id INT\n",
    "    );\n",
    "\"\"\")\n",
    "\n",
    "cursor.execute(students_table)\n",
    "cursor.execute(courses_table)\n",
    "cursor.execute(students_courses_table)"
   ]
  },
  {
   "cell_type": "markdown",
   "id": "eadd1de5",
   "metadata": {},
   "source": [
    "### Inserting values into tables"
   ]
  },
  {
   "cell_type": "code",
   "execution_count": 382,
   "id": "bb6edb8b",
   "metadata": {},
   "outputs": [],
   "source": [
    "cursor.execute(\"\"\"\n",
    "INSERT INTO students (\n",
    "    name, surname\n",
    "    ) VALUES                  \n",
    "        (\"Johny\", \"Bravo\"),\n",
    "        (\"Michael\", \"Keaton\"),\n",
    "        (\"Philip\", \"Smith\"),\n",
    "        (\"Jack\", \"Bing\"),\n",
    "        (\"Velma\", \"Vellington\");\n",
    "\"\"\")\n",
    "\n",
    "cursor.execute(\"\"\"\n",
    "INSERT INTO courses (\n",
    "    name, price\n",
    "    ) VALUES                  \n",
    "        (\"English\", 400),\n",
    "        (\"Math\", 650),\n",
    "        (\"Physics\", 780),\n",
    "        (\"Spanish\", 200),\n",
    "        (\"Chemistry\", 770),\n",
    "        (\"Computer Science\", 510),\n",
    "        (\"Biology\", 620);\n",
    "\"\"\")"
   ]
  },
  {
   "cell_type": "code",
   "execution_count": 383,
   "id": "6f24d6d1",
   "metadata": {},
   "outputs": [],
   "source": [
    "connection.commit()"
   ]
  },
  {
   "cell_type": "markdown",
   "id": "0a4e9af1",
   "metadata": {},
   "source": [
    "### Transaction:"
   ]
  },
  {
   "cell_type": "code",
   "execution_count": 442,
   "id": "f416c1d7",
   "metadata": {},
   "outputs": [],
   "source": [
    "def update_student_courses (student_id:int,courses_list:list):\n",
    "    try:\n",
    "        cursor.execute(\"SELECT courses_enrolled FROM students WHERE id = %s;\",(student_id,))\n",
    "        courses_enrolled = cursor.fetchone()[0]\n",
    "        courses_count = len(courses_list)\n",
    "        \n",
    "        if (courses_enrolled + courses_count) <= 4:\n",
    "            tuition_fee = 0\n",
    "            for course in courses_list:\n",
    "                cursor.execute(\"INSERT INTO students_courses (student_id, course_id) VALUES (%s,%s)\",(student_id, course,))\n",
    "                cursor.execute(\"SELECT price FROM courses WHERE id = %s;\",(course,))\n",
    "                tuition_fee += cursor.fetchone()[0]\n",
    "\n",
    "            # Updating students table\n",
    "            cursor.execute(\"UPDATE students SET courses_enrolled = %s , tuition_fee = %s WHERE id = %s;\",(courses_count, tuition_fee,student_id))\n",
    "\n",
    "            # Commiting changes\n",
    "            connection.commit()\n",
    "            print(\"Student successfuly enrolled to courses.\")\n",
    "\n",
    "        else: \n",
    "            print(\"Enrollment failed: Too many courses were chosen. LIMIT is 4.\")\n",
    "   \n",
    "    except Exception as e:\n",
    "        connection.rollback()\n",
    "        print(f\"Course update failed:{e}\")\n",
    "        \n",
    "def student_enrollment (name:str,surname:str,courses_list:list):\n",
    "    try:\n",
    "        courses_count = len(courses_list)\n",
    "        if courses_count <= 4:\n",
    "            # Updating students table\n",
    "            cursor.execute(\"INSERT INTO students (name, surname) VALUES (%s,%s)\",(name, surname))\n",
    "            connection.commit()\n",
    "\n",
    "            # Checking for student_id\n",
    "            cursor.execute(\"SELECT LAST_INSERT_ID()\")\n",
    "            student_id = cursor.fetchone()[0]\n",
    "\n",
    "            update_student_courses(student_id,courses_list)\n",
    "        else: \n",
    "            print(\"Enrollment failed: Too many courses were chosen. LIMIT is 4.\")\n",
    "            \n",
    "    except Exception as e:\n",
    "        connection.rollback()\n",
    "        print(f\"Enrollment failed:{e}\")"
   ]
  },
  {
   "cell_type": "code",
   "execution_count": 435,
   "id": "aeba37b9",
   "metadata": {},
   "outputs": [
    {
     "name": "stdout",
     "output_type": "stream",
     "text": [
      "Student successfuly enrolled to courses.\n"
     ]
    }
   ],
   "source": [
    "student_enrollment(\"Johny\",\"Bravo\",[1,2,3])"
   ]
  },
  {
   "cell_type": "code",
   "execution_count": 445,
   "id": "4987ef06",
   "metadata": {},
   "outputs": [
    {
     "name": "stdout",
     "output_type": "stream",
     "text": [
      "Student successfuly enrolled to courses.\n"
     ]
    }
   ],
   "source": [
    "student_enrollment(\"Linda\",\"Bold\",[5,2,4])"
   ]
  },
  {
   "cell_type": "code",
   "execution_count": 446,
   "id": "59beabb8",
   "metadata": {},
   "outputs": [
    {
     "name": "stdout",
     "output_type": "stream",
     "text": [
      "Enrollment failed: Too many courses were chosen. LIMIT is 4.\n"
     ]
    }
   ],
   "source": [
    "update_student_courses(2,[3,6,1])"
   ]
  },
  {
   "cell_type": "code",
   "execution_count": 447,
   "id": "54959ee4",
   "metadata": {},
   "outputs": [
    {
     "name": "stdout",
     "output_type": "stream",
     "text": [
      "Student successfuly enrolled to courses.\n"
     ]
    }
   ],
   "source": [
    "update_student_courses(2,[1])"
   ]
  },
  {
   "cell_type": "markdown",
   "id": "8d5a6e14",
   "metadata": {},
   "source": [
    "### Closing connection"
   ]
  },
  {
   "cell_type": "code",
   "execution_count": 178,
   "id": "4fc94edb",
   "metadata": {},
   "outputs": [],
   "source": [
    "connection.close()"
   ]
  }
 ],
 "metadata": {
  "kernelspec": {
   "display_name": "Python 3 (ipykernel)",
   "language": "python",
   "name": "python3"
  },
  "language_info": {
   "codemirror_mode": {
    "name": "ipython",
    "version": 3
   },
   "file_extension": ".py",
   "mimetype": "text/x-python",
   "name": "python",
   "nbconvert_exporter": "python",
   "pygments_lexer": "ipython3",
   "version": "3.10.11"
  }
 },
 "nbformat": 4,
 "nbformat_minor": 5
}
